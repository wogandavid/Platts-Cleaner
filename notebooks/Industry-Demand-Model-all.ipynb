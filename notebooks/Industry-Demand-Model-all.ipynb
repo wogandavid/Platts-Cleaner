{
 "cells": [
  {
   "cell_type": "markdown",
   "metadata": {},
   "source": [
    "# Industry Demand Model\n",
    "\n",
    "This is the Industry energy demand model. The input data files are for each sub-sector and from the macro model. The model uses Prophet to generate predictions for each economy and fuel. \n",
    "\n",
    "It predicts demands for all sub-sectors.\n",
    "\n",
    "You can adjust the fuels you are predicting.\n",
    "\n",
    "You can also add or remove 'features', e.g., GDP, population, GDP per capita, ln(GDP per capita), etc."
   ]
  },
  {
   "cell_type": "code",
   "execution_count": null,
   "metadata": {},
   "outputs": [],
   "source": [
    "import numpy as np\n",
    "import pandas as pd\n",
    "from pandas.tseries.offsets import MonthEnd\n",
    "from fbprophet import Prophet"
   ]
  },
  {
   "cell_type": "markdown",
   "metadata": {},
   "source": [
    "## 1. Import data and process the data"
   ]
  },
  {
   "cell_type": "code",
   "execution_count": null,
   "metadata": {},
   "outputs": [],
   "source": [
    "# read in historical production data for each sub-sector\n",
    "\n",
    "df_steel = pd.read_csv('../data/raw/Industry/SteelHistorical.csv',index_col=['Economy','Year'])\n",
    "\n",
    "df_cement = pd.read_excel('../data/raw/Industry/02_Cement.xlsx', usecols='A,L:AL')"
   ]
  },
  {
   "cell_type": "code",
   "execution_count": null,
   "metadata": {},
   "outputs": [],
   "source": [
    "df_steel.columns= ['Steel']"
   ]
  },
  {
   "cell_type": "code",
   "execution_count": null,
   "metadata": {},
   "outputs": [],
   "source": [
    "df_cement.head()"
   ]
  },
  {
   "cell_type": "code",
   "execution_count": null,
   "metadata": {},
   "outputs": [],
   "source": [
    "# the tables need to be reformatted (tidy) so they can be merged together:\n",
    "\n",
    "df = pd.melt(df_cement, id_vars=['Economy'], var_name='Year',value_name='Cement')\n",
    "df = df.set_index(['Economy','Year'])\n",
    "df.head()"
   ]
  },
  {
   "cell_type": "code",
   "execution_count": null,
   "metadata": {},
   "outputs": [],
   "source": [
    "df_historical = pd.merge(df_steel,df,how='outer',on=['Economy','Year'])"
   ]
  },
  {
   "cell_type": "code",
   "execution_count": null,
   "metadata": {},
   "outputs": [],
   "source": [
    "df_historical.info()"
   ]
  },
  {
   "cell_type": "code",
   "execution_count": null,
   "metadata": {},
   "outputs": [],
   "source": [
    "df_historical.head()"
   ]
  },
  {
   "cell_type": "code",
   "execution_count": null,
   "metadata": {},
   "outputs": [],
   "source": [
    "# get list of sub-sectors\n",
    "\n",
    "subsectors = df_historical.columns.unique()\n",
    "subsectors_tuple = tuple(subsectors)"
   ]
  },
  {
   "cell_type": "code",
   "execution_count": null,
   "metadata": {},
   "outputs": [],
   "source": [
    "# check that it worked\n",
    "\n",
    "subsectors"
   ]
  },
  {
   "cell_type": "code",
   "execution_count": null,
   "metadata": {},
   "outputs": [],
   "source": [
    "# this is the historical macro data\n",
    "\n",
    "df_macro = pd.read_csv('../data/raw/Industry/MacroHistorical.csv',\n",
    "                       index_col=['Economy','Year'])\n",
    "df_macro"
   ]
  },
  {
   "cell_type": "code",
   "execution_count": null,
   "metadata": {},
   "outputs": [],
   "source": [
    "# combine the Industry data and macro data\n",
    "\n",
    "df_hist = pd.merge(df_historical,df_macro,how='left',on=['Economy','Year'])"
   ]
  },
  {
   "cell_type": "code",
   "execution_count": null,
   "metadata": {},
   "outputs": [],
   "source": [
    "df_hist.head()"
   ]
  },
  {
   "cell_type": "code",
   "execution_count": null,
   "metadata": {},
   "outputs": [],
   "source": [
    "df_hist.info()"
   ]
  },
  {
   "cell_type": "markdown",
   "metadata": {},
   "source": [
    "## BIG ASSUMPTIONS in the next cell:"
   ]
  },
  {
   "cell_type": "code",
   "execution_count": null,
   "metadata": {},
   "outputs": [],
   "source": [
    "# there are some missing values (NaN)\n",
    "# Check the data to see if they should be zero, or replaced with a better number\n",
    "# choosing to replace them for now:\n",
    "\n",
    "df_hist['Cement'] = df_hist['Cement'].fillna(method='backfill')\n",
    "df_hist['Cement'] = df_hist['Cement'].fillna(method='ffill')"
   ]
  },
  {
   "cell_type": "code",
   "execution_count": null,
   "metadata": {},
   "outputs": [],
   "source": [
    "# check that it worked\n",
    "# Brunei:\n",
    "\n",
    "df_hist.info()"
   ]
  },
  {
   "cell_type": "code",
   "execution_count": null,
   "metadata": {},
   "outputs": [],
   "source": [
    "# add the YYYY-MM-12 column format for Prophet\n",
    "\n",
    "df_hist = df_hist.reset_index(level='Year')\n",
    "df_hist['ds'] = pd.to_datetime(df_hist['Year'], format=\"%Y\") + MonthEnd(12)"
   ]
  },
  {
   "cell_type": "code",
   "execution_count": null,
   "metadata": {},
   "outputs": [],
   "source": [
    "df_hist.head()"
   ]
  },
  {
   "cell_type": "code",
   "execution_count": null,
   "metadata": {},
   "outputs": [],
   "source": [
    "df_hist.tail()"
   ]
  },
  {
   "cell_type": "code",
   "execution_count": null,
   "metadata": {},
   "outputs": [],
   "source": [
    "# get a list of economies\n",
    "\n",
    "economies = df_hist.index.unique()\n",
    "economies"
   ]
  },
  {
   "cell_type": "markdown",
   "metadata": {},
   "source": [
    "#### create features"
   ]
  },
  {
   "cell_type": "code",
   "execution_count": null,
   "metadata": {},
   "outputs": [],
   "source": [
    "df_hist['GDP per capita'] = df_hist['GDP'].div(df_hist['Population'])\n",
    "df_hist['feature_ln_GDP_per_cap'] = np.log(df_hist['GDP per capita'])"
   ]
  },
  {
   "cell_type": "markdown",
   "metadata": {},
   "source": [
    "#### create targets"
   ]
  },
  {
   "cell_type": "code",
   "execution_count": null,
   "metadata": {},
   "outputs": [],
   "source": [
    "list_of_targets = []\n",
    "for sub in subsectors_tuple:\n",
    "    df_hist['target_percap'] = df_hist[sub].div(df_hist['Population'])\n",
    "    newcolname = ('target_ln_percap_'+ sub)\n",
    "    df_hist[newcolname] = np.log(df_hist['target_percap'])\n",
    "    df_hist = df_hist.drop(columns='target_percap')\n",
    "    list_of_targets.append(newcolname)"
   ]
  },
  {
   "cell_type": "markdown",
   "metadata": {},
   "source": [
    "#### make list of targets"
   ]
  },
  {
   "cell_type": "code",
   "execution_count": null,
   "metadata": {},
   "outputs": [],
   "source": [
    "# these are the sub-sectors we will predict\n",
    "# the tuple is required so that looping works\n",
    "\n",
    "list_of_targets\n",
    "targets = tuple(list_of_targets)\n",
    "\n",
    "# use this to change the names to sub-sectors at the end\n",
    "subsector_dict = dict(zip(list_of_targets,subsectors))"
   ]
  },
  {
   "cell_type": "code",
   "execution_count": null,
   "metadata": {},
   "outputs": [],
   "source": [
    "# check that it worked\n",
    "\n",
    "subsector_dict"
   ]
  },
  {
   "cell_type": "code",
   "execution_count": null,
   "metadata": {},
   "outputs": [],
   "source": [
    "# check that 'GDP per capita', 'ln GDP per capita', 'target per capita', 'target ln per capita for steel', and 'target ln per capita for cement'\n",
    "# are in the big dataframe called df_hist\n",
    "\n",
    "df_hist.head()"
   ]
  },
  {
   "cell_type": "markdown",
   "metadata": {},
   "source": [
    "#### Prepare future data"
   ]
  },
  {
   "cell_type": "code",
   "execution_count": null,
   "metadata": {},
   "outputs": [],
   "source": [
    "df_future_macro = pd.read_csv('../data/raw/Industry/MacroAssumptions.csv',\n",
    "                              index_col=['Economy'])\n",
    "df_future_macro['ds'] = pd.to_datetime(df_future_macro['Year'], format=\"%Y\") + MonthEnd(12)\n",
    "df_future_macro.head()"
   ]
  },
  {
   "cell_type": "code",
   "execution_count": null,
   "metadata": {},
   "outputs": [],
   "source": [
    "df_future_macro.tail()"
   ]
  },
  {
   "cell_type": "code",
   "execution_count": null,
   "metadata": {},
   "outputs": [],
   "source": [
    "# create the same feature as in the historical dataset:\n",
    "# ln of GDP per capita\n",
    "\n",
    "df_future_macro['GDP per capita'] = df_future_macro['GDP'].div(df_future_macro['Population'])\n",
    "df_future_macro['feature_ln_GDP_per_cap'] = np.log(df_future_macro['GDP per capita'])"
   ]
  },
  {
   "cell_type": "code",
   "execution_count": null,
   "metadata": {},
   "outputs": [],
   "source": [
    "# check that it worked:\n",
    "\n",
    "df_future_macro.head()"
   ]
  },
  {
   "cell_type": "code",
   "execution_count": null,
   "metadata": {},
   "outputs": [],
   "source": [
    "df_future_macro.tail()"
   ]
  },
  {
   "cell_type": "code",
   "execution_count": null,
   "metadata": {},
   "outputs": [],
   "source": [
    "# combine the historical and future data\n",
    "\n",
    "df_big = pd.concat([df_hist,df_future_macro], sort=False)"
   ]
  },
  {
   "cell_type": "code",
   "execution_count": null,
   "metadata": {},
   "outputs": [],
   "source": [
    "# check that it worked:\n",
    "\n",
    "df_big.head()"
   ]
  },
  {
   "cell_type": "code",
   "execution_count": null,
   "metadata": {},
   "outputs": [],
   "source": [
    "df_big.tail()"
   ]
  },
  {
   "cell_type": "code",
   "execution_count": null,
   "metadata": {},
   "outputs": [],
   "source": [
    "df_big.info()"
   ]
  },
  {
   "cell_type": "markdown",
   "metadata": {},
   "source": [
    "#### Split data in to training, testing, and prediction sets:"
   ]
  },
  {
   "cell_type": "code",
   "execution_count": null,
   "metadata": {},
   "outputs": [],
   "source": [
    "# update to have a training dataset (instead of 1990-2016)\n",
    "\n",
    "df_train = df_big[df_big['Year']<=2016]"
   ]
  },
  {
   "cell_type": "code",
   "execution_count": null,
   "metadata": {},
   "outputs": [],
   "source": [
    "# check that the last year is correct (should be 2016)\n",
    "\n",
    "df_train.loc['01_AUS'].tail()"
   ]
  },
  {
   "cell_type": "code",
   "execution_count": null,
   "metadata": {},
   "outputs": [],
   "source": [
    "# make a dataset from 1990-2050 for predictions\n",
    "\n",
    "df_predict = df_big.drop(columns=subsectors).drop(columns='Year')"
   ]
  },
  {
   "cell_type": "code",
   "execution_count": null,
   "metadata": {},
   "outputs": [],
   "source": [
    "# check that it worked\n",
    "\n",
    "df_predict.loc['01_AUS'].head()"
   ]
  },
  {
   "cell_type": "code",
   "execution_count": null,
   "metadata": {},
   "outputs": [],
   "source": [
    "df_predict.loc['01_AUS'].tail()"
   ]
  },
  {
   "cell_type": "markdown",
   "metadata": {},
   "source": [
    "## 2. Construct the models"
   ]
  },
  {
   "cell_type": "markdown",
   "metadata": {},
   "source": [
    "#### Construct models by economy and subsector:"
   ]
  },
  {
   "cell_type": "code",
   "execution_count": null,
   "metadata": {},
   "outputs": [],
   "source": [
    "\n",
    "# models\n",
    "models = {}\n",
    "\n",
    "for economy in economies:\n",
    "    nested_dict = {}\n",
    "    for target in list_of_targets:\n",
    "        m = Prophet(daily_seasonality=False,\n",
    "                       weekly_seasonality=False,\n",
    "                       yearly_seasonality=False,\n",
    "                       seasonality_mode='additive',\n",
    "                       growth='linear')\n",
    "        \n",
    "        # you can add more regressors:\n",
    "        #m.add_regressor('GDP')\n",
    "        #m.add_regressor('Population')\n",
    "        nested_dict[target] = m\n",
    "    models[economy] = nested_dict"
   ]
  },
  {
   "cell_type": "code",
   "execution_count": null,
   "metadata": {},
   "outputs": [],
   "source": [
    "# check that individual models are stored in memory\n",
    "# each economy, fuel model should have its own unique number (e.g., 0x25c9b5261c8)\n",
    "models"
   ]
  },
  {
   "cell_type": "markdown",
   "metadata": {},
   "source": [
    "#### Make a dataframe for each economy-subsector"
   ]
  },
  {
   "cell_type": "code",
   "execution_count": null,
   "metadata": {},
   "outputs": [],
   "source": [
    "# dataframes for models\n",
    "\n",
    "# change to targets\n",
    "\n",
    "economy_subsector_dfs = {}\n",
    "\n",
    "for economy in economies:\n",
    "    subsector_dfs = {}\n",
    "    _df = df_train.loc[economy]\n",
    "    for target in targets:\n",
    "        _df2 = _df[[target,'feature_ln_GDP_per_cap','ds']]\n",
    "        _df2 = _df2.rename(columns={target: \"y\"})\n",
    "        subsector_dfs[target] = _df2\n",
    "    economy_subsector_dfs[economy] = subsector_dfs"
   ]
  },
  {
   "cell_type": "markdown",
   "metadata": {},
   "source": [
    "## 3. Fit the models"
   ]
  },
  {
   "cell_type": "code",
   "execution_count": null,
   "metadata": {},
   "outputs": [],
   "source": [
    "for economy,m1 in models.items():\n",
    "    print('- The economy is %s' %economy)\n",
    "    _data_economy = economy_subsector_dfs[economy]\n",
    "    _model = m1\n",
    "    for target,m2 in _model.items():\n",
    "        _data_target = _data_economy[target]\n",
    "        model = m2\n",
    "        print('-- Fitting model for %s' %target)\n",
    "        model.fit(_data_target)\n",
    "        \n",
    "print('\\n Finished fitting models')"
   ]
  },
  {
   "cell_type": "markdown",
   "metadata": {},
   "source": [
    "## 4. Make predictions"
   ]
  },
  {
   "cell_type": "code",
   "execution_count": null,
   "metadata": {},
   "outputs": [],
   "source": [
    "# this part will take awhile to finish\n",
    "\n",
    "economy_predictions = {}\n",
    "\n",
    "for economy,m1 in models.items():\n",
    "    target_predictions = {}\n",
    "    print('\\n - Making prediction for %s' %economy)\n",
    "    _predict_economy = df_predict.loc[economy]\n",
    "    _model = m1\n",
    "    for target,m2 in _model.items():\n",
    "        model = m2\n",
    "        forecast = m2.predict(_predict_economy)\n",
    "        target_predictions[target] = forecast\n",
    "        print('-- Predicting demand for %s' %target)\n",
    "    economy_predictions[economy] = target_predictions\n",
    "    \n",
    "print('\\n Finished making predictions.')"
   ]
  },
  {
   "cell_type": "markdown",
   "metadata": {},
   "source": [
    "## 5. Extract results"
   ]
  },
  {
   "cell_type": "code",
   "execution_count": null,
   "metadata": {},
   "outputs": [],
   "source": [
    "# combine the results in to a dataframe\n",
    "# Note that Prophet produces many outputs such as the errors. \n",
    "# Only the demand predictions are included right now, but you can add the other outputs by adding more columns to 'results'\n",
    "\n",
    "results_list = []\n",
    "\n",
    "for economy in economies:\n",
    "    a = economy_predictions[economy]\n",
    "    for target in targets:\n",
    "        b = a[target]\n",
    "        b['Subsector'] = target\n",
    "        b['Economy'] = economy\n",
    "        b['Year'] = b['ds'].dt.year\n",
    "        b.replace(subsector_dict, inplace=True)\n",
    "        #b = b.set_index(['Economy','Year','Subsector'])\n",
    "        _b = b[['Economy','Year','Subsector','yhat']]\n",
    "        _b = _b.set_index(['Economy','Year'])\n",
    "        results_list.append(_b)\n",
    "\n",
    "_results = pd.concat(results_list)\n",
    "_results = pd.DataFrame(_results)\n",
    "_results.columns = ['Subsector','Demand']\n",
    "\n",
    "_results['Demand - thousand tons per capita'] = (np.exp(_results['Demand'])).div(1000)\n",
    "#results['Demand - thousand tons'] = np.multiply(results['Demand - thousand tons per capita'],df_big['Population'])\n",
    "\n",
    "# this makes sure there are no negative values:\n",
    "#results['Demand'] = np.where(results['Demand'] < 0, 0,results['Demand'])\n",
    "#results.replace(subsector_dict, inplace=True)"
   ]
  },
  {
   "cell_type": "code",
   "execution_count": null,
   "metadata": {},
   "outputs": [],
   "source": [
    "results.head()"
   ]
  },
  {
   "cell_type": "code",
   "execution_count": null,
   "metadata": {},
   "outputs": [],
   "source": [
    "# this needs to be cleaned up\n",
    "\n",
    "_a = df_big[['Year','Population']].reset_index()\n",
    "_b = _a.set_index(['Economy','Year'])\n",
    "df_list = []\n",
    "\n",
    "for sub in subsectors:\n",
    "    _df = _results[_results['Subsector']==sub]\n",
    "    _df['Demand - thousand tons'] = np.multiply(_df['Demand - thousand tons per capita'],_b['Population'])\n",
    "    df_list.append(_df)\n",
    "final_results = pd.concat(df_list)"
   ]
  },
  {
   "cell_type": "code",
   "execution_count": null,
   "metadata": {},
   "outputs": [],
   "source": [
    "# check to see if it worked:\n",
    "\n",
    "final_results.tail()"
   ]
  },
  {
   "cell_type": "code",
   "execution_count": null,
   "metadata": {},
   "outputs": [],
   "source": [
    "# write the results to a CSV file (this is in tidy format)\n",
    "\n",
    "final_results = final_results.reset_index()\n",
    "final_results.to_csv('../data/final/Industry_results.csv', header=True)"
   ]
  }
 ],
 "metadata": {
  "kernelspec": {
   "display_name": "Python 3",
   "language": "python",
   "name": "python3"
  },
  "language_info": {
   "codemirror_mode": {
    "name": "ipython",
    "version": 3
   },
   "file_extension": ".py",
   "mimetype": "text/x-python",
   "name": "python",
   "nbconvert_exporter": "python",
   "pygments_lexer": "ipython3",
   "version": "3.7.6"
  }
 },
 "nbformat": 4,
 "nbformat_minor": 4
}
