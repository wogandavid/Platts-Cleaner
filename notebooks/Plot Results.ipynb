{
 "cells": [
  {
   "cell_type": "markdown",
   "metadata": {},
   "source": [
    "# A notebook to Plot results"
   ]
  },
  {
   "cell_type": "markdown",
   "metadata": {},
   "source": [
    "### Seaborn"
   ]
  },
  {
   "cell_type": "markdown",
   "metadata": {},
   "source": [
    "The following is based on the Seaborn tutorial: https://seaborn.pydata.org/tutorial/axis_grids.html"
   ]
  },
  {
   "cell_type": "code",
   "execution_count": null,
   "metadata": {},
   "outputs": [],
   "source": [
    "import numpy as np\n",
    "import pandas as pd\n",
    "import seaborn as sns\n",
    "import matplotlib.pyplot as plt"
   ]
  },
  {
   "cell_type": "code",
   "execution_count": null,
   "metadata": {},
   "outputs": [],
   "source": [
    "sns.set(style=\"ticks\")"
   ]
  },
  {
   "cell_type": "markdown",
   "metadata": {},
   "source": [
    "#### Read in your results"
   ]
  },
  {
   "cell_type": "markdown",
   "metadata": {},
   "source": [
    "Select your data file:"
   ]
  },
  {
   "cell_type": "code",
   "execution_count": null,
   "metadata": {},
   "outputs": [],
   "source": [
    "df = pd.read_csv('../data/final/IAEE_residential_results.csv')\n",
    "df.tail()"
   ]
  },
  {
   "cell_type": "markdown",
   "metadata": {},
   "source": [
    "#### To plot all economies:"
   ]
  },
  {
   "cell_type": "code",
   "execution_count": null,
   "metadata": {},
   "outputs": [],
   "source": [
    "g = sns.FacetGrid(df, col=\"Economy\", hue=\"Fuel\" ,col_wrap=2, height=5, ylim=(0, 8000))\n",
    "g.map(plt.plot,\"Year\",\"Demand\", alpha=0.7)\n",
    "g.add_legend()"
   ]
  },
  {
   "cell_type": "markdown",
   "metadata": {},
   "source": [
    "#### To plot one economy in more detail:"
   ]
  },
  {
   "cell_type": "code",
   "execution_count": null,
   "metadata": {},
   "outputs": [],
   "source": [
    "economy = '01_AUS'\n",
    "to_plot = df[df['Economy']==economy]"
   ]
  },
  {
   "cell_type": "code",
   "execution_count": null,
   "metadata": {},
   "outputs": [],
   "source": [
    "h = sns.FacetGrid(to_plot, col=\"Fuel\", col_wrap=3, height=3.5, ylim=(0, 8000))                                                        \n",
    "h.map(plt.plot, \"Year\", \"Demand\")"
   ]
  },
  {
   "cell_type": "markdown",
   "metadata": {},
   "source": [
    "### Bokeh"
   ]
  },
  {
   "cell_type": "code",
   "execution_count": null,
   "metadata": {},
   "outputs": [],
   "source": [
    "from bokeh.plotting import figure, show, output_notebook\n",
    "from bokeh.layouts import gridplot\n",
    "output_notebook()"
   ]
  },
  {
   "cell_type": "markdown",
   "metadata": {},
   "source": [
    "Make pivot table so columns are individual lines"
   ]
  },
  {
   "cell_type": "code",
   "execution_count": null,
   "metadata": {},
   "outputs": [],
   "source": [
    "df_pivot = df.pivot_table(index=['Economy','Year'],columns='Fuel',values='Demand')\n",
    "df_pivot.head(2)"
   ]
  },
  {
   "cell_type": "markdown",
   "metadata": {},
   "source": [
    "#### Line plot\n",
    "\n",
    "This will loop through economies.\n",
    "\n",
    "Clicking on legend item will \"mute\" it."
   ]
  },
  {
   "cell_type": "code",
   "execution_count": null,
   "metadata": {},
   "outputs": [],
   "source": [
    "from bokeh.palettes import Spectral10\n",
    "figures = []\n",
    "\n",
    "economies = ['01_AUS','18_CT']\n",
    "\n",
    "for economy in economies:\n",
    "    q = figure(width=500, height=300,title=economy) \n",
    "    _df = df_pivot.loc[(economy,),]\n",
    "    numlines=len(_df.columns)\n",
    "    \n",
    "    for name, color in zip(_df,Spectral10):\n",
    "        q.line(_df.index.values, _df[name], line_width=2, color=color,\n",
    "               alpha=0.7, legend_label=name, muted_color=color, muted_alpha=0.2,)\n",
    "        q.legend.location = \"top_left\"\n",
    "        q.legend.click_policy=\"mute\"\n",
    "    figures.append(q)\n",
    "\n",
    "show(gridplot(figures, ncols=2, plot_width=400, plot_height=300))"
   ]
  },
  {
   "cell_type": "markdown",
   "metadata": {},
   "source": [
    "#### Stacked area plot"
   ]
  },
  {
   "cell_type": "code",
   "execution_count": null,
   "metadata": {},
   "outputs": [],
   "source": [
    "from bokeh.palettes import brewer\n",
    "\n",
    "figures = []\n",
    "\n",
    "economies = ['01_AUS','18_CT']\n",
    "\n",
    "for economy in economies:\n",
    "    _df = df_pivot.loc[(economy,),]\n",
    "    numlines=len(_df.columns)\n",
    "    names = _df.columns.values.tolist()\n",
    "    _df = _df.reset_index()\n",
    "    v = figure(width=500, height=300,title=economy) \n",
    "    v.varea_stack(names, x='Year', \n",
    "                  color=brewer['Spectral'][numlines],\n",
    "                  alpha=0.7,\n",
    "                  muted_color=brewer['Spectral'][numlines], \n",
    "                  muted_alpha=0.2,\n",
    "                  legend_label=names, \n",
    "                  source=_df)\n",
    "    v.legend.location = \"top_left\"\n",
    "    v.legend.click_policy=\"mute\"\n",
    "    figures.append(v)\n",
    "\n",
    "show(gridplot(figures, ncols=2, plot_width=400, plot_height=300))"
   ]
  },
  {
   "cell_type": "code",
   "execution_count": null,
   "metadata": {},
   "outputs": [],
   "source": []
  }
 ],
 "metadata": {
  "kernelspec": {
   "display_name": "Python 3",
   "language": "python",
   "name": "python3"
  },
  "language_info": {
   "codemirror_mode": {
    "name": "ipython",
    "version": 3
   },
   "file_extension": ".py",
   "mimetype": "text/x-python",
   "name": "python",
   "nbconvert_exporter": "python",
   "pygments_lexer": "ipython3",
   "version": "3.7.6"
  }
 },
 "nbformat": 4,
 "nbformat_minor": 4
}
