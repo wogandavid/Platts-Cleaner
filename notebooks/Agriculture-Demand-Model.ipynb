{
 "cells": [
  {
   "cell_type": "markdown",
   "metadata": {},
   "source": [
    "# Agriculture Demand Model\n",
    "\n",
    "This is the Agriculture energy demand model. The input data files are from EGEDA and the macro model. The model uses Prophet to generate predictions for each economy and fuel. \n",
    "\n",
    "You can adjust the fuels you are predicting.\n",
    "\n",
    "You can also add or remove 'features', e.g., GDP, population, GDP per capita, etc."
   ]
  },
  {
   "cell_type": "code",
   "execution_count": null,
   "metadata": {},
   "outputs": [],
   "source": [
    "import numpy as np\n",
    "import pandas as pd\n",
    "from pandas.tseries.offsets import MonthEnd\n",
    "from fbprophet import Prophet"
   ]
  },
  {
   "cell_type": "markdown",
   "metadata": {},
   "source": [
    "## 1. Import data and process the data"
   ]
  },
  {
   "cell_type": "code",
   "execution_count": null,
   "metadata": {},
   "outputs": [],
   "source": [
    "# note: the EGEDA data has been cleaned\n",
    "\n",
    "df_EGEDA = pd.read_csv(\"../data/final/EGEDA_2019_09_25_tidy.csv\",\n",
    "                      index_col=['Economy'])"
   ]
  },
  {
   "cell_type": "code",
   "execution_count": null,
   "metadata": {},
   "outputs": [],
   "source": [
    "df_EGEDA.head()"
   ]
  },
  {
   "cell_type": "code",
   "execution_count": null,
   "metadata": {},
   "outputs": [],
   "source": [
    "# This shows what demand series are available.\n",
    "# Agriculture is '15.2 Agriculture'\n",
    "\n",
    "df_EGEDA.columns.values.tolist()"
   ]
  },
  {
   "cell_type": "code",
   "execution_count": null,
   "metadata": {},
   "outputs": [],
   "source": [
    "# select only the demand you are interested in, e.g., residential\n",
    "\n",
    "df_historical = df_EGEDA[['Year','Fuel Code','15.2 Agriculture']]\n",
    "df_historical.head()"
   ]
  },
  {
   "cell_type": "code",
   "execution_count": null,
   "metadata": {},
   "outputs": [],
   "source": [
    "df_historical.tail()"
   ]
  },
  {
   "cell_type": "code",
   "execution_count": null,
   "metadata": {},
   "outputs": [],
   "source": [
    "# we want to know the fuels\n",
    "\n",
    "df_historical['Fuel Code'].unique()"
   ]
  },
  {
   "cell_type": "code",
   "execution_count": null,
   "metadata": {},
   "outputs": [],
   "source": [
    "# putting in to a table format to make it easy to select only the fuel columns we are interested in\n",
    "\n",
    "res_table = pd.pivot_table(df_historical, values='15.2 Agriculture', index=['Economy', 'Year'], columns=['Fuel Code'], aggfunc=np.sum)"
   ]
  },
  {
   "cell_type": "code",
   "execution_count": null,
   "metadata": {},
   "outputs": [],
   "source": [
    "# you can add or remove the fuels you want to model\n",
    "\n",
    "targets = ['Coal','Elec','Gas','Heat','Nuc','Oil','Oth','PetP', 'TotRen','Tot']\n",
    "targets_tuple = tuple(targets)\n",
    "df_res = res_table[targets]\n",
    "df_res"
   ]
  },
  {
   "cell_type": "code",
   "execution_count": null,
   "metadata": {},
   "outputs": [],
   "source": [
    "# this is the historical macro data\n",
    "\n",
    "df_macro = pd.read_csv('../data/raw/Industry/MacroHistorical.csv',\n",
    "                       index_col=['Economy','Year'])\n",
    "df_macro"
   ]
  },
  {
   "cell_type": "code",
   "execution_count": null,
   "metadata": {},
   "outputs": [],
   "source": [
    "# combine the EGEDA data and macro data\n",
    "\n",
    "df_hist = pd.merge(df_res,df_macro,how='left',on=['Economy','Year'])"
   ]
  },
  {
   "cell_type": "markdown",
   "metadata": {},
   "source": [
    "# BIG ASSUMPTION in the next cell"
   ]
  },
  {
   "cell_type": "code",
   "execution_count": null,
   "metadata": {},
   "outputs": [],
   "source": [
    "# there are missing data\n",
    "# some of these might be missing or they might mean they are zero\n",
    "\n",
    "           \n",
    "#df_hist = df_hist.fillna(method='backfill')\n",
    "#df_hist = df_hist.fillna(method='ffill')\n",
    "\n",
    "df_hist = (df_hist.dropna(how=\"all\", axis=1)\n",
    "        .dropna(how=\"any\", axis=0))"
   ]
  },
  {
   "cell_type": "code",
   "execution_count": null,
   "metadata": {},
   "outputs": [],
   "source": [
    "df_hist.head()"
   ]
  },
  {
   "cell_type": "code",
   "execution_count": null,
   "metadata": {},
   "outputs": [],
   "source": [
    "df_hist.tail()"
   ]
  },
  {
   "cell_type": "code",
   "execution_count": null,
   "metadata": {},
   "outputs": [],
   "source": [
    "# add the YYYY-MM-12 column format for Prophet\n",
    "\n",
    "df_hist = df_hist.reset_index(level='Year')\n",
    "df_hist['ds'] = pd.to_datetime(df_hist['Year'], format=\"%Y\") + MonthEnd(12)"
   ]
  },
  {
   "cell_type": "code",
   "execution_count": null,
   "metadata": {},
   "outputs": [],
   "source": [
    "df_hist.head()"
   ]
  },
  {
   "cell_type": "code",
   "execution_count": null,
   "metadata": {},
   "outputs": [],
   "source": [
    "# get a list of economies\n",
    "\n",
    "economies = df_hist.index.unique()\n",
    "economies"
   ]
  },
  {
   "cell_type": "markdown",
   "metadata": {},
   "source": [
    "#### Prepare future data"
   ]
  },
  {
   "cell_type": "code",
   "execution_count": null,
   "metadata": {},
   "outputs": [],
   "source": [
    "df_future_macro = pd.read_csv('../data/raw/Industry/MacroAssumptions.csv',\n",
    "                              index_col=['Economy'])\n",
    "df_future_macro['ds'] = pd.to_datetime(df_future_macro['Year'], format=\"%Y\") + MonthEnd(12)\n",
    "df_future_macro.head()"
   ]
  },
  {
   "cell_type": "code",
   "execution_count": null,
   "metadata": {},
   "outputs": [],
   "source": [
    "df_future_macro.tail()"
   ]
  },
  {
   "cell_type": "code",
   "execution_count": null,
   "metadata": {},
   "outputs": [],
   "source": [
    "# combine the historical and future data\n",
    "\n",
    "df_big = pd.concat([df_hist,df_future_macro], sort=True)"
   ]
  },
  {
   "cell_type": "markdown",
   "metadata": {},
   "source": [
    "#### Split data in to training and prediciton sets:"
   ]
  },
  {
   "cell_type": "code",
   "execution_count": null,
   "metadata": {},
   "outputs": [],
   "source": [
    "# update to have a training dataset (instead of 1990-2016)\n",
    "\n",
    "df_train = df_big[df_big['Year']<=2016]"
   ]
  },
  {
   "cell_type": "code",
   "execution_count": null,
   "metadata": {},
   "outputs": [],
   "source": [
    "# check that the last year is correct\n",
    "\n",
    "df_train.loc['01_AUS'].tail()"
   ]
  },
  {
   "cell_type": "code",
   "execution_count": null,
   "metadata": {},
   "outputs": [],
   "source": [
    "# make a dataset from 1990-2050 for predictions\n",
    "\n",
    "df_predict = df_big.drop(columns=targets).drop(columns='Year')"
   ]
  },
  {
   "cell_type": "code",
   "execution_count": null,
   "metadata": {},
   "outputs": [],
   "source": [
    "# check that it worked\n",
    "\n",
    "df_predict.loc['01_AUS'].head()"
   ]
  },
  {
   "cell_type": "code",
   "execution_count": null,
   "metadata": {},
   "outputs": [],
   "source": [
    "df_predict.loc['01_AUS'].tail()"
   ]
  },
  {
   "cell_type": "markdown",
   "metadata": {},
   "source": [
    "## 2. Construct the models"
   ]
  },
  {
   "cell_type": "markdown",
   "metadata": {},
   "source": [
    "#### Construct models by economy and fuel:"
   ]
  },
  {
   "cell_type": "code",
   "execution_count": null,
   "metadata": {},
   "outputs": [],
   "source": [
    "models = {}\n",
    "\n",
    "for economy in economies:\n",
    "    nested_dict = {}\n",
    "    for target in targets:\n",
    "        m = Prophet(daily_seasonality=False,\n",
    "                       weekly_seasonality=False,\n",
    "                       yearly_seasonality=False,\n",
    "                       seasonality_mode='additive',\n",
    "                       growth='linear')\n",
    "        \n",
    "        # you can add more regressors:\n",
    "        m.add_regressor('GDP')\n",
    "        m.add_regressor('Population')\n",
    "        nested_dict[target] = m\n",
    "    models[economy] = nested_dict"
   ]
  },
  {
   "cell_type": "code",
   "execution_count": null,
   "metadata": {},
   "outputs": [],
   "source": [
    "# check that individual models are stored in memory\n",
    "# each economy, fuel model should have its own unique number (e.g., 0x25c9b5261c8)\n",
    "models"
   ]
  },
  {
   "cell_type": "code",
   "execution_count": null,
   "metadata": {},
   "outputs": [],
   "source": [
    "# dataframes for models\n",
    "\n",
    "economy_target_dfs = {}\n",
    "\n",
    "for economy in economies:\n",
    "    target_dfs = {}\n",
    "    _df = df_train.loc[economy]\n",
    "    for target in targets_tuple:\n",
    "        _df2 = _df[[target,'GDP','Population','ds']]\n",
    "        _df2 = _df2.rename(columns={target: \"y\"})\n",
    "        target_dfs[target] = _df2\n",
    "    economy_target_dfs[economy] = target_dfs"
   ]
  },
  {
   "cell_type": "markdown",
   "metadata": {},
   "source": [
    "## 3. Fit the models"
   ]
  },
  {
   "cell_type": "code",
   "execution_count": null,
   "metadata": {},
   "outputs": [],
   "source": [
    "for economy,m1 in models.items():\n",
    "    print('- The economy is %s' %economy)\n",
    "    _data_economy = economy_target_dfs[economy]\n",
    "    _model = m1\n",
    "    for target,m2 in _model.items():\n",
    "        _data_target = _data_economy[target]\n",
    "        model = m2\n",
    "        print('-- Fitting model for %s' %target)\n",
    "        model.fit(_data_target)\n",
    "        \n",
    "print('\\n Finished fitting models')"
   ]
  },
  {
   "cell_type": "markdown",
   "metadata": {},
   "source": [
    "## 4. Make predictions"
   ]
  },
  {
   "cell_type": "code",
   "execution_count": null,
   "metadata": {},
   "outputs": [],
   "source": [
    "# this part will take awhile to finish\n",
    "\n",
    "economy_predictions = {}\n",
    "\n",
    "for economy,m1 in models.items():\n",
    "    target_predictions = {}\n",
    "    print('\\n- Making prediction for %s' %economy)\n",
    "    _predict_economy = df_predict.loc[economy]\n",
    "    _model = m1\n",
    "    for target,m2 in _model.items():\n",
    "        model = m2\n",
    "        forecast = m2.predict(_predict_economy)\n",
    "        target_predictions[target] = forecast\n",
    "        print('-- Predicting demand for %s' %target)\n",
    "    economy_predictions[economy] = target_predictions\n",
    "    \n",
    "print('\\n Finished making predictions.')"
   ]
  },
  {
   "cell_type": "markdown",
   "metadata": {},
   "source": [
    "## 5. Extract results"
   ]
  },
  {
   "cell_type": "code",
   "execution_count": null,
   "metadata": {},
   "outputs": [],
   "source": [
    "# combine the results in to a dataframe\n",
    "# Note that Prophet produces many outputs such as the errors. Only the demand predictions are included right now,\n",
    "# but you can add those by adding more columns to 'results'\n",
    "\n",
    "results_list = []\n",
    "\n",
    "for economy in economies:\n",
    "    a = economy_predictions[economy]\n",
    "    for target in targets_tuple:\n",
    "        b = a[target]\n",
    "        b['Fuel'] = target\n",
    "        b['Economy'] = economy\n",
    "        b['Year'] = b['ds'].dt.year\n",
    "        b = b.set_index(['Economy','Year','Fuel'])\n",
    "        _b = b['yhat']\n",
    "        results_list.append(_b)\n",
    "\n",
    "_results = pd.concat(results_list)\n",
    "results = pd.DataFrame(_results)\n",
    "results.columns = ['Demand']\n",
    "\n",
    "# this makes sure there are no negative values:\n",
    "results['Demand'] = np.where(results['Demand'] < 0, 0,results['Demand'])"
   ]
  },
  {
   "cell_type": "code",
   "execution_count": null,
   "metadata": {},
   "outputs": [],
   "source": [
    "# check that the results are in a dataframe\n",
    "\n",
    "results.tail()"
   ]
  },
  {
   "cell_type": "code",
   "execution_count": null,
   "metadata": {},
   "outputs": [],
   "source": [
    "# write the results to a CSV file (this is in tidy format)\n",
    "\n",
    "results.to_csv('../data/final/agriculture_results.csv', header=True)"
   ]
  },
  {
   "cell_type": "code",
   "execution_count": null,
   "metadata": {},
   "outputs": [],
   "source": [
    "# this is in regular table format\n",
    "\n",
    "results_table = results.pivot_table(index=['Economy','Year'],columns='Fuel',values = 'Demand')\n",
    "results_table.to_csv('../data/final/agriculture_results_table_format.csv', header=True)"
   ]
  },
  {
   "cell_type": "code",
   "execution_count": null,
   "metadata": {},
   "outputs": [],
   "source": []
  },
  {
   "cell_type": "code",
   "execution_count": null,
   "metadata": {},
   "outputs": [],
   "source": []
  },
  {
   "cell_type": "code",
   "execution_count": null,
   "metadata": {},
   "outputs": [],
   "source": []
  }
 ],
 "metadata": {
  "kernelspec": {
   "display_name": "Python 3",
   "language": "python",
   "name": "python3"
  },
  "language_info": {
   "codemirror_mode": {
    "name": "ipython",
    "version": 3
   },
   "file_extension": ".py",
   "mimetype": "text/x-python",
   "name": "python",
   "nbconvert_exporter": "python",
   "pygments_lexer": "ipython3",
   "version": "3.7.6"
  }
 },
 "nbformat": 4,
 "nbformat_minor": 4
}
