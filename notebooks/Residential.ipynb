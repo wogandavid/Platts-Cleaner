{
 "cells": [
  {
   "cell_type": "markdown",
   "metadata": {},
   "source": [
    "# David Pugh way"
   ]
  },
  {
   "cell_type": "code",
   "execution_count": null,
   "metadata": {},
   "outputs": [],
   "source": [
    "import matplotlib.pyplot as plt\n",
    "import numpy as np\n",
    "import pandas as pd\n",
    "from sklearn import linear_model, metrics, model_selection"
   ]
  },
  {
   "cell_type": "code",
   "execution_count": null,
   "metadata": {},
   "outputs": [],
   "source": [
    "%matplotlib inline"
   ]
  },
  {
   "cell_type": "markdown",
   "metadata": {},
   "source": [
    "## Prepare datasets"
   ]
  },
  {
   "cell_type": "code",
   "execution_count": null,
   "metadata": {},
   "outputs": [],
   "source": [
    "df = pd.read_csv(\"../data/final/EGEDA_2019_09_25_tidy.csv\",\n",
    "                index_col=['Economy','Year'])\n",
    "df.columns"
   ]
  },
  {
   "cell_type": "code",
   "execution_count": null,
   "metadata": {},
   "outputs": [],
   "source": [
    "df = df.loc[:,['Fuel Code','15.1.2 Residential']]\n",
    "df.head()"
   ]
  },
  {
   "cell_type": "code",
   "execution_count": null,
   "metadata": {},
   "outputs": [],
   "source": [
    "df = df.pivot_table(index=['Economy','Year'],columns=['Fuel Code'],values='15.1.2 Residential')\n",
    "df.head()"
   ]
  },
  {
   "cell_type": "code",
   "execution_count": null,
   "metadata": {},
   "outputs": [],
   "source": [
    "df.columns"
   ]
  },
  {
   "cell_type": "code",
   "execution_count": null,
   "metadata": {},
   "outputs": [],
   "source": [
    "df = df.loc[:,['Tot','Coal','Heat','Elec','Gas','Oil','PetPD','RenB']]\n",
    "df.head()"
   ]
  },
  {
   "cell_type": "code",
   "execution_count": null,
   "metadata": {},
   "outputs": [],
   "source": [
    "# read in macro stuff -- this will come from the macro model output later!\n",
    "\n",
    "df_macro = pd.read_csv(\"../data/raw/Residential/AUS_Data.csv\",\n",
    "                index_col=['Economy','Year'])\n",
    "df_macro.head()"
   ]
  },
  {
   "cell_type": "code",
   "execution_count": null,
   "metadata": {},
   "outputs": [],
   "source": [
    "df_macro = df_macro.loc[:,['GDP','POP']]\n",
    "df_macro.tail()"
   ]
  },
  {
   "cell_type": "code",
   "execution_count": null,
   "metadata": {},
   "outputs": [],
   "source": [
    "# need to use consistent economy names\n",
    "df_macro = df_macro.reset_index()\n",
    "df_macro = (df_macro.replace({\"01_AUS\":\"AUS\"})\n",
    "          .set_index([\"Economy\",\"Year\"]))\n",
    "df_macro.head()"
   ]
  },
  {
   "cell_type": "code",
   "execution_count": null,
   "metadata": {},
   "outputs": [],
   "source": [
    "# add macro to df\n",
    "\n",
    "df = df.join(df_macro)\n",
    "df = df.loc[[\"AUS\"]]"
   ]
  },
  {
   "cell_type": "code",
   "execution_count": null,
   "metadata": {},
   "outputs": [],
   "source": [
    "df.head()"
   ]
  },
  {
   "cell_type": "code",
   "execution_count": null,
   "metadata": {},
   "outputs": [],
   "source": [
    "df.columns"
   ]
  },
  {
   "cell_type": "code",
   "execution_count": null,
   "metadata": {},
   "outputs": [],
   "source": [
    "df_future = pd.read_csv(\"../data/raw/Residential/MacroAssumptions_datetime.csv\",\n",
    "                        index_col=['Economy'])\n",
    "df_future.head()"
   ]
  },
  {
   "cell_type": "code",
   "execution_count": null,
   "metadata": {},
   "outputs": [],
   "source": [
    "# replace this with macro model output\n",
    "\n",
    "df2 = df_future.drop(columns=[\"Year\"],axis=1)\n",
    "df2 = df2.rename(columns={\"Year2\":\"Year\",\"Population\":\"POP\"})\n",
    "df2 = df2.reset_index(drop=False).set_index(['Economy','Year'])\n",
    "\n",
    "#df2 = df2.drop(columns=[\"Year\"],axis=1)\n",
    "df2.head()"
   ]
  },
  {
   "cell_type": "code",
   "execution_count": null,
   "metadata": {},
   "outputs": [],
   "source": [
    "# need to use consistent economy names\n",
    "df2 = df2.reset_index()\n",
    "df2 = (df2.replace({\"01_AUS\":\"AUS\"})\n",
    "          .set_index([\"Economy\",\"Year\"]))\n",
    "df2.info()"
   ]
  },
  {
   "cell_type": "code",
   "execution_count": null,
   "metadata": {},
   "outputs": [],
   "source": [
    "df2.columns"
   ]
  },
  {
   "cell_type": "markdown",
   "metadata": {},
   "source": [
    "## Fit models"
   ]
  },
  {
   "cell_type": "code",
   "execution_count": null,
   "metadata": {},
   "outputs": [],
   "source": [
    "#targets = ['RETT','RECL','RECP','REPP','REKR','REGD','RELP']\n",
    "targets = ['Tot','Coal','Gas','Elec']\n",
    "features = ['GDP','POP']\n",
    "\n",
    "demand_models = {}\n",
    "for economy, _df in df.groupby(level=\"Economy\"):\n",
    "    \n",
    "    _processed_data = (_df.dropna(how=\"all\", axis=1)\n",
    "                         .dropna(how=\"any\", axis=0))\n",
    "\n",
    "    _targets = _processed_data.columns.isin(targets)\n",
    "    _processed_target = _processed_data.iloc[:, _targets]\n",
    "    _processed_features = _processed_data.loc[:, features]\n",
    "    \n",
    "    # regularized modeling pipeline (that guards against over-fitting to the training data!)\n",
    "    #_cv = model_selection.TimeSeriesSplit(n_splits=10) # since we are doing time-series forecasting!\n",
    "    #_prng = np.random.RandomState(42)\n",
    "    #_regressor = linear_model.MultiTaskElasticNetCV(cv=_cv, normalize=True, max_iter=1000, random_state=_prng)\n",
    "    \n",
    "    # non-regularized linear regression (to see the impact of over-fitting to training data!)\n",
    "    _regressor = linear_model.LinearRegression()\n",
    "    \n",
    "    demand_models[economy] = _regressor.fit(_processed_features, _processed_target)"
   ]
  },
  {
   "cell_type": "markdown",
   "metadata": {},
   "source": [
    "## Training Errors"
   ]
  },
  {
   "cell_type": "code",
   "execution_count": null,
   "metadata": {},
   "outputs": [],
   "source": [
    "predictions = {}\n",
    "training_error = {}\n",
    "\n",
    "for economy, _df in df.groupby(level=\"Economy\"):\n",
    "    \n",
    "    _processed_data = (_df.dropna(how=\"all\", axis=1)\n",
    "                         .dropna(how=\"any\", axis=0))\n",
    "    \n",
    "    _targets = _processed_data.columns.isin(targets)\n",
    "    _processed_target = _processed_data.iloc[:, _targets]\n",
    "    _processed_features = _processed_data.loc[:, features]\n",
    "    \n",
    "    # here we make the predictions\n",
    "    _predictions = demand_models[economy].predict(_processed_features)\n",
    "    _predictions_df = pd.DataFrame(data=_predictions,\n",
    "                                   index=_processed_target.index,\n",
    "                                   columns=_processed_target.columns)\n",
    "    predictions[economy] = _predictions_df\n",
    "    \n",
    "    # here we compute the RMSE (units are ktoe)\n",
    "    _rmse = metrics.mean_squared_error(_processed_target, _predictions_df)**0.5\n",
    "    training_error[economy] = _rmse"
   ]
  },
  {
   "cell_type": "code",
   "execution_count": null,
   "metadata": {},
   "outputs": [],
   "source": [
    "training_error['AUS']"
   ]
  },
  {
   "cell_type": "code",
   "execution_count": null,
   "metadata": {},
   "outputs": [],
   "source": [
    "def plot_training_errors(Economy):\n",
    "    _processed_data = (df.loc[Economy, :]\n",
    "                           .dropna(how=\"all\", axis=1)\n",
    "                           .dropna(how=\"any\", axis=0))\n",
    "\n",
    "    _targets = _processed_data.columns.isin(targets)\n",
    "    _processed_target = _processed_data.loc[:, _targets]\n",
    "    _predictions = predictions[economy].loc[Economy]\n",
    "    \n",
    "    _, n_targets = _processed_target.shape\n",
    "    fig, axes = plt.subplots(1, n_targets, figsize=(20, 6))\n",
    "    for n in range(n_targets):\n",
    "        axes[n].plot(_processed_target.iloc[:, n], label=\"Target\")\n",
    "        axes[n].plot(_predictions.iloc[:, n], label=\"predictions\")\n",
    "        axes[n].set_ylabel(\"KTOE\")\n",
    "        axes[n].set_xlabel(\"Year\")\n",
    "        axes[n].set_title(_processed_target.columns[n])\n",
    "        \n",
    "    fig.tight_layout()\n",
    "    axes[0].legend()\n",
    "    \n",
    "    return fig, axes"
   ]
  },
  {
   "cell_type": "code",
   "execution_count": null,
   "metadata": {},
   "outputs": [],
   "source": [
    "_ = plot_training_errors(\"AUS\")\n"
   ]
  },
  {
   "cell_type": "markdown",
   "metadata": {},
   "source": [
    "## Compute the forecasts from 2017 to 2050"
   ]
  },
  {
   "cell_type": "code",
   "execution_count": null,
   "metadata": {},
   "outputs": [],
   "source": [
    "df2.head()"
   ]
  },
  {
   "cell_type": "code",
   "execution_count": null,
   "metadata": {},
   "outputs": [],
   "source": [
    "prepared_df2 = df2.loc[['AUS']]\n",
    "prepared_df2.head()"
   ]
  },
  {
   "cell_type": "code",
   "execution_count": null,
   "metadata": {},
   "outputs": [],
   "source": [
    "targets"
   ]
  },
  {
   "cell_type": "code",
   "execution_count": null,
   "metadata": {},
   "outputs": [],
   "source": [
    "forecasts = {}\n",
    "for economy, _df in prepared_df2.groupby(level=\"Economy\"):\n",
    "    \n",
    "    _processed_data = (_df.dropna(how=\"all\", axis=1)\n",
    "                         .dropna(how=\"any\", axis=0))\n",
    "\n",
    "    #_targets = _processed_data.columns.isin(targets)\n",
    "    #_processed_target = _processed_data.iloc[:, _targets]\n",
    "    _processed_features = _processed_data.loc[:, features]\n",
    "    \n",
    "    _predictions = demand_models[economy].predict(_processed_features)\n",
    "    _predictions_df = pd.DataFrame(data=_predictions,\n",
    "                                   index=_processed_data.index,\n",
    "                                   columns=targets)\n",
    "    forecasts[economy] = _predictions_df"
   ]
  },
  {
   "cell_type": "code",
   "execution_count": null,
   "metadata": {},
   "outputs": [],
   "source": [
    "def plot_forecasts(economy):\n",
    "    _processed_data = (df.loc[economy, :]\n",
    "                           .dropna(how=\"all\", axis=1)\n",
    "                           .dropna(how=\"any\", axis=0))\n",
    "\n",
    "    _targets = _processed_data.columns.isin(targets)\n",
    "    _processed_target = _processed_data.iloc[:, _targets]\n",
    "    _predictions2 = predictions[economy].loc[economy]    \n",
    "    _predictions = forecasts[economy].loc[economy]\n",
    "    \n",
    "    _, n_targets = _processed_target.shape\n",
    "     \n",
    "    fig, axes = plt.subplots(1, n_targets, figsize=(20, 6))\n",
    "    for n in range(n_targets):\n",
    "        axes[n].plot(_processed_target.iloc[:, n], 'o',label=\"Target\")\n",
    "        axes[n].plot(_predictions2.iloc[:, n], label=\"historical\")\n",
    "        axes[n].plot(_predictions.iloc[:, n], label=\"forecast\")\n",
    "        axes[n].set_ylabel(\"KTOE\")\n",
    "        axes[n].set_xlabel(\"Year\")\n",
    "        axes[n].set_title(_processed_target.columns[n])\n",
    "        \n",
    "    fig.tight_layout()\n",
    "    axes[0].legend()\n",
    "    \n",
    "    return fig, axes"
   ]
  },
  {
   "cell_type": "code",
   "execution_count": null,
   "metadata": {},
   "outputs": [],
   "source": [
    "_ = plot_forecasts(\"AUS\")"
   ]
  },
  {
   "cell_type": "code",
   "execution_count": null,
   "metadata": {},
   "outputs": [],
   "source": [
    "forecasts['AUS'].tail()"
   ]
  },
  {
   "cell_type": "code",
   "execution_count": null,
   "metadata": {},
   "outputs": [],
   "source": []
  }
 ],
 "metadata": {
  "kernelspec": {
   "display_name": "Python 3",
   "language": "python",
   "name": "python3"
  },
  "language_info": {
   "codemirror_mode": {
    "name": "ipython",
    "version": 3
   },
   "file_extension": ".py",
   "mimetype": "text/x-python",
   "name": "python",
   "nbconvert_exporter": "python",
   "pygments_lexer": "ipython3",
   "version": "3.7.6"
  }
 },
 "nbformat": 4,
 "nbformat_minor": 4
}
