{
 "cells": [
  {
   "cell_type": "markdown",
   "metadata": {},
   "source": [
    "# Plot EGEDA data"
   ]
  },
  {
   "cell_type": "code",
   "execution_count": null,
   "metadata": {},
   "outputs": [],
   "source": [
    "#import packages\n",
    "\n",
    "import pandas as pd \n",
    "import numpy as np \n",
    "import matplotlib.pyplot as plt  "
   ]
  },
  {
   "cell_type": "code",
   "execution_count": null,
   "metadata": {},
   "outputs": [],
   "source": [
    "# import EGEDA dataset\n",
    "\n",
    "dfResults = pd.read_csv('../data/final/EGEDA_2019_09_25_tidy.csv')"
   ]
  },
  {
   "cell_type": "code",
   "execution_count": null,
   "metadata": {},
   "outputs": [],
   "source": [
    "# get list of economies\n",
    "\n",
    "economies = dfResults['Economy'].unique()"
   ]
  },
  {
   "cell_type": "code",
   "execution_count": null,
   "metadata": {},
   "outputs": [],
   "source": [
    "# select a column to plot\n",
    "\n",
    "df = dfResults[['Economy','Year','Fuel Code','6 Total primary energy supply']]\n",
    "df = df[df['6 Total primary energy supply']>0].dropna()"
   ]
  },
  {
   "cell_type": "code",
   "execution_count": null,
   "metadata": {},
   "outputs": [],
   "source": [
    "# select fuel codes\n",
    "\n",
    "df = df[df['Fuel Code'].isin(['Coal', 'Oil', 'PetP','Gas','RenH','Nuc','RenNRE','Oth','Heat','TotRen'])]"
   ]
  },
  {
   "cell_type": "code",
   "execution_count": null,
   "metadata": {},
   "outputs": [],
   "source": [
    "# pivot to make fuels as columns because matplotlib will plot each column as a variable\n",
    "\n",
    "df = pd.pivot_table(df, values='6 Total primary energy supply', index=['Economy', 'Year'], columns=['Fuel Code'], aggfunc=np.sum)\n",
    "df.reset_index(level=['Economy','Year'], inplace=True)"
   ]
  },
  {
   "cell_type": "code",
   "execution_count": null,
   "metadata": {},
   "outputs": [],
   "source": [
    "# create plotting function\n",
    "\n",
    "def plot2(economies, df, figurename, Plotylabel, share_x, share_y):\n",
    "    \"\"\"\n",
    "    Line plot for 21 economies. \n",
    "    Economies = economies to plot\n",
    "    df = dataframe of data to plot. Note: each line must be a column.\n",
    "    Plotylabel = y label for graph\n",
    "    share_x = share the x axis (true or False)\n",
    "    share_y = share the y axis (True or False)\n",
    "    \"\"\"\n",
    "    print('Preparing plots...')\n",
    "    # Create the 'figure'\n",
    "    plt.style.use('tableau-colorblind10')\n",
    "    \n",
    "    # multiple line plot\n",
    "    fig, axes = plt.subplots(nrows=3, ncols=7, sharex=share_x, sharey=share_y, figsize=(16,12))\n",
    "    for ax, economy,num in zip(axes.flatten(), economies, range(1,22)):\n",
    "        print('Creating plot for %s...' %economy)\n",
    "        df11=df[df['Economy']==economy]\n",
    "    \n",
    "        for column in df11.drop(['Economy','Year'], axis=1):\n",
    "            ax.plot(df11['Year'], df11[column], marker='', linewidth=1.5, label=economy)\n",
    "            ax.set_title(economy)\n",
    "            ax.set_ylabel(Plotylabel)\n",
    "        ax.label_outer()\n",
    "    \n",
    "    #plt.tight_layout()\n",
    "    fig.legend( list(df.drop(['Economy','Year'], axis=1)), bbox_to_anchor=(0,0,1,0.25), loc='lower center', ncol=9)\n",
    "    fig.savefig(figurename,dpi=200)\n",
    "    print('Figure saved as %s' % figurename)\n",
    "    print('Preparing to show the figure...')\n",
    "    plt.show()"
   ]
  },
  {
   "cell_type": "code",
   "execution_count": null,
   "metadata": {},
   "outputs": [],
   "source": [
    "# Plot\n",
    "# Change sharex and sharey to True or False\n",
    "\n",
    "figurename = '../results/TPES.png'\n",
    "Plotylabel = 'TPES [MTOE]'\n",
    "sharex = True\n",
    "sharey = True\n",
    "\n",
    "plot2(economies, df, figurename, Plotylabel, sharex, sharey)"
   ]
  },
  {
   "cell_type": "code",
   "execution_count": null,
   "metadata": {},
   "outputs": [],
   "source": []
  }
 ],
 "metadata": {
  "kernelspec": {
   "display_name": "Python 3",
   "language": "python",
   "name": "python3"
  },
  "language_info": {
   "codemirror_mode": {
    "name": "ipython",
    "version": 3
   },
   "file_extension": ".py",
   "mimetype": "text/x-python",
   "name": "python",
   "nbconvert_exporter": "python",
   "pygments_lexer": "ipython3",
   "version": "3.7.3"
  }
 },
 "nbformat": 4,
 "nbformat_minor": 4
}
