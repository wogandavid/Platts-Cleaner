{
 "cells": [
  {
   "cell_type": "markdown",
   "metadata": {},
   "source": [
    "# Residential demand estimation"
   ]
  },
  {
   "cell_type": "code",
   "execution_count": null,
   "metadata": {},
   "outputs": [],
   "source": [
    "%matplotlib inline"
   ]
  },
  {
   "cell_type": "code",
   "execution_count": null,
   "metadata": {},
   "outputs": [],
   "source": [
    "# import packages\n",
    "\n",
    "import pandas as pd\n",
    "import numpy as np\n",
    "import statsmodels.api as sm\n",
    "import matplotlib.pyplot as plt"
   ]
  },
  {
   "cell_type": "code",
   "execution_count": null,
   "metadata": {},
   "outputs": [],
   "source": [
    "df = pd.read_csv(\"../data/raw/Residential/AUS_data.csv\",\n",
    "                index_col=['Economy','Year'])"
   ]
  },
  {
   "cell_type": "code",
   "execution_count": null,
   "metadata": {},
   "outputs": [],
   "source": [
    "df.head()"
   ]
  },
  {
   "cell_type": "code",
   "execution_count": null,
   "metadata": {},
   "outputs": [],
   "source": [
    "df.tail()"
   ]
  },
  {
   "cell_type": "code",
   "execution_count": null,
   "metadata": {},
   "outputs": [],
   "source": [
    "df.info()"
   ]
  },
  {
   "cell_type": "code",
   "execution_count": null,
   "metadata": {},
   "outputs": [],
   "source": [
    "# split in to training and test sets\n",
    "\n",
    "feature_list = [\"GDP\",\"CSGDP\",\"POP\",\"POPU\",\"GDPC\"]\n",
    "\n",
    "train = (df.loc['01_AUS',:]\n",
    "           .loc[1980:2000])\n",
    "train.head()"
   ]
  },
  {
   "cell_type": "code",
   "execution_count": null,
   "metadata": {},
   "outputs": [],
   "source": [
    "test = (df.loc['01_AUS',:]\n",
    "          .loc[2001:2016])\n",
    "test.tail()"
   ]
  },
  {
   "cell_type": "code",
   "execution_count": null,
   "metadata": {},
   "outputs": [],
   "source": [
    "# training\n",
    "y = train.loc[:,\"RETT\"]\n",
    "X_train = train.loc[:,feature_list]\n",
    "\n",
    "# test\n",
    "X_test = test.loc[:,feature_list]"
   ]
  },
  {
   "cell_type": "code",
   "execution_count": null,
   "metadata": {},
   "outputs": [],
   "source": [
    "X_train.head()"
   ]
  },
  {
   "cell_type": "code",
   "execution_count": null,
   "metadata": {},
   "outputs": [],
   "source": [
    "X_test.tail()"
   ]
  },
  {
   "cell_type": "code",
   "execution_count": null,
   "metadata": {},
   "outputs": [],
   "source": [
    "model = sm.OLS(y,X_train)"
   ]
  },
  {
   "cell_type": "code",
   "execution_count": null,
   "metadata": {},
   "outputs": [],
   "source": [
    "fit_model = model.fit()"
   ]
  },
  {
   "cell_type": "code",
   "execution_count": null,
   "metadata": {},
   "outputs": [],
   "source": [
    "fit_model.summary()"
   ]
  },
  {
   "cell_type": "code",
   "execution_count": null,
   "metadata": {},
   "outputs": [],
   "source": [
    "# test model\n",
    "\n",
    "results = fit_model.predict(X_test)"
   ]
  },
  {
   "cell_type": "code",
   "execution_count": null,
   "metadata": {},
   "outputs": [],
   "source": [
    "results"
   ]
  },
  {
   "cell_type": "code",
   "execution_count": null,
   "metadata": {},
   "outputs": [],
   "source": [
    "fig, ax = plt.subplots()\n",
    "ax.plot(train.loc[:,'RETT'], 'o', label=\"Train\")\n",
    "ax.plot(results, 'o', label=\"Test\")\n",
    "ax.plot(df.loc['01_AUS',\"RETT\"], '-g', label=\"Actual\")\n",
    "ax.legend(loc=\"best\")"
   ]
  },
  {
   "cell_type": "markdown",
   "metadata": {},
   "source": [
    "#### next steps\n",
    "\n",
    "- add lags?"
   ]
  },
  {
   "cell_type": "markdown",
   "metadata": {},
   "source": [
    "## ARIMA"
   ]
  },
  {
   "cell_type": "code",
   "execution_count": null,
   "metadata": {},
   "outputs": [],
   "source": [
    "from statsmodels.tsa.arima_model import ARIMA"
   ]
  },
  {
   "cell_type": "code",
   "execution_count": null,
   "metadata": {},
   "outputs": [],
   "source": [
    "df = pd.read_csv(\"../data/raw/Residential/AUS_simple.csv\",\n",
    "                index_col=['Economy','Date'])"
   ]
  },
  {
   "cell_type": "code",
   "execution_count": null,
   "metadata": {},
   "outputs": [],
   "source": [
    "df.head()"
   ]
  },
  {
   "cell_type": "code",
   "execution_count": null,
   "metadata": {},
   "outputs": [],
   "source": [
    "df.info()"
   ]
  },
  {
   "cell_type": "code",
   "execution_count": null,
   "metadata": {},
   "outputs": [],
   "source": [
    "feature_list = [\"GDP\",\"CSGDP\",\"POP\",\"POPU\",\"GDPC\"]\n",
    "\n",
    "train = (df.loc['01_AUS',:]\n",
    "           .iloc[1:21]\n",
    "           .drop(columns=\"Year\"))\n",
    "train.tail()"
   ]
  },
  {
   "cell_type": "code",
   "execution_count": null,
   "metadata": {},
   "outputs": [],
   "source": [
    "y = train[['RETT']]\n",
    "X_train = train.drop(columns=y)\n",
    "X_train.tail()"
   ]
  },
  {
   "cell_type": "code",
   "execution_count": null,
   "metadata": {},
   "outputs": [],
   "source": [
    "model = ARIMA(y, (0,1,0),X_train, freq='A')"
   ]
  },
  {
   "cell_type": "code",
   "execution_count": null,
   "metadata": {},
   "outputs": [],
   "source": [
    "model_fit = model.fit(disp=0)"
   ]
  },
  {
   "cell_type": "code",
   "execution_count": null,
   "metadata": {},
   "outputs": [],
   "source": [
    "print(model_fit.summary())"
   ]
  },
  {
   "cell_type": "code",
   "execution_count": null,
   "metadata": {},
   "outputs": [],
   "source": [
    "test = (df.loc['01_AUS',:]\n",
    "           .iloc[21:37]\n",
    "           .drop(columns=\"Year\"))\n",
    "test.tail()"
   ]
  },
  {
   "cell_type": "code",
   "execution_count": null,
   "metadata": {},
   "outputs": [],
   "source": [
    "X_test = test.drop(columns=\"RETT\")\n",
    "X_test.head()"
   ]
  },
  {
   "cell_type": "code",
   "execution_count": null,
   "metadata": {},
   "outputs": [],
   "source": [
    "forecast = model_fit.forecast(steps=16,exog=X_test)"
   ]
  },
  {
   "cell_type": "code",
   "execution_count": null,
   "metadata": {},
   "outputs": [],
   "source": [
    "forecast = model_fit.forecast?"
   ]
  },
  {
   "cell_type": "code",
   "execution_count": null,
   "metadata": {},
   "outputs": [],
   "source": [
    "forecast = model_fit.forecast"
   ]
  },
  {
   "cell_type": "code",
   "execution_count": null,
   "metadata": {},
   "outputs": [],
   "source": [
    "forecast = model_fit.predict"
   ]
  },
  {
   "cell_type": "code",
   "execution_count": null,
   "metadata": {},
   "outputs": [],
   "source": [
    "ARIMA?"
   ]
  },
  {
   "cell_type": "markdown",
   "metadata": {},
   "source": [
    "# Prophet"
   ]
  },
  {
   "cell_type": "code",
   "execution_count": null,
   "metadata": {},
   "outputs": [],
   "source": [
    "from fbprophet import Prophet"
   ]
  },
  {
   "cell_type": "code",
   "execution_count": null,
   "metadata": {},
   "outputs": [],
   "source": [
    "df = pd.read_csv(\"../data/raw/Residential/AUS_data.csv\")"
   ]
  },
  {
   "cell_type": "code",
   "execution_count": null,
   "metadata": {},
   "outputs": [],
   "source": [
    "df.head()"
   ]
  },
  {
   "cell_type": "code",
   "execution_count": null,
   "metadata": {},
   "outputs": [],
   "source": [
    "df['ds'] = pd.to_datetime(df.Year,format='%Y')"
   ]
  },
  {
   "cell_type": "code",
   "execution_count": null,
   "metadata": {},
   "outputs": [],
   "source": [
    "df.head()"
   ]
  },
  {
   "cell_type": "code",
   "execution_count": null,
   "metadata": {},
   "outputs": [],
   "source": [
    "df.tail()"
   ]
  },
  {
   "cell_type": "code",
   "execution_count": null,
   "metadata": {},
   "outputs": [],
   "source": [
    "simple_df = df[['RETT','GDP','POP','ds']]"
   ]
  },
  {
   "cell_type": "code",
   "execution_count": null,
   "metadata": {},
   "outputs": [],
   "source": [
    "simple_df.head()"
   ]
  },
  {
   "cell_type": "code",
   "execution_count": null,
   "metadata": {},
   "outputs": [],
   "source": [
    "simple_df = simple_df.rename(columns={\"RETT\":\"y\"})\n",
    "simple_df.head()"
   ]
  },
  {
   "cell_type": "code",
   "execution_count": null,
   "metadata": {},
   "outputs": [],
   "source": [
    "m = Prophet(daily_seasonality=False,\n",
    "            weekly_seasonality=False,\n",
    "            yearly_seasonality=False,\n",
    "            seasonality_mode='additive',\n",
    "            growth='linear')\n",
    "\n",
    "m.add_regressor('GDP')\n",
    "m.add_regressor('POP')\n",
    "m.fit(simple_df)"
   ]
  },
  {
   "cell_type": "code",
   "execution_count": null,
   "metadata": {},
   "outputs": [],
   "source": [
    "# add future GDP\n",
    "\n",
    "df_future_macro = pd.read_csv('../data/raw/Industry/MacroAssumptions_datetime.csv',\n",
    "                             index_col=['Economy'])\n",
    "\n",
    "df_future_macro = df_future_macro.loc['AUS',:]\n",
    "df_future_macro = df_future_macro.reset_index(drop=True)\n",
    "\n",
    "df_future_macro.head()"
   ]
  },
  {
   "cell_type": "code",
   "execution_count": null,
   "metadata": {},
   "outputs": [],
   "source": [
    "df_future_macro = df_future_macro.rename(columns={\"Population\":\"POP\"})\n",
    "df_future_macro.head()"
   ]
  },
  {
   "cell_type": "code",
   "execution_count": null,
   "metadata": {},
   "outputs": [],
   "source": [
    "future = m.make_future_dataframe(periods=34,\n",
    "                                 freq = 'Y',\n",
    "                                 include_history=True)\n",
    "future.head()"
   ]
  },
  {
   "cell_type": "code",
   "execution_count": null,
   "metadata": {},
   "outputs": [],
   "source": [
    "future.tail()"
   ]
  },
  {
   "cell_type": "code",
   "execution_count": null,
   "metadata": {},
   "outputs": [],
   "source": [
    "df1 = simple_df.drop(columns=['y','ds'])\n",
    "df1.head()"
   ]
  },
  {
   "cell_type": "code",
   "execution_count": null,
   "metadata": {},
   "outputs": [],
   "source": [
    "df2 = df_future_macro.drop(columns=['Year'])\n",
    "df2.head()"
   ]
  },
  {
   "cell_type": "code",
   "execution_count": null,
   "metadata": {},
   "outputs": [],
   "source": [
    "df_future = pd.concat([df1,df2],\n",
    "                      ignore_index=True)\n",
    "\n",
    "df_future.head()"
   ]
  },
  {
   "cell_type": "code",
   "execution_count": null,
   "metadata": {},
   "outputs": [],
   "source": [
    "df_future.tail()"
   ]
  },
  {
   "cell_type": "code",
   "execution_count": null,
   "metadata": {},
   "outputs": [],
   "source": [
    "future = future.join(df_future)"
   ]
  },
  {
   "cell_type": "code",
   "execution_count": null,
   "metadata": {},
   "outputs": [],
   "source": [
    "future.head()"
   ]
  },
  {
   "cell_type": "code",
   "execution_count": null,
   "metadata": {},
   "outputs": [],
   "source": [
    "future.tail()"
   ]
  },
  {
   "cell_type": "code",
   "execution_count": null,
   "metadata": {},
   "outputs": [],
   "source": [
    "forecast = m.predict(future)\n",
    "forecast[['ds', 'yhat', 'yhat_lower', 'yhat_upper']]"
   ]
  },
  {
   "cell_type": "code",
   "execution_count": null,
   "metadata": {},
   "outputs": [],
   "source": [
    "fig1 = m.plot(forecast)"
   ]
  },
  {
   "cell_type": "code",
   "execution_count": null,
   "metadata": {},
   "outputs": [],
   "source": [
    "future.iloc[20:40,:]"
   ]
  },
  {
   "cell_type": "markdown",
   "metadata": {},
   "source": [
    "# SciKit-Learn"
   ]
  },
  {
   "cell_type": "code",
   "execution_count": null,
   "metadata": {},
   "outputs": [],
   "source": [
    "from sklearn.linear_model import LinearRegression"
   ]
  },
  {
   "cell_type": "code",
   "execution_count": null,
   "metadata": {},
   "outputs": [],
   "source": [
    "model = LinearRegression()"
   ]
  },
  {
   "cell_type": "code",
   "execution_count": null,
   "metadata": {},
   "outputs": [],
   "source": [
    "model.fit(simple_df[[\"GDP\",\"POP\"]],simple_df[['ds']])"
   ]
  },
  {
   "cell_type": "code",
   "execution_count": null,
   "metadata": {},
   "outputs": [],
   "source": [
    "model.fit(X_train,y)"
   ]
  },
  {
   "cell_type": "code",
   "execution_count": null,
   "metadata": {},
   "outputs": [],
   "source": [
    "predictions = model.predict(X_test)"
   ]
  },
  {
   "cell_type": "code",
   "execution_count": null,
   "metadata": {},
   "outputs": [],
   "source": [
    "predictions"
   ]
  },
  {
   "cell_type": "code",
   "execution_count": null,
   "metadata": {},
   "outputs": [],
   "source": [
    "model2 = LinearRegression()"
   ]
  },
  {
   "cell_type": "code",
   "execution_count": null,
   "metadata": {},
   "outputs": [],
   "source": [
    "model2.fit(simple_df[[\"GDP\",\"POP\"]],simple_df[['y']])"
   ]
  },
  {
   "cell_type": "code",
   "execution_count": null,
   "metadata": {},
   "outputs": [],
   "source": [
    "predictions2 = model2.predict(future[[\"GDP\",\"POP\"]])\n",
    "predictions2"
   ]
  },
  {
   "cell_type": "code",
   "execution_count": null,
   "metadata": {},
   "outputs": [],
   "source": [
    "fig, ax = plt.subplots()\n",
    "ax.plot(future[['ds']],predictions2, 'o', label=\"Predictions\")\n",
    "ax.plot(simple_df[['ds']],simple_df[[\"y\"]], 'o', label=\"Actual\")\n",
    "ax.legend(loc=\"best\")"
   ]
  },
  {
   "cell_type": "markdown",
   "metadata": {},
   "source": [
    "# Using own functions"
   ]
  },
  {
   "cell_type": "code",
   "execution_count": null,
   "metadata": {},
   "outputs": [],
   "source": [
    "def run_regression(models, economies, df, x, y):\n",
    "    \"\"\"\n",
    "    Perform linear regression for one or multiple economies.\n",
    "    economy = list of economies\n",
    "    models = {economy: LinearRegression() for economy in economies}\n",
    "    The function returns a dictionary of economy-model pairs. That is,\n",
    "    each economy will have its own set of coefficients.\n",
    "    \"\"\"\n",
    "    for economy, model in models.items():\n",
    "            (model.fit(df.loc[economy, x],\n",
    "                df.loc[economy, y]))\n",
    "    return models  "
   ]
  },
  {
   "cell_type": "code",
   "execution_count": null,
   "metadata": {},
   "outputs": [],
   "source": [
    "def run_prediction(models, economies, df, ResultsColumn):\n",
    "    \"\"\"\n",
    "    Use coefficients from run_regression to generate predictions.\n",
    "    Pass a dataframe df with the X and Y data. \n",
    "    ResultsColumn = name of prediction results\n",
    "    \"\"\"\n",
    "    df_list =[]\n",
    "    # run predictions\n",
    "    for economy, model in models.items():\n",
    "            #years = df['Year']\n",
    "            #years.reset_index(drop=True, inplace=True)\n",
    "            prediction = model.predict(df.loc[economy,:])\n",
    "            df_name = pd.DataFrame(prediction, columns=ResultsColumn)\n",
    "            #df_name.insert(loc=0,column='Year',value=years)\n",
    "            df_name.insert(loc=0,column='Economy',value=economy)\n",
    "            #df_list.append(df_name)\n",
    "            \n",
    "            # adding to the input df\n",
    "            df2 = df.loc[economy,:]\n",
    "            df2.insert(loc=0,column=\"Results\",value=prediction)\n",
    "            df2.insert(loc=0,column='Economy',value=economy)\n",
    "            df2 = df2.reset_index()\n",
    "            df2 = df2.set_index(['Economy','Year'])\n",
    "            df_list.append(df2)\n",
    "\n",
    "    # combine individual economy dataframes to one dataframe\n",
    "    dfResults = pd.concat(df_list, sort=True)\n",
    "    return dfResults\n",
    "#    return df2"
   ]
  },
  {
   "cell_type": "code",
   "execution_count": null,
   "metadata": {},
   "outputs": [],
   "source": [
    "# create plotting function\n",
    "\n",
    "def plot2(economies, df, figurename, Plotylabel, share_x, share_y):\n",
    "    \"\"\"\n",
    "    Line plot for 21 economies. \n",
    "    Economies = economies to plot\n",
    "    df = dataframe of data to plot. Note: each line must be a column.\n",
    "    Plotylabel = y label for graph\n",
    "    share_x = share the x axis (true or False)\n",
    "    share_y = share the y axis (True or False)\n",
    "    \"\"\"\n",
    "    print('Preparing plots...')\n",
    "    # Create the 'figure'\n",
    "    plt.style.use('tableau-colorblind10')\n",
    "    \n",
    "    # multiple line plot\n",
    "    fig, axes = plt.subplots(nrows=3, ncols=7, sharex=share_x, sharey=share_y, figsize=(16,12))\n",
    "    for ax, economy,num in zip(axes.flatten(), economies, range(1,22)):\n",
    "        print('Creating plot for %s...' %economy)\n",
    "        df11=df[df['Economy']==economy]\n",
    "    \n",
    "        for column in df11.drop(['Economy','Year'], axis=1):\n",
    "            ax.plot(df11['Year'], df11[column], marker='', linewidth=1.5, label=economy)\n",
    "            ax.set_title(economy)\n",
    "            ax.set_ylabel(Plotylabel)\n",
    "        ax.label_outer()\n",
    "    \n",
    "    #plt.tight_layout()\n",
    "    fig.legend( list(df.drop(['Economy','Year'], axis=1)), bbox_to_anchor=(0,0,1,0.25), loc='lower center', ncol=9)\n",
    "    fig.savefig(figurename,dpi=200)\n",
    "    print('Figure saved as %s' % figurename)\n",
    "    print('Preparing to show the figure...')\n",
    "    plt.show()"
   ]
  },
  {
   "cell_type": "code",
   "execution_count": null,
   "metadata": {},
   "outputs": [],
   "source": [
    "df = pd.read_csv(\"../data/raw/Residential/AUS_data.csv\",\n",
    "                index_col=['Economy','Year'])"
   ]
  },
  {
   "cell_type": "code",
   "execution_count": null,
   "metadata": {},
   "outputs": [],
   "source": [
    "df.head()"
   ]
  },
  {
   "cell_type": "code",
   "execution_count": null,
   "metadata": {},
   "outputs": [],
   "source": [
    "economies = df.index.unique(level=0)\n",
    "economies"
   ]
  },
  {
   "cell_type": "code",
   "execution_count": null,
   "metadata": {},
   "outputs": [],
   "source": [
    "# get list of economies and create economy-model pairs\n",
    "\n",
    "models = {economy: LinearRegression() for economy in economies}"
   ]
  },
  {
   "cell_type": "code",
   "execution_count": null,
   "metadata": {},
   "outputs": [],
   "source": [
    "x = ['GDP','POP']\n",
    "y = ['RETT']\n",
    "df.head()"
   ]
  },
  {
   "cell_type": "code",
   "execution_count": null,
   "metadata": {},
   "outputs": [],
   "source": [
    "run_regression(models,economies,df,x,y)"
   ]
  },
  {
   "cell_type": "code",
   "execution_count": null,
   "metadata": {},
   "outputs": [],
   "source": [
    "# make predictions\n",
    "\n",
    "df_future = pd.read_csv(\"../data/raw/Residential/MacroAssumptions_datetime-AUS.csv\",\n",
    "                        index_col=['Economy'])\n",
    "df_future.head()"
   ]
  },
  {
   "cell_type": "code",
   "execution_count": null,
   "metadata": {},
   "outputs": [],
   "source": [
    "df2 = df_future.drop(columns=[\"Year\"],axis=1)\n",
    "df2 = df2.rename(columns={\"Year2\":\"Year\",\"Population\":\"POP\"})\n",
    "df2 = df2.reset_index(drop=False).set_index(['Economy','Year'])\n",
    "\n",
    "#df2 = df2.drop(columns=[\"Year\"],axis=1)\n",
    "ResultsColumn = [\"y_prediction\"]\n",
    "df2.head()"
   ]
  },
  {
   "cell_type": "code",
   "execution_count": null,
   "metadata": {},
   "outputs": [],
   "source": [
    "results = run_prediction(models, economies, df2, ResultsColumn)\n",
    "results = results.rename(columns={\"Results\":\"Predicted RETT\"})"
   ]
  },
  {
   "cell_type": "code",
   "execution_count": null,
   "metadata": {},
   "outputs": [],
   "source": [
    "results.tail()"
   ]
  },
  {
   "cell_type": "code",
   "execution_count": null,
   "metadata": {},
   "outputs": [],
   "source": [
    "x = results.loc['01_AUS']\n",
    "x.head()"
   ]
  },
  {
   "cell_type": "code",
   "execution_count": null,
   "metadata": {},
   "outputs": [],
   "source": [
    "fig, ax = plt.subplots()\n",
    "ax.plot(x.index,x[['Predicted RETT']], 'o', label=\"Predictions\")\n",
    "#ax.plot(simple_df[['ds']],simple_df[[\"y\"]], 'o', label=\"Actual\")\n",
    "#ax.legend(loc=\"best\")"
   ]
  },
  {
   "cell_type": "markdown",
   "metadata": {},
   "source": [
    "# Cleaned up using own functions"
   ]
  },
  {
   "cell_type": "code",
   "execution_count": null,
   "metadata": {},
   "outputs": [],
   "source": [
    "%matplotlib inline"
   ]
  },
  {
   "cell_type": "code",
   "execution_count": null,
   "metadata": {},
   "outputs": [],
   "source": [
    "# import packages\n",
    "\n",
    "import pandas as pd\n",
    "import numpy as np\n",
    "import matplotlib.pyplot as plt\n",
    "from sklearn.linear_model import LinearRegression"
   ]
  },
  {
   "cell_type": "code",
   "execution_count": null,
   "metadata": {},
   "outputs": [],
   "source": [
    "def run_regression(models, economies, df, x, y):\n",
    "    \"\"\"\n",
    "    Perform linear regression for one or multiple economies.\n",
    "    economy = list of economies\n",
    "    models = {economy: LinearRegression() for economy in economies}\n",
    "    The function returns a dictionary of economy-model pairs. That is,\n",
    "    each economy will have its own set of coefficients.\n",
    "    \"\"\"\n",
    "    for economy, model in models.items():\n",
    "            (model.fit(df.loc[economy, x],\n",
    "                df.loc[economy, y]))\n",
    "    return models  "
   ]
  },
  {
   "cell_type": "code",
   "execution_count": null,
   "metadata": {},
   "outputs": [],
   "source": [
    "def run_prediction(models, economies, df, ResultsColumn):\n",
    "    \"\"\"\n",
    "    Use coefficients from run_regression to generate predictions.\n",
    "    Pass a dataframe df with the X and Y data. \n",
    "    ResultsColumn = name of prediction results\n",
    "    \"\"\"\n",
    "    df_list =[]\n",
    "    # run predictions\n",
    "    for economy, model in models.items():\n",
    "            # make prediction\n",
    "            prediction = model.predict(df.loc[economy,:])\n",
    "            \n",
    "            # adding to the input df\n",
    "            df2 = df.loc[economy,:]\n",
    "            df2.insert(loc=0,column=\"Results\",value=prediction)\n",
    "            df2.insert(loc=0,column='Economy',value=economy)\n",
    "            df2 = df2.reset_index()\n",
    "            df2 = df2.set_index(['Economy','Year'])\n",
    "            df_list.append(df2)\n",
    "\n",
    "    # combine individual economy dataframes to one dataframe\n",
    "    dfResults = pd.concat(df_list, sort=True)\n",
    "    return dfResults"
   ]
  },
  {
   "cell_type": "code",
   "execution_count": null,
   "metadata": {},
   "outputs": [],
   "source": [
    "df = pd.read_csv(\"../data/raw/Residential/AUS_Data.csv\",\n",
    "                index_col=['Economy','Year'])"
   ]
  },
  {
   "cell_type": "code",
   "execution_count": null,
   "metadata": {},
   "outputs": [],
   "source": [
    "economies = df.index.unique(level=0)\n",
    "economies"
   ]
  },
  {
   "cell_type": "code",
   "execution_count": null,
   "metadata": {},
   "outputs": [],
   "source": [
    "# get list of economies and create economy-model pairs\n",
    "\n",
    "models = {economy: LinearRegression() for economy in economies}"
   ]
  },
  {
   "cell_type": "code",
   "execution_count": null,
   "metadata": {},
   "outputs": [],
   "source": [
    "x = ['GDP','POP']\n",
    "y = ['RETT']\n",
    "df.tail()"
   ]
  },
  {
   "cell_type": "code",
   "execution_count": null,
   "metadata": {},
   "outputs": [],
   "source": [
    "run_regression(models,economies,df,x,y)"
   ]
  },
  {
   "cell_type": "code",
   "execution_count": null,
   "metadata": {},
   "outputs": [],
   "source": [
    "# make predictions\n",
    "\n",
    "df_future = pd.read_csv(\"../data/raw/Residential/MacroAssumptions_datetime.csv\",\n",
    "                        index_col=['Economy'])\n",
    "df_future.tail()"
   ]
  },
  {
   "cell_type": "code",
   "execution_count": null,
   "metadata": {},
   "outputs": [],
   "source": [
    "df2 = df_future.drop(columns=[\"Year\"],axis=1)\n",
    "df2 = df2.rename(columns={\"Year2\":\"Year\",\"Population\":\"POP\"})\n",
    "df2 = df2.reset_index(drop=False).set_index(['Economy','Year'])\n",
    "\n",
    "#df2 = df2.drop(columns=[\"Year\"],axis=1)\n",
    "ResultsColumn = [\"y_prediction\"]\n",
    "df2.tail()"
   ]
  },
  {
   "cell_type": "code",
   "execution_count": null,
   "metadata": {},
   "outputs": [],
   "source": [
    "results = run_prediction(models, economies, df2, ResultsColumn)\n",
    "results = results.rename(columns={\"Results\":\"Predicted RETT\"})\n",
    "results.tail()"
   ]
  },
  {
   "cell_type": "code",
   "execution_count": null,
   "metadata": {},
   "outputs": [],
   "source": [
    "x = results.loc['01_AUS']\n",
    "x.head()"
   ]
  },
  {
   "cell_type": "code",
   "execution_count": null,
   "metadata": {},
   "outputs": [],
   "source": [
    "fig, ax = plt.subplots()\n",
    "ax.plot(x.index,x[['Predicted RETT']], 'o', label=\"Predictions\")"
   ]
  },
  {
   "cell_type": "code",
   "execution_count": null,
   "metadata": {},
   "outputs": [],
   "source": []
  }
 ],
 "metadata": {
  "kernelspec": {
   "display_name": "Python 3",
   "language": "python",
   "name": "python3"
  },
  "language_info": {
   "codemirror_mode": {
    "name": "ipython",
    "version": 3
   },
   "file_extension": ".py",
   "mimetype": "text/x-python",
   "name": "python",
   "nbconvert_exporter": "python",
   "pygments_lexer": "ipython3",
   "version": "3.7.3"
  }
 },
 "nbformat": 4,
 "nbformat_minor": 4
}
