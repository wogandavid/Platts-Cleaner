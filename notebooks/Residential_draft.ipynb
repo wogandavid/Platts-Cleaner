{
 "cells": [
  {
   "cell_type": "markdown",
   "metadata": {},
   "source": [
    "# Residential demand estimation"
   ]
  },
  {
   "cell_type": "code",
   "execution_count": null,
   "metadata": {},
   "outputs": [],
   "source": [
    "%matplotlib inline"
   ]
  },
  {
   "cell_type": "code",
   "execution_count": 1,
   "metadata": {},
   "outputs": [],
   "source": [
    "# import packages\n",
    "\n",
    "import pandas as pd\n",
    "import numpy as np\n",
    "import statsmodels.api as sm\n",
    "import matplotlib.pyplot as plt"
   ]
  },
  {
   "cell_type": "code",
   "execution_count": null,
   "metadata": {},
   "outputs": [],
   "source": [
    "df = pd.read_csv(\"../data/raw/Residential/AUS_data.csv\",\n",
    "                index_col=['Economy','Year'])"
   ]
  },
  {
   "cell_type": "code",
   "execution_count": null,
   "metadata": {},
   "outputs": [],
   "source": [
    "df.head()"
   ]
  },
  {
   "cell_type": "code",
   "execution_count": null,
   "metadata": {},
   "outputs": [],
   "source": [
    "df.tail()"
   ]
  },
  {
   "cell_type": "code",
   "execution_count": null,
   "metadata": {},
   "outputs": [],
   "source": [
    "df.info()"
   ]
  },
  {
   "cell_type": "code",
   "execution_count": null,
   "metadata": {},
   "outputs": [],
   "source": [
    "# split in to training and test sets\n",
    "\n",
    "feature_list = [\"GDP\",\"CSGDP\",\"POP\",\"POPU\",\"GDPC\"]\n",
    "\n",
    "train = (df.loc['01_AUS',:]\n",
    "           .loc[1980:2000])\n",
    "train.head()"
   ]
  },
  {
   "cell_type": "code",
   "execution_count": null,
   "metadata": {},
   "outputs": [],
   "source": [
    "test = (df.loc['01_AUS',:]\n",
    "          .loc[2001:2016])\n",
    "test.tail()"
   ]
  },
  {
   "cell_type": "code",
   "execution_count": null,
   "metadata": {},
   "outputs": [],
   "source": [
    "# training\n",
    "y = train.loc[:,\"RETT\"]\n",
    "X_train = train.loc[:,feature_list]\n",
    "\n",
    "# test\n",
    "X_test = test.loc[:,feature_list]"
   ]
  },
  {
   "cell_type": "code",
   "execution_count": null,
   "metadata": {},
   "outputs": [],
   "source": [
    "X_train.head()"
   ]
  },
  {
   "cell_type": "code",
   "execution_count": null,
   "metadata": {},
   "outputs": [],
   "source": [
    "X_test.tail()"
   ]
  },
  {
   "cell_type": "code",
   "execution_count": null,
   "metadata": {},
   "outputs": [],
   "source": [
    "model = sm.OLS(y,X_train)"
   ]
  },
  {
   "cell_type": "code",
   "execution_count": null,
   "metadata": {},
   "outputs": [],
   "source": [
    "fit_model = model.fit()"
   ]
  },
  {
   "cell_type": "code",
   "execution_count": null,
   "metadata": {},
   "outputs": [],
   "source": [
    "fit_model.summary()"
   ]
  },
  {
   "cell_type": "code",
   "execution_count": null,
   "metadata": {},
   "outputs": [],
   "source": [
    "# test model\n",
    "\n",
    "results = fit_model.predict(X_test)"
   ]
  },
  {
   "cell_type": "code",
   "execution_count": null,
   "metadata": {},
   "outputs": [],
   "source": [
    "results"
   ]
  },
  {
   "cell_type": "code",
   "execution_count": null,
   "metadata": {},
   "outputs": [],
   "source": [
    "fig, ax = plt.subplots()\n",
    "ax.plot(train.loc[:,'RETT'], 'o', label=\"Train\")\n",
    "ax.plot(results, 'o', label=\"Test\")\n",
    "ax.plot(df.loc['01_AUS',\"RETT\"], '-g', label=\"Actual\")\n",
    "ax.legend(loc=\"best\")"
   ]
  },
  {
   "cell_type": "markdown",
   "metadata": {},
   "source": [
    "#### next steps\n",
    "\n",
    "- add lags?"
   ]
  },
  {
   "cell_type": "markdown",
   "metadata": {},
   "source": [
    "## ARIMA"
   ]
  },
  {
   "cell_type": "code",
   "execution_count": null,
   "metadata": {},
   "outputs": [],
   "source": [
    "from statsmodels.tsa.arima_model import ARIMA"
   ]
  },
  {
   "cell_type": "code",
   "execution_count": null,
   "metadata": {},
   "outputs": [],
   "source": [
    "df = pd.read_csv(\"../data/raw/Residential/AUS_simple.csv\",\n",
    "                index_col=['Economy','Date'])"
   ]
  },
  {
   "cell_type": "code",
   "execution_count": null,
   "metadata": {},
   "outputs": [],
   "source": [
    "df.head()"
   ]
  },
  {
   "cell_type": "code",
   "execution_count": null,
   "metadata": {},
   "outputs": [],
   "source": [
    "df.info()"
   ]
  },
  {
   "cell_type": "code",
   "execution_count": null,
   "metadata": {},
   "outputs": [],
   "source": [
    "feature_list = [\"GDP\",\"CSGDP\",\"POP\",\"POPU\",\"GDPC\"]\n",
    "\n",
    "train = (df.loc['01_AUS',:]\n",
    "           .iloc[1:21]\n",
    "           .drop(columns=\"Year\"))\n",
    "train.tail()"
   ]
  },
  {
   "cell_type": "code",
   "execution_count": null,
   "metadata": {},
   "outputs": [],
   "source": [
    "y = train[['RETT']]\n",
    "X_train = train.drop(columns=y)\n",
    "X_train.tail()"
   ]
  },
  {
   "cell_type": "code",
   "execution_count": null,
   "metadata": {},
   "outputs": [],
   "source": [
    "model = ARIMA(y, (0,1,0),X_train, freq='A')"
   ]
  },
  {
   "cell_type": "code",
   "execution_count": null,
   "metadata": {},
   "outputs": [],
   "source": [
    "model_fit = model.fit(disp=0)"
   ]
  },
  {
   "cell_type": "code",
   "execution_count": null,
   "metadata": {},
   "outputs": [],
   "source": [
    "print(model_fit.summary())"
   ]
  },
  {
   "cell_type": "code",
   "execution_count": null,
   "metadata": {},
   "outputs": [],
   "source": [
    "test = (df.loc['01_AUS',:]\n",
    "           .iloc[21:37]\n",
    "           .drop(columns=\"Year\"))\n",
    "test.tail()"
   ]
  },
  {
   "cell_type": "code",
   "execution_count": null,
   "metadata": {},
   "outputs": [],
   "source": [
    "X_test = test.drop(columns=\"RETT\")\n",
    "X_test.head()"
   ]
  },
  {
   "cell_type": "code",
   "execution_count": null,
   "metadata": {},
   "outputs": [],
   "source": [
    "forecast = model_fit.forecast(steps=16,exog=X_test)"
   ]
  },
  {
   "cell_type": "code",
   "execution_count": null,
   "metadata": {},
   "outputs": [],
   "source": [
    "forecast = model_fit.forecast?"
   ]
  },
  {
   "cell_type": "code",
   "execution_count": null,
   "metadata": {},
   "outputs": [],
   "source": [
    "forecast = model_fit.forecast"
   ]
  },
  {
   "cell_type": "code",
   "execution_count": null,
   "metadata": {},
   "outputs": [],
   "source": [
    "forecast = model_fit.predict"
   ]
  },
  {
   "cell_type": "code",
   "execution_count": null,
   "metadata": {},
   "outputs": [],
   "source": [
    "ARIMA?"
   ]
  },
  {
   "cell_type": "markdown",
   "metadata": {},
   "source": [
    "# Prophet"
   ]
  },
  {
   "cell_type": "code",
   "execution_count": 2,
   "metadata": {},
   "outputs": [],
   "source": [
    "from fbprophet import Prophet"
   ]
  },
  {
   "cell_type": "code",
   "execution_count": 3,
   "metadata": {},
   "outputs": [],
   "source": [
    "df = pd.read_csv(\"../data/raw/Residential/AUS_data.csv\")"
   ]
  },
  {
   "cell_type": "code",
   "execution_count": 4,
   "metadata": {},
   "outputs": [
    {
     "data": {
      "text/html": [
       "<div>\n",
       "<style scoped>\n",
       "    .dataframe tbody tr th:only-of-type {\n",
       "        vertical-align: middle;\n",
       "    }\n",
       "\n",
       "    .dataframe tbody tr th {\n",
       "        vertical-align: top;\n",
       "    }\n",
       "\n",
       "    .dataframe thead th {\n",
       "        text-align: right;\n",
       "    }\n",
       "</style>\n",
       "<table border=\"1\" class=\"dataframe\">\n",
       "  <thead>\n",
       "    <tr style=\"text-align: right;\">\n",
       "      <th></th>\n",
       "      <th>Economy</th>\n",
       "      <th>Year</th>\n",
       "      <th>RETT</th>\n",
       "      <th>RECL</th>\n",
       "      <th>RECP</th>\n",
       "      <th>REPP</th>\n",
       "      <th>REKR</th>\n",
       "      <th>REGD</th>\n",
       "      <th>RELP</th>\n",
       "      <th>RENG</th>\n",
       "      <th>...</th>\n",
       "      <th>CSLP</th>\n",
       "      <th>CSNG</th>\n",
       "      <th>CSGL</th>\n",
       "      <th>CSOT</th>\n",
       "      <th>CSEL</th>\n",
       "      <th>GDP</th>\n",
       "      <th>CSGDP</th>\n",
       "      <th>POP</th>\n",
       "      <th>POPU</th>\n",
       "      <th>GDPC</th>\n",
       "    </tr>\n",
       "  </thead>\n",
       "  <tbody>\n",
       "    <tr>\n",
       "      <th>0</th>\n",
       "      <td>01_AUS</td>\n",
       "      <td>1980</td>\n",
       "      <td>6040</td>\n",
       "      <td>19</td>\n",
       "      <td>39</td>\n",
       "      <td>785</td>\n",
       "      <td>574</td>\n",
       "      <td>91</td>\n",
       "      <td>120</td>\n",
       "      <td>1103</td>\n",
       "      <td>...</td>\n",
       "      <td>95</td>\n",
       "      <td>387</td>\n",
       "      <td>0</td>\n",
       "      <td>22</td>\n",
       "      <td>1332</td>\n",
       "      <td>439.40</td>\n",
       "      <td>251.30</td>\n",
       "      <td>14.69</td>\n",
       "      <td>12.57</td>\n",
       "      <td>29907.53</td>\n",
       "    </tr>\n",
       "    <tr>\n",
       "      <th>1</th>\n",
       "      <td>01_AUS</td>\n",
       "      <td>1981</td>\n",
       "      <td>6098</td>\n",
       "      <td>18</td>\n",
       "      <td>31</td>\n",
       "      <td>586</td>\n",
       "      <td>385</td>\n",
       "      <td>81</td>\n",
       "      <td>120</td>\n",
       "      <td>1184</td>\n",
       "      <td>...</td>\n",
       "      <td>92</td>\n",
       "      <td>419</td>\n",
       "      <td>0</td>\n",
       "      <td>24</td>\n",
       "      <td>1447</td>\n",
       "      <td>454.07</td>\n",
       "      <td>263.59</td>\n",
       "      <td>14.93</td>\n",
       "      <td>12.79</td>\n",
       "      <td>30419.25</td>\n",
       "    </tr>\n",
       "    <tr>\n",
       "      <th>2</th>\n",
       "      <td>01_AUS</td>\n",
       "      <td>1982</td>\n",
       "      <td>6305</td>\n",
       "      <td>17</td>\n",
       "      <td>22</td>\n",
       "      <td>541</td>\n",
       "      <td>340</td>\n",
       "      <td>76</td>\n",
       "      <td>125</td>\n",
       "      <td>1318</td>\n",
       "      <td>...</td>\n",
       "      <td>92</td>\n",
       "      <td>486</td>\n",
       "      <td>0</td>\n",
       "      <td>24</td>\n",
       "      <td>1509</td>\n",
       "      <td>469.18</td>\n",
       "      <td>272.66</td>\n",
       "      <td>15.18</td>\n",
       "      <td>13.00</td>\n",
       "      <td>30912.00</td>\n",
       "    </tr>\n",
       "    <tr>\n",
       "      <th>3</th>\n",
       "      <td>01_AUS</td>\n",
       "      <td>1983</td>\n",
       "      <td>6309</td>\n",
       "      <td>15</td>\n",
       "      <td>16</td>\n",
       "      <td>473</td>\n",
       "      <td>280</td>\n",
       "      <td>68</td>\n",
       "      <td>125</td>\n",
       "      <td>1367</td>\n",
       "      <td>...</td>\n",
       "      <td>95</td>\n",
       "      <td>522</td>\n",
       "      <td>0</td>\n",
       "      <td>23</td>\n",
       "      <td>1565</td>\n",
       "      <td>458.76</td>\n",
       "      <td>271.43</td>\n",
       "      <td>15.37</td>\n",
       "      <td>13.16</td>\n",
       "      <td>29849.91</td>\n",
       "    </tr>\n",
       "    <tr>\n",
       "      <th>4</th>\n",
       "      <td>01_AUS</td>\n",
       "      <td>1984</td>\n",
       "      <td>6411</td>\n",
       "      <td>14</td>\n",
       "      <td>14</td>\n",
       "      <td>441</td>\n",
       "      <td>246</td>\n",
       "      <td>64</td>\n",
       "      <td>131</td>\n",
       "      <td>1418</td>\n",
       "      <td>...</td>\n",
       "      <td>103</td>\n",
       "      <td>552</td>\n",
       "      <td>0</td>\n",
       "      <td>19</td>\n",
       "      <td>1591</td>\n",
       "      <td>479.78</td>\n",
       "      <td>281.19</td>\n",
       "      <td>15.54</td>\n",
       "      <td>13.31</td>\n",
       "      <td>30865.99</td>\n",
       "    </tr>\n",
       "  </tbody>\n",
       "</table>\n",
       "<p>5 rows × 30 columns</p>\n",
       "</div>"
      ],
      "text/plain": [
       "  Economy  Year  RETT  RECL  RECP  REPP  REKR  REGD  RELP  RENG  ...  CSLP  \\\n",
       "0  01_AUS  1980  6040    19    39   785   574    91   120  1103  ...    95   \n",
       "1  01_AUS  1981  6098    18    31   586   385    81   120  1184  ...    92   \n",
       "2  01_AUS  1982  6305    17    22   541   340    76   125  1318  ...    92   \n",
       "3  01_AUS  1983  6309    15    16   473   280    68   125  1367  ...    95   \n",
       "4  01_AUS  1984  6411    14    14   441   246    64   131  1418  ...   103   \n",
       "\n",
       "   CSNG  CSGL  CSOT  CSEL     GDP   CSGDP    POP   POPU      GDPC  \n",
       "0   387     0    22  1332  439.40  251.30  14.69  12.57  29907.53  \n",
       "1   419     0    24  1447  454.07  263.59  14.93  12.79  30419.25  \n",
       "2   486     0    24  1509  469.18  272.66  15.18  13.00  30912.00  \n",
       "3   522     0    23  1565  458.76  271.43  15.37  13.16  29849.91  \n",
       "4   552     0    19  1591  479.78  281.19  15.54  13.31  30865.99  \n",
       "\n",
       "[5 rows x 30 columns]"
      ]
     },
     "execution_count": 4,
     "metadata": {},
     "output_type": "execute_result"
    }
   ],
   "source": [
    "df.head()"
   ]
  },
  {
   "cell_type": "code",
   "execution_count": 5,
   "metadata": {},
   "outputs": [],
   "source": [
    "df['ds'] = pd.to_datetime(df.Year,format='%Y')"
   ]
  },
  {
   "cell_type": "code",
   "execution_count": 6,
   "metadata": {},
   "outputs": [
    {
     "data": {
      "text/html": [
       "<div>\n",
       "<style scoped>\n",
       "    .dataframe tbody tr th:only-of-type {\n",
       "        vertical-align: middle;\n",
       "    }\n",
       "\n",
       "    .dataframe tbody tr th {\n",
       "        vertical-align: top;\n",
       "    }\n",
       "\n",
       "    .dataframe thead th {\n",
       "        text-align: right;\n",
       "    }\n",
       "</style>\n",
       "<table border=\"1\" class=\"dataframe\">\n",
       "  <thead>\n",
       "    <tr style=\"text-align: right;\">\n",
       "      <th></th>\n",
       "      <th>Economy</th>\n",
       "      <th>Year</th>\n",
       "      <th>RETT</th>\n",
       "      <th>RECL</th>\n",
       "      <th>RECP</th>\n",
       "      <th>REPP</th>\n",
       "      <th>REKR</th>\n",
       "      <th>REGD</th>\n",
       "      <th>RELP</th>\n",
       "      <th>RENG</th>\n",
       "      <th>...</th>\n",
       "      <th>CSNG</th>\n",
       "      <th>CSGL</th>\n",
       "      <th>CSOT</th>\n",
       "      <th>CSEL</th>\n",
       "      <th>GDP</th>\n",
       "      <th>CSGDP</th>\n",
       "      <th>POP</th>\n",
       "      <th>POPU</th>\n",
       "      <th>GDPC</th>\n",
       "      <th>ds</th>\n",
       "    </tr>\n",
       "  </thead>\n",
       "  <tbody>\n",
       "    <tr>\n",
       "      <th>0</th>\n",
       "      <td>01_AUS</td>\n",
       "      <td>1980</td>\n",
       "      <td>6040</td>\n",
       "      <td>19</td>\n",
       "      <td>39</td>\n",
       "      <td>785</td>\n",
       "      <td>574</td>\n",
       "      <td>91</td>\n",
       "      <td>120</td>\n",
       "      <td>1103</td>\n",
       "      <td>...</td>\n",
       "      <td>387</td>\n",
       "      <td>0</td>\n",
       "      <td>22</td>\n",
       "      <td>1332</td>\n",
       "      <td>439.40</td>\n",
       "      <td>251.30</td>\n",
       "      <td>14.69</td>\n",
       "      <td>12.57</td>\n",
       "      <td>29907.53</td>\n",
       "      <td>1980-01-01</td>\n",
       "    </tr>\n",
       "    <tr>\n",
       "      <th>1</th>\n",
       "      <td>01_AUS</td>\n",
       "      <td>1981</td>\n",
       "      <td>6098</td>\n",
       "      <td>18</td>\n",
       "      <td>31</td>\n",
       "      <td>586</td>\n",
       "      <td>385</td>\n",
       "      <td>81</td>\n",
       "      <td>120</td>\n",
       "      <td>1184</td>\n",
       "      <td>...</td>\n",
       "      <td>419</td>\n",
       "      <td>0</td>\n",
       "      <td>24</td>\n",
       "      <td>1447</td>\n",
       "      <td>454.07</td>\n",
       "      <td>263.59</td>\n",
       "      <td>14.93</td>\n",
       "      <td>12.79</td>\n",
       "      <td>30419.25</td>\n",
       "      <td>1981-01-01</td>\n",
       "    </tr>\n",
       "    <tr>\n",
       "      <th>2</th>\n",
       "      <td>01_AUS</td>\n",
       "      <td>1982</td>\n",
       "      <td>6305</td>\n",
       "      <td>17</td>\n",
       "      <td>22</td>\n",
       "      <td>541</td>\n",
       "      <td>340</td>\n",
       "      <td>76</td>\n",
       "      <td>125</td>\n",
       "      <td>1318</td>\n",
       "      <td>...</td>\n",
       "      <td>486</td>\n",
       "      <td>0</td>\n",
       "      <td>24</td>\n",
       "      <td>1509</td>\n",
       "      <td>469.18</td>\n",
       "      <td>272.66</td>\n",
       "      <td>15.18</td>\n",
       "      <td>13.00</td>\n",
       "      <td>30912.00</td>\n",
       "      <td>1982-01-01</td>\n",
       "    </tr>\n",
       "    <tr>\n",
       "      <th>3</th>\n",
       "      <td>01_AUS</td>\n",
       "      <td>1983</td>\n",
       "      <td>6309</td>\n",
       "      <td>15</td>\n",
       "      <td>16</td>\n",
       "      <td>473</td>\n",
       "      <td>280</td>\n",
       "      <td>68</td>\n",
       "      <td>125</td>\n",
       "      <td>1367</td>\n",
       "      <td>...</td>\n",
       "      <td>522</td>\n",
       "      <td>0</td>\n",
       "      <td>23</td>\n",
       "      <td>1565</td>\n",
       "      <td>458.76</td>\n",
       "      <td>271.43</td>\n",
       "      <td>15.37</td>\n",
       "      <td>13.16</td>\n",
       "      <td>29849.91</td>\n",
       "      <td>1983-01-01</td>\n",
       "    </tr>\n",
       "    <tr>\n",
       "      <th>4</th>\n",
       "      <td>01_AUS</td>\n",
       "      <td>1984</td>\n",
       "      <td>6411</td>\n",
       "      <td>14</td>\n",
       "      <td>14</td>\n",
       "      <td>441</td>\n",
       "      <td>246</td>\n",
       "      <td>64</td>\n",
       "      <td>131</td>\n",
       "      <td>1418</td>\n",
       "      <td>...</td>\n",
       "      <td>552</td>\n",
       "      <td>0</td>\n",
       "      <td>19</td>\n",
       "      <td>1591</td>\n",
       "      <td>479.78</td>\n",
       "      <td>281.19</td>\n",
       "      <td>15.54</td>\n",
       "      <td>13.31</td>\n",
       "      <td>30865.99</td>\n",
       "      <td>1984-01-01</td>\n",
       "    </tr>\n",
       "  </tbody>\n",
       "</table>\n",
       "<p>5 rows × 31 columns</p>\n",
       "</div>"
      ],
      "text/plain": [
       "  Economy  Year  RETT  RECL  RECP  REPP  REKR  REGD  RELP  RENG  ...  CSNG  \\\n",
       "0  01_AUS  1980  6040    19    39   785   574    91   120  1103  ...   387   \n",
       "1  01_AUS  1981  6098    18    31   586   385    81   120  1184  ...   419   \n",
       "2  01_AUS  1982  6305    17    22   541   340    76   125  1318  ...   486   \n",
       "3  01_AUS  1983  6309    15    16   473   280    68   125  1367  ...   522   \n",
       "4  01_AUS  1984  6411    14    14   441   246    64   131  1418  ...   552   \n",
       "\n",
       "   CSGL  CSOT  CSEL     GDP   CSGDP    POP   POPU      GDPC         ds  \n",
       "0     0    22  1332  439.40  251.30  14.69  12.57  29907.53 1980-01-01  \n",
       "1     0    24  1447  454.07  263.59  14.93  12.79  30419.25 1981-01-01  \n",
       "2     0    24  1509  469.18  272.66  15.18  13.00  30912.00 1982-01-01  \n",
       "3     0    23  1565  458.76  271.43  15.37  13.16  29849.91 1983-01-01  \n",
       "4     0    19  1591  479.78  281.19  15.54  13.31  30865.99 1984-01-01  \n",
       "\n",
       "[5 rows x 31 columns]"
      ]
     },
     "execution_count": 6,
     "metadata": {},
     "output_type": "execute_result"
    }
   ],
   "source": [
    "df.head()"
   ]
  },
  {
   "cell_type": "code",
   "execution_count": 7,
   "metadata": {},
   "outputs": [
    {
     "data": {
      "text/html": [
       "<div>\n",
       "<style scoped>\n",
       "    .dataframe tbody tr th:only-of-type {\n",
       "        vertical-align: middle;\n",
       "    }\n",
       "\n",
       "    .dataframe tbody tr th {\n",
       "        vertical-align: top;\n",
       "    }\n",
       "\n",
       "    .dataframe thead th {\n",
       "        text-align: right;\n",
       "    }\n",
       "</style>\n",
       "<table border=\"1\" class=\"dataframe\">\n",
       "  <thead>\n",
       "    <tr style=\"text-align: right;\">\n",
       "      <th></th>\n",
       "      <th>Economy</th>\n",
       "      <th>Year</th>\n",
       "      <th>RETT</th>\n",
       "      <th>RECL</th>\n",
       "      <th>RECP</th>\n",
       "      <th>REPP</th>\n",
       "      <th>REKR</th>\n",
       "      <th>REGD</th>\n",
       "      <th>RELP</th>\n",
       "      <th>RENG</th>\n",
       "      <th>...</th>\n",
       "      <th>CSNG</th>\n",
       "      <th>CSGL</th>\n",
       "      <th>CSOT</th>\n",
       "      <th>CSEL</th>\n",
       "      <th>GDP</th>\n",
       "      <th>CSGDP</th>\n",
       "      <th>POP</th>\n",
       "      <th>POPU</th>\n",
       "      <th>GDPC</th>\n",
       "      <th>ds</th>\n",
       "    </tr>\n",
       "  </thead>\n",
       "  <tbody>\n",
       "    <tr>\n",
       "      <th>32</th>\n",
       "      <td>01_AUS</td>\n",
       "      <td>2012</td>\n",
       "      <td>10454</td>\n",
       "      <td>0</td>\n",
       "      <td>0</td>\n",
       "      <td>377</td>\n",
       "      <td>0</td>\n",
       "      <td>24</td>\n",
       "      <td>353</td>\n",
       "      <td>3244</td>\n",
       "      <td>...</td>\n",
       "      <td>1053</td>\n",
       "      <td>10</td>\n",
       "      <td>29</td>\n",
       "      <td>5243</td>\n",
       "      <td>1220.18</td>\n",
       "      <td>801.23</td>\n",
       "      <td>22.73</td>\n",
       "      <td>19.41</td>\n",
       "      <td>53673.10</td>\n",
       "      <td>2012-01-01</td>\n",
       "    </tr>\n",
       "    <tr>\n",
       "      <th>33</th>\n",
       "      <td>01_AUS</td>\n",
       "      <td>2013</td>\n",
       "      <td>10485</td>\n",
       "      <td>0</td>\n",
       "      <td>0</td>\n",
       "      <td>385</td>\n",
       "      <td>0</td>\n",
       "      <td>23</td>\n",
       "      <td>362</td>\n",
       "      <td>3329</td>\n",
       "      <td>...</td>\n",
       "      <td>1048</td>\n",
       "      <td>9</td>\n",
       "      <td>46</td>\n",
       "      <td>5417</td>\n",
       "      <td>1252.09</td>\n",
       "      <td>821.19</td>\n",
       "      <td>23.13</td>\n",
       "      <td>19.78</td>\n",
       "      <td>54137.19</td>\n",
       "      <td>2013-01-01</td>\n",
       "    </tr>\n",
       "    <tr>\n",
       "      <th>34</th>\n",
       "      <td>01_AUS</td>\n",
       "      <td>2014</td>\n",
       "      <td>10329</td>\n",
       "      <td>0</td>\n",
       "      <td>0</td>\n",
       "      <td>379</td>\n",
       "      <td>0</td>\n",
       "      <td>24</td>\n",
       "      <td>355</td>\n",
       "      <td>3416</td>\n",
       "      <td>...</td>\n",
       "      <td>1130</td>\n",
       "      <td>9</td>\n",
       "      <td>50</td>\n",
       "      <td>5444</td>\n",
       "      <td>1284.25</td>\n",
       "      <td>839.55</td>\n",
       "      <td>23.48</td>\n",
       "      <td>20.10</td>\n",
       "      <td>54705.73</td>\n",
       "      <td>2014-01-01</td>\n",
       "    </tr>\n",
       "    <tr>\n",
       "      <th>35</th>\n",
       "      <td>01_AUS</td>\n",
       "      <td>2015</td>\n",
       "      <td>10491</td>\n",
       "      <td>0</td>\n",
       "      <td>1</td>\n",
       "      <td>369</td>\n",
       "      <td>0</td>\n",
       "      <td>26</td>\n",
       "      <td>343</td>\n",
       "      <td>3488</td>\n",
       "      <td>...</td>\n",
       "      <td>1214</td>\n",
       "      <td>10</td>\n",
       "      <td>47</td>\n",
       "      <td>5772</td>\n",
       "      <td>1314.26</td>\n",
       "      <td>863.02</td>\n",
       "      <td>23.82</td>\n",
       "      <td>20.41</td>\n",
       "      <td>55183.74</td>\n",
       "      <td>2015-01-01</td>\n",
       "    </tr>\n",
       "    <tr>\n",
       "      <th>36</th>\n",
       "      <td>01_AUS</td>\n",
       "      <td>2016</td>\n",
       "      <td>10518</td>\n",
       "      <td>0</td>\n",
       "      <td>1</td>\n",
       "      <td>342</td>\n",
       "      <td>0</td>\n",
       "      <td>0</td>\n",
       "      <td>342</td>\n",
       "      <td>3564</td>\n",
       "      <td>...</td>\n",
       "      <td>1256</td>\n",
       "      <td>10</td>\n",
       "      <td>58</td>\n",
       "      <td>5789</td>\n",
       "      <td>1351.67</td>\n",
       "      <td>894.55</td>\n",
       "      <td>24.19</td>\n",
       "      <td>20.76</td>\n",
       "      <td>55875.10</td>\n",
       "      <td>2016-01-01</td>\n",
       "    </tr>\n",
       "  </tbody>\n",
       "</table>\n",
       "<p>5 rows × 31 columns</p>\n",
       "</div>"
      ],
      "text/plain": [
       "   Economy  Year   RETT  RECL  RECP  REPP  REKR  REGD  RELP  RENG  ...  CSNG  \\\n",
       "32  01_AUS  2012  10454     0     0   377     0    24   353  3244  ...  1053   \n",
       "33  01_AUS  2013  10485     0     0   385     0    23   362  3329  ...  1048   \n",
       "34  01_AUS  2014  10329     0     0   379     0    24   355  3416  ...  1130   \n",
       "35  01_AUS  2015  10491     0     1   369     0    26   343  3488  ...  1214   \n",
       "36  01_AUS  2016  10518     0     1   342     0     0   342  3564  ...  1256   \n",
       "\n",
       "    CSGL  CSOT  CSEL      GDP   CSGDP    POP   POPU      GDPC         ds  \n",
       "32    10    29  5243  1220.18  801.23  22.73  19.41  53673.10 2012-01-01  \n",
       "33     9    46  5417  1252.09  821.19  23.13  19.78  54137.19 2013-01-01  \n",
       "34     9    50  5444  1284.25  839.55  23.48  20.10  54705.73 2014-01-01  \n",
       "35    10    47  5772  1314.26  863.02  23.82  20.41  55183.74 2015-01-01  \n",
       "36    10    58  5789  1351.67  894.55  24.19  20.76  55875.10 2016-01-01  \n",
       "\n",
       "[5 rows x 31 columns]"
      ]
     },
     "execution_count": 7,
     "metadata": {},
     "output_type": "execute_result"
    }
   ],
   "source": [
    "df.tail()"
   ]
  },
  {
   "cell_type": "code",
   "execution_count": 8,
   "metadata": {},
   "outputs": [],
   "source": [
    "simple_df = df[['RETT','GDP','POP','ds']]"
   ]
  },
  {
   "cell_type": "code",
   "execution_count": 9,
   "metadata": {},
   "outputs": [
    {
     "data": {
      "text/html": [
       "<div>\n",
       "<style scoped>\n",
       "    .dataframe tbody tr th:only-of-type {\n",
       "        vertical-align: middle;\n",
       "    }\n",
       "\n",
       "    .dataframe tbody tr th {\n",
       "        vertical-align: top;\n",
       "    }\n",
       "\n",
       "    .dataframe thead th {\n",
       "        text-align: right;\n",
       "    }\n",
       "</style>\n",
       "<table border=\"1\" class=\"dataframe\">\n",
       "  <thead>\n",
       "    <tr style=\"text-align: right;\">\n",
       "      <th></th>\n",
       "      <th>RETT</th>\n",
       "      <th>GDP</th>\n",
       "      <th>POP</th>\n",
       "      <th>ds</th>\n",
       "    </tr>\n",
       "  </thead>\n",
       "  <tbody>\n",
       "    <tr>\n",
       "      <th>0</th>\n",
       "      <td>6040</td>\n",
       "      <td>439.40</td>\n",
       "      <td>14.69</td>\n",
       "      <td>1980-01-01</td>\n",
       "    </tr>\n",
       "    <tr>\n",
       "      <th>1</th>\n",
       "      <td>6098</td>\n",
       "      <td>454.07</td>\n",
       "      <td>14.93</td>\n",
       "      <td>1981-01-01</td>\n",
       "    </tr>\n",
       "    <tr>\n",
       "      <th>2</th>\n",
       "      <td>6305</td>\n",
       "      <td>469.18</td>\n",
       "      <td>15.18</td>\n",
       "      <td>1982-01-01</td>\n",
       "    </tr>\n",
       "    <tr>\n",
       "      <th>3</th>\n",
       "      <td>6309</td>\n",
       "      <td>458.76</td>\n",
       "      <td>15.37</td>\n",
       "      <td>1983-01-01</td>\n",
       "    </tr>\n",
       "    <tr>\n",
       "      <th>4</th>\n",
       "      <td>6411</td>\n",
       "      <td>479.78</td>\n",
       "      <td>15.54</td>\n",
       "      <td>1984-01-01</td>\n",
       "    </tr>\n",
       "  </tbody>\n",
       "</table>\n",
       "</div>"
      ],
      "text/plain": [
       "   RETT     GDP    POP         ds\n",
       "0  6040  439.40  14.69 1980-01-01\n",
       "1  6098  454.07  14.93 1981-01-01\n",
       "2  6305  469.18  15.18 1982-01-01\n",
       "3  6309  458.76  15.37 1983-01-01\n",
       "4  6411  479.78  15.54 1984-01-01"
      ]
     },
     "execution_count": 9,
     "metadata": {},
     "output_type": "execute_result"
    }
   ],
   "source": [
    "simple_df.head()"
   ]
  },
  {
   "cell_type": "code",
   "execution_count": 10,
   "metadata": {},
   "outputs": [
    {
     "data": {
      "text/html": [
       "<div>\n",
       "<style scoped>\n",
       "    .dataframe tbody tr th:only-of-type {\n",
       "        vertical-align: middle;\n",
       "    }\n",
       "\n",
       "    .dataframe tbody tr th {\n",
       "        vertical-align: top;\n",
       "    }\n",
       "\n",
       "    .dataframe thead th {\n",
       "        text-align: right;\n",
       "    }\n",
       "</style>\n",
       "<table border=\"1\" class=\"dataframe\">\n",
       "  <thead>\n",
       "    <tr style=\"text-align: right;\">\n",
       "      <th></th>\n",
       "      <th>y</th>\n",
       "      <th>GDP</th>\n",
       "      <th>POP</th>\n",
       "      <th>ds</th>\n",
       "    </tr>\n",
       "  </thead>\n",
       "  <tbody>\n",
       "    <tr>\n",
       "      <th>0</th>\n",
       "      <td>6040</td>\n",
       "      <td>439.40</td>\n",
       "      <td>14.69</td>\n",
       "      <td>1980-01-01</td>\n",
       "    </tr>\n",
       "    <tr>\n",
       "      <th>1</th>\n",
       "      <td>6098</td>\n",
       "      <td>454.07</td>\n",
       "      <td>14.93</td>\n",
       "      <td>1981-01-01</td>\n",
       "    </tr>\n",
       "    <tr>\n",
       "      <th>2</th>\n",
       "      <td>6305</td>\n",
       "      <td>469.18</td>\n",
       "      <td>15.18</td>\n",
       "      <td>1982-01-01</td>\n",
       "    </tr>\n",
       "    <tr>\n",
       "      <th>3</th>\n",
       "      <td>6309</td>\n",
       "      <td>458.76</td>\n",
       "      <td>15.37</td>\n",
       "      <td>1983-01-01</td>\n",
       "    </tr>\n",
       "    <tr>\n",
       "      <th>4</th>\n",
       "      <td>6411</td>\n",
       "      <td>479.78</td>\n",
       "      <td>15.54</td>\n",
       "      <td>1984-01-01</td>\n",
       "    </tr>\n",
       "  </tbody>\n",
       "</table>\n",
       "</div>"
      ],
      "text/plain": [
       "      y     GDP    POP         ds\n",
       "0  6040  439.40  14.69 1980-01-01\n",
       "1  6098  454.07  14.93 1981-01-01\n",
       "2  6305  469.18  15.18 1982-01-01\n",
       "3  6309  458.76  15.37 1983-01-01\n",
       "4  6411  479.78  15.54 1984-01-01"
      ]
     },
     "execution_count": 10,
     "metadata": {},
     "output_type": "execute_result"
    }
   ],
   "source": [
    "simple_df = simple_df.rename(columns={\"RETT\":\"y\"})\n",
    "simple_df.head()"
   ]
  },
  {
   "cell_type": "code",
   "execution_count": 11,
   "metadata": {},
   "outputs": [
    {
     "data": {
      "text/plain": [
       "<fbprophet.forecaster.Prophet at 0x21b983bc088>"
      ]
     },
     "execution_count": 11,
     "metadata": {},
     "output_type": "execute_result"
    }
   ],
   "source": [
    "m = Prophet(daily_seasonality=False,\n",
    "            weekly_seasonality=False,\n",
    "            yearly_seasonality=False,\n",
    "            seasonality_mode='additive',\n",
    "            growth='linear')\n",
    "\n",
    "m.add_regressor('GDP')\n",
    "m.add_regressor('POP')\n",
    "m.fit(simple_df)"
   ]
  },
  {
   "cell_type": "code",
   "execution_count": 12,
   "metadata": {},
   "outputs": [
    {
     "data": {
      "text/html": [
       "<div>\n",
       "<style scoped>\n",
       "    .dataframe tbody tr th:only-of-type {\n",
       "        vertical-align: middle;\n",
       "    }\n",
       "\n",
       "    .dataframe tbody tr th {\n",
       "        vertical-align: top;\n",
       "    }\n",
       "\n",
       "    .dataframe thead th {\n",
       "        text-align: right;\n",
       "    }\n",
       "</style>\n",
       "<table border=\"1\" class=\"dataframe\">\n",
       "  <thead>\n",
       "    <tr style=\"text-align: right;\">\n",
       "      <th></th>\n",
       "      <th>Year</th>\n",
       "      <th>GDP</th>\n",
       "      <th>Population</th>\n",
       "    </tr>\n",
       "  </thead>\n",
       "  <tbody>\n",
       "    <tr>\n",
       "      <th>0</th>\n",
       "      <td>12/31/2017</td>\n",
       "      <td>1157.283926</td>\n",
       "      <td>24.451</td>\n",
       "    </tr>\n",
       "    <tr>\n",
       "      <th>1</th>\n",
       "      <td>12/31/2018</td>\n",
       "      <td>1201.142573</td>\n",
       "      <td>24.772</td>\n",
       "    </tr>\n",
       "    <tr>\n",
       "      <th>2</th>\n",
       "      <td>12/31/2019</td>\n",
       "      <td>1245.039044</td>\n",
       "      <td>25.089</td>\n",
       "    </tr>\n",
       "    <tr>\n",
       "      <th>3</th>\n",
       "      <td>12/31/2020</td>\n",
       "      <td>1289.224526</td>\n",
       "      <td>25.398</td>\n",
       "    </tr>\n",
       "    <tr>\n",
       "      <th>4</th>\n",
       "      <td>12/31/2021</td>\n",
       "      <td>1333.639686</td>\n",
       "      <td>25.700</td>\n",
       "    </tr>\n",
       "  </tbody>\n",
       "</table>\n",
       "</div>"
      ],
      "text/plain": [
       "         Year          GDP  Population\n",
       "0  12/31/2017  1157.283926      24.451\n",
       "1  12/31/2018  1201.142573      24.772\n",
       "2  12/31/2019  1245.039044      25.089\n",
       "3  12/31/2020  1289.224526      25.398\n",
       "4  12/31/2021  1333.639686      25.700"
      ]
     },
     "execution_count": 12,
     "metadata": {},
     "output_type": "execute_result"
    }
   ],
   "source": [
    "# add future GDP\n",
    "\n",
    "df_future_macro = pd.read_csv('../data/raw/Industry/MacroAssumptions_datetime.csv',\n",
    "                             index_col=['Economy'])\n",
    "\n",
    "df_future_macro = df_future_macro.loc['AUS',:]\n",
    "df_future_macro = df_future_macro.reset_index(drop=True)\n",
    "\n",
    "df_future_macro.head()"
   ]
  },
  {
   "cell_type": "code",
   "execution_count": 13,
   "metadata": {},
   "outputs": [
    {
     "data": {
      "text/html": [
       "<div>\n",
       "<style scoped>\n",
       "    .dataframe tbody tr th:only-of-type {\n",
       "        vertical-align: middle;\n",
       "    }\n",
       "\n",
       "    .dataframe tbody tr th {\n",
       "        vertical-align: top;\n",
       "    }\n",
       "\n",
       "    .dataframe thead th {\n",
       "        text-align: right;\n",
       "    }\n",
       "</style>\n",
       "<table border=\"1\" class=\"dataframe\">\n",
       "  <thead>\n",
       "    <tr style=\"text-align: right;\">\n",
       "      <th></th>\n",
       "      <th>Year</th>\n",
       "      <th>GDP</th>\n",
       "      <th>POP</th>\n",
       "    </tr>\n",
       "  </thead>\n",
       "  <tbody>\n",
       "    <tr>\n",
       "      <th>0</th>\n",
       "      <td>12/31/2017</td>\n",
       "      <td>1157.283926</td>\n",
       "      <td>24.451</td>\n",
       "    </tr>\n",
       "    <tr>\n",
       "      <th>1</th>\n",
       "      <td>12/31/2018</td>\n",
       "      <td>1201.142573</td>\n",
       "      <td>24.772</td>\n",
       "    </tr>\n",
       "    <tr>\n",
       "      <th>2</th>\n",
       "      <td>12/31/2019</td>\n",
       "      <td>1245.039044</td>\n",
       "      <td>25.089</td>\n",
       "    </tr>\n",
       "    <tr>\n",
       "      <th>3</th>\n",
       "      <td>12/31/2020</td>\n",
       "      <td>1289.224526</td>\n",
       "      <td>25.398</td>\n",
       "    </tr>\n",
       "    <tr>\n",
       "      <th>4</th>\n",
       "      <td>12/31/2021</td>\n",
       "      <td>1333.639686</td>\n",
       "      <td>25.700</td>\n",
       "    </tr>\n",
       "  </tbody>\n",
       "</table>\n",
       "</div>"
      ],
      "text/plain": [
       "         Year          GDP     POP\n",
       "0  12/31/2017  1157.283926  24.451\n",
       "1  12/31/2018  1201.142573  24.772\n",
       "2  12/31/2019  1245.039044  25.089\n",
       "3  12/31/2020  1289.224526  25.398\n",
       "4  12/31/2021  1333.639686  25.700"
      ]
     },
     "execution_count": 13,
     "metadata": {},
     "output_type": "execute_result"
    }
   ],
   "source": [
    "df_future_macro = df_future_macro.rename(columns={\"Population\":\"POP\"})\n",
    "df_future_macro.head()"
   ]
  },
  {
   "cell_type": "code",
   "execution_count": 14,
   "metadata": {},
   "outputs": [
    {
     "data": {
      "text/html": [
       "<div>\n",
       "<style scoped>\n",
       "    .dataframe tbody tr th:only-of-type {\n",
       "        vertical-align: middle;\n",
       "    }\n",
       "\n",
       "    .dataframe tbody tr th {\n",
       "        vertical-align: top;\n",
       "    }\n",
       "\n",
       "    .dataframe thead th {\n",
       "        text-align: right;\n",
       "    }\n",
       "</style>\n",
       "<table border=\"1\" class=\"dataframe\">\n",
       "  <thead>\n",
       "    <tr style=\"text-align: right;\">\n",
       "      <th></th>\n",
       "      <th>ds</th>\n",
       "    </tr>\n",
       "  </thead>\n",
       "  <tbody>\n",
       "    <tr>\n",
       "      <th>0</th>\n",
       "      <td>1980-01-01</td>\n",
       "    </tr>\n",
       "    <tr>\n",
       "      <th>1</th>\n",
       "      <td>1981-01-01</td>\n",
       "    </tr>\n",
       "    <tr>\n",
       "      <th>2</th>\n",
       "      <td>1982-01-01</td>\n",
       "    </tr>\n",
       "    <tr>\n",
       "      <th>3</th>\n",
       "      <td>1983-01-01</td>\n",
       "    </tr>\n",
       "    <tr>\n",
       "      <th>4</th>\n",
       "      <td>1984-01-01</td>\n",
       "    </tr>\n",
       "  </tbody>\n",
       "</table>\n",
       "</div>"
      ],
      "text/plain": [
       "          ds\n",
       "0 1980-01-01\n",
       "1 1981-01-01\n",
       "2 1982-01-01\n",
       "3 1983-01-01\n",
       "4 1984-01-01"
      ]
     },
     "execution_count": 14,
     "metadata": {},
     "output_type": "execute_result"
    }
   ],
   "source": [
    "future = m.make_future_dataframe(periods=34,\n",
    "                                 freq = 'Y',\n",
    "                                 include_history=True)\n",
    "future.head()"
   ]
  },
  {
   "cell_type": "code",
   "execution_count": 15,
   "metadata": {},
   "outputs": [
    {
     "data": {
      "text/html": [
       "<div>\n",
       "<style scoped>\n",
       "    .dataframe tbody tr th:only-of-type {\n",
       "        vertical-align: middle;\n",
       "    }\n",
       "\n",
       "    .dataframe tbody tr th {\n",
       "        vertical-align: top;\n",
       "    }\n",
       "\n",
       "    .dataframe thead th {\n",
       "        text-align: right;\n",
       "    }\n",
       "</style>\n",
       "<table border=\"1\" class=\"dataframe\">\n",
       "  <thead>\n",
       "    <tr style=\"text-align: right;\">\n",
       "      <th></th>\n",
       "      <th>ds</th>\n",
       "    </tr>\n",
       "  </thead>\n",
       "  <tbody>\n",
       "    <tr>\n",
       "      <th>66</th>\n",
       "      <td>2045-12-31</td>\n",
       "    </tr>\n",
       "    <tr>\n",
       "      <th>67</th>\n",
       "      <td>2046-12-31</td>\n",
       "    </tr>\n",
       "    <tr>\n",
       "      <th>68</th>\n",
       "      <td>2047-12-31</td>\n",
       "    </tr>\n",
       "    <tr>\n",
       "      <th>69</th>\n",
       "      <td>2048-12-31</td>\n",
       "    </tr>\n",
       "    <tr>\n",
       "      <th>70</th>\n",
       "      <td>2049-12-31</td>\n",
       "    </tr>\n",
       "  </tbody>\n",
       "</table>\n",
       "</div>"
      ],
      "text/plain": [
       "           ds\n",
       "66 2045-12-31\n",
       "67 2046-12-31\n",
       "68 2047-12-31\n",
       "69 2048-12-31\n",
       "70 2049-12-31"
      ]
     },
     "execution_count": 15,
     "metadata": {},
     "output_type": "execute_result"
    }
   ],
   "source": [
    "future.tail()"
   ]
  },
  {
   "cell_type": "code",
   "execution_count": 16,
   "metadata": {},
   "outputs": [
    {
     "data": {
      "text/html": [
       "<div>\n",
       "<style scoped>\n",
       "    .dataframe tbody tr th:only-of-type {\n",
       "        vertical-align: middle;\n",
       "    }\n",
       "\n",
       "    .dataframe tbody tr th {\n",
       "        vertical-align: top;\n",
       "    }\n",
       "\n",
       "    .dataframe thead th {\n",
       "        text-align: right;\n",
       "    }\n",
       "</style>\n",
       "<table border=\"1\" class=\"dataframe\">\n",
       "  <thead>\n",
       "    <tr style=\"text-align: right;\">\n",
       "      <th></th>\n",
       "      <th>GDP</th>\n",
       "      <th>POP</th>\n",
       "    </tr>\n",
       "  </thead>\n",
       "  <tbody>\n",
       "    <tr>\n",
       "      <th>0</th>\n",
       "      <td>439.40</td>\n",
       "      <td>14.69</td>\n",
       "    </tr>\n",
       "    <tr>\n",
       "      <th>1</th>\n",
       "      <td>454.07</td>\n",
       "      <td>14.93</td>\n",
       "    </tr>\n",
       "    <tr>\n",
       "      <th>2</th>\n",
       "      <td>469.18</td>\n",
       "      <td>15.18</td>\n",
       "    </tr>\n",
       "    <tr>\n",
       "      <th>3</th>\n",
       "      <td>458.76</td>\n",
       "      <td>15.37</td>\n",
       "    </tr>\n",
       "    <tr>\n",
       "      <th>4</th>\n",
       "      <td>479.78</td>\n",
       "      <td>15.54</td>\n",
       "    </tr>\n",
       "  </tbody>\n",
       "</table>\n",
       "</div>"
      ],
      "text/plain": [
       "      GDP    POP\n",
       "0  439.40  14.69\n",
       "1  454.07  14.93\n",
       "2  469.18  15.18\n",
       "3  458.76  15.37\n",
       "4  479.78  15.54"
      ]
     },
     "execution_count": 16,
     "metadata": {},
     "output_type": "execute_result"
    }
   ],
   "source": [
    "df1 = simple_df.drop(columns=['y','ds'])\n",
    "df1.head()"
   ]
  },
  {
   "cell_type": "code",
   "execution_count": 17,
   "metadata": {},
   "outputs": [
    {
     "data": {
      "text/html": [
       "<div>\n",
       "<style scoped>\n",
       "    .dataframe tbody tr th:only-of-type {\n",
       "        vertical-align: middle;\n",
       "    }\n",
       "\n",
       "    .dataframe tbody tr th {\n",
       "        vertical-align: top;\n",
       "    }\n",
       "\n",
       "    .dataframe thead th {\n",
       "        text-align: right;\n",
       "    }\n",
       "</style>\n",
       "<table border=\"1\" class=\"dataframe\">\n",
       "  <thead>\n",
       "    <tr style=\"text-align: right;\">\n",
       "      <th></th>\n",
       "      <th>GDP</th>\n",
       "      <th>POP</th>\n",
       "    </tr>\n",
       "  </thead>\n",
       "  <tbody>\n",
       "    <tr>\n",
       "      <th>0</th>\n",
       "      <td>1157.283926</td>\n",
       "      <td>24.451</td>\n",
       "    </tr>\n",
       "    <tr>\n",
       "      <th>1</th>\n",
       "      <td>1201.142573</td>\n",
       "      <td>24.772</td>\n",
       "    </tr>\n",
       "    <tr>\n",
       "      <th>2</th>\n",
       "      <td>1245.039044</td>\n",
       "      <td>25.089</td>\n",
       "    </tr>\n",
       "    <tr>\n",
       "      <th>3</th>\n",
       "      <td>1289.224526</td>\n",
       "      <td>25.398</td>\n",
       "    </tr>\n",
       "    <tr>\n",
       "      <th>4</th>\n",
       "      <td>1333.639686</td>\n",
       "      <td>25.700</td>\n",
       "    </tr>\n",
       "  </tbody>\n",
       "</table>\n",
       "</div>"
      ],
      "text/plain": [
       "           GDP     POP\n",
       "0  1157.283926  24.451\n",
       "1  1201.142573  24.772\n",
       "2  1245.039044  25.089\n",
       "3  1289.224526  25.398\n",
       "4  1333.639686  25.700"
      ]
     },
     "execution_count": 17,
     "metadata": {},
     "output_type": "execute_result"
    }
   ],
   "source": [
    "df2 = df_future_macro.drop(columns=['Year'])\n",
    "df2.head()"
   ]
  },
  {
   "cell_type": "code",
   "execution_count": 18,
   "metadata": {},
   "outputs": [
    {
     "data": {
      "text/html": [
       "<div>\n",
       "<style scoped>\n",
       "    .dataframe tbody tr th:only-of-type {\n",
       "        vertical-align: middle;\n",
       "    }\n",
       "\n",
       "    .dataframe tbody tr th {\n",
       "        vertical-align: top;\n",
       "    }\n",
       "\n",
       "    .dataframe thead th {\n",
       "        text-align: right;\n",
       "    }\n",
       "</style>\n",
       "<table border=\"1\" class=\"dataframe\">\n",
       "  <thead>\n",
       "    <tr style=\"text-align: right;\">\n",
       "      <th></th>\n",
       "      <th>GDP</th>\n",
       "      <th>POP</th>\n",
       "    </tr>\n",
       "  </thead>\n",
       "  <tbody>\n",
       "    <tr>\n",
       "      <th>0</th>\n",
       "      <td>439.40</td>\n",
       "      <td>14.69</td>\n",
       "    </tr>\n",
       "    <tr>\n",
       "      <th>1</th>\n",
       "      <td>454.07</td>\n",
       "      <td>14.93</td>\n",
       "    </tr>\n",
       "    <tr>\n",
       "      <th>2</th>\n",
       "      <td>469.18</td>\n",
       "      <td>15.18</td>\n",
       "    </tr>\n",
       "    <tr>\n",
       "      <th>3</th>\n",
       "      <td>458.76</td>\n",
       "      <td>15.37</td>\n",
       "    </tr>\n",
       "    <tr>\n",
       "      <th>4</th>\n",
       "      <td>479.78</td>\n",
       "      <td>15.54</td>\n",
       "    </tr>\n",
       "  </tbody>\n",
       "</table>\n",
       "</div>"
      ],
      "text/plain": [
       "      GDP    POP\n",
       "0  439.40  14.69\n",
       "1  454.07  14.93\n",
       "2  469.18  15.18\n",
       "3  458.76  15.37\n",
       "4  479.78  15.54"
      ]
     },
     "execution_count": 18,
     "metadata": {},
     "output_type": "execute_result"
    }
   ],
   "source": [
    "df_future = pd.concat([df1,df2],\n",
    "                      ignore_index=True)\n",
    "\n",
    "df_future.head()"
   ]
  },
  {
   "cell_type": "code",
   "execution_count": 19,
   "metadata": {},
   "outputs": [
    {
     "data": {
      "text/html": [
       "<div>\n",
       "<style scoped>\n",
       "    .dataframe tbody tr th:only-of-type {\n",
       "        vertical-align: middle;\n",
       "    }\n",
       "\n",
       "    .dataframe tbody tr th {\n",
       "        vertical-align: top;\n",
       "    }\n",
       "\n",
       "    .dataframe thead th {\n",
       "        text-align: right;\n",
       "    }\n",
       "</style>\n",
       "<table border=\"1\" class=\"dataframe\">\n",
       "  <thead>\n",
       "    <tr style=\"text-align: right;\">\n",
       "      <th></th>\n",
       "      <th>GDP</th>\n",
       "      <th>POP</th>\n",
       "    </tr>\n",
       "  </thead>\n",
       "  <tbody>\n",
       "    <tr>\n",
       "      <th>66</th>\n",
       "      <td>2670.775153</td>\n",
       "      <td>32.225</td>\n",
       "    </tr>\n",
       "    <tr>\n",
       "      <th>67</th>\n",
       "      <td>2731.887132</td>\n",
       "      <td>32.468</td>\n",
       "    </tr>\n",
       "    <tr>\n",
       "      <th>68</th>\n",
       "      <td>2794.170024</td>\n",
       "      <td>32.710</td>\n",
       "    </tr>\n",
       "    <tr>\n",
       "      <th>69</th>\n",
       "      <td>2857.579294</td>\n",
       "      <td>32.950</td>\n",
       "    </tr>\n",
       "    <tr>\n",
       "      <th>70</th>\n",
       "      <td>2922.072575</td>\n",
       "      <td>33.187</td>\n",
       "    </tr>\n",
       "  </tbody>\n",
       "</table>\n",
       "</div>"
      ],
      "text/plain": [
       "            GDP     POP\n",
       "66  2670.775153  32.225\n",
       "67  2731.887132  32.468\n",
       "68  2794.170024  32.710\n",
       "69  2857.579294  32.950\n",
       "70  2922.072575  33.187"
      ]
     },
     "execution_count": 19,
     "metadata": {},
     "output_type": "execute_result"
    }
   ],
   "source": [
    "df_future.tail()"
   ]
  },
  {
   "cell_type": "code",
   "execution_count": 20,
   "metadata": {},
   "outputs": [],
   "source": [
    "future = future.join(df_future)"
   ]
  },
  {
   "cell_type": "code",
   "execution_count": 21,
   "metadata": {},
   "outputs": [
    {
     "data": {
      "text/html": [
       "<div>\n",
       "<style scoped>\n",
       "    .dataframe tbody tr th:only-of-type {\n",
       "        vertical-align: middle;\n",
       "    }\n",
       "\n",
       "    .dataframe tbody tr th {\n",
       "        vertical-align: top;\n",
       "    }\n",
       "\n",
       "    .dataframe thead th {\n",
       "        text-align: right;\n",
       "    }\n",
       "</style>\n",
       "<table border=\"1\" class=\"dataframe\">\n",
       "  <thead>\n",
       "    <tr style=\"text-align: right;\">\n",
       "      <th></th>\n",
       "      <th>ds</th>\n",
       "      <th>GDP</th>\n",
       "      <th>POP</th>\n",
       "    </tr>\n",
       "  </thead>\n",
       "  <tbody>\n",
       "    <tr>\n",
       "      <th>0</th>\n",
       "      <td>1980-01-01</td>\n",
       "      <td>439.40</td>\n",
       "      <td>14.69</td>\n",
       "    </tr>\n",
       "    <tr>\n",
       "      <th>1</th>\n",
       "      <td>1981-01-01</td>\n",
       "      <td>454.07</td>\n",
       "      <td>14.93</td>\n",
       "    </tr>\n",
       "    <tr>\n",
       "      <th>2</th>\n",
       "      <td>1982-01-01</td>\n",
       "      <td>469.18</td>\n",
       "      <td>15.18</td>\n",
       "    </tr>\n",
       "    <tr>\n",
       "      <th>3</th>\n",
       "      <td>1983-01-01</td>\n",
       "      <td>458.76</td>\n",
       "      <td>15.37</td>\n",
       "    </tr>\n",
       "    <tr>\n",
       "      <th>4</th>\n",
       "      <td>1984-01-01</td>\n",
       "      <td>479.78</td>\n",
       "      <td>15.54</td>\n",
       "    </tr>\n",
       "  </tbody>\n",
       "</table>\n",
       "</div>"
      ],
      "text/plain": [
       "          ds     GDP    POP\n",
       "0 1980-01-01  439.40  14.69\n",
       "1 1981-01-01  454.07  14.93\n",
       "2 1982-01-01  469.18  15.18\n",
       "3 1983-01-01  458.76  15.37\n",
       "4 1984-01-01  479.78  15.54"
      ]
     },
     "execution_count": 21,
     "metadata": {},
     "output_type": "execute_result"
    }
   ],
   "source": [
    "future.head()"
   ]
  },
  {
   "cell_type": "code",
   "execution_count": 22,
   "metadata": {},
   "outputs": [
    {
     "data": {
      "text/html": [
       "<div>\n",
       "<style scoped>\n",
       "    .dataframe tbody tr th:only-of-type {\n",
       "        vertical-align: middle;\n",
       "    }\n",
       "\n",
       "    .dataframe tbody tr th {\n",
       "        vertical-align: top;\n",
       "    }\n",
       "\n",
       "    .dataframe thead th {\n",
       "        text-align: right;\n",
       "    }\n",
       "</style>\n",
       "<table border=\"1\" class=\"dataframe\">\n",
       "  <thead>\n",
       "    <tr style=\"text-align: right;\">\n",
       "      <th></th>\n",
       "      <th>ds</th>\n",
       "      <th>GDP</th>\n",
       "      <th>POP</th>\n",
       "    </tr>\n",
       "  </thead>\n",
       "  <tbody>\n",
       "    <tr>\n",
       "      <th>66</th>\n",
       "      <td>2045-12-31</td>\n",
       "      <td>2670.775153</td>\n",
       "      <td>32.225</td>\n",
       "    </tr>\n",
       "    <tr>\n",
       "      <th>67</th>\n",
       "      <td>2046-12-31</td>\n",
       "      <td>2731.887132</td>\n",
       "      <td>32.468</td>\n",
       "    </tr>\n",
       "    <tr>\n",
       "      <th>68</th>\n",
       "      <td>2047-12-31</td>\n",
       "      <td>2794.170024</td>\n",
       "      <td>32.710</td>\n",
       "    </tr>\n",
       "    <tr>\n",
       "      <th>69</th>\n",
       "      <td>2048-12-31</td>\n",
       "      <td>2857.579294</td>\n",
       "      <td>32.950</td>\n",
       "    </tr>\n",
       "    <tr>\n",
       "      <th>70</th>\n",
       "      <td>2049-12-31</td>\n",
       "      <td>2922.072575</td>\n",
       "      <td>33.187</td>\n",
       "    </tr>\n",
       "  </tbody>\n",
       "</table>\n",
       "</div>"
      ],
      "text/plain": [
       "           ds          GDP     POP\n",
       "66 2045-12-31  2670.775153  32.225\n",
       "67 2046-12-31  2731.887132  32.468\n",
       "68 2047-12-31  2794.170024  32.710\n",
       "69 2048-12-31  2857.579294  32.950\n",
       "70 2049-12-31  2922.072575  33.187"
      ]
     },
     "execution_count": 22,
     "metadata": {},
     "output_type": "execute_result"
    }
   ],
   "source": [
    "future.tail()"
   ]
  },
  {
   "cell_type": "code",
   "execution_count": null,
   "metadata": {},
   "outputs": [],
   "source": [
    "forecast = m.predict(future)\n",
    "forecast[['ds', 'yhat', 'yhat_lower', 'yhat_upper']]"
   ]
  },
  {
   "cell_type": "code",
   "execution_count": null,
   "metadata": {},
   "outputs": [],
   "source": [
    "fig1 = m.plot(forecast)"
   ]
  },
  {
   "cell_type": "code",
   "execution_count": null,
   "metadata": {},
   "outputs": [],
   "source": [
    "future.iloc[20:40,:]"
   ]
  },
  {
   "cell_type": "markdown",
   "metadata": {},
   "source": [
    "# SciKit-Learn"
   ]
  },
  {
   "cell_type": "code",
   "execution_count": null,
   "metadata": {},
   "outputs": [],
   "source": [
    "from sklearn.linear_model import LinearRegression"
   ]
  },
  {
   "cell_type": "code",
   "execution_count": null,
   "metadata": {},
   "outputs": [],
   "source": [
    "model = LinearRegression()"
   ]
  },
  {
   "cell_type": "code",
   "execution_count": null,
   "metadata": {},
   "outputs": [],
   "source": [
    "model.fit(simple_df[[\"GDP\",\"POP\"]],simple_df[['ds']])"
   ]
  },
  {
   "cell_type": "code",
   "execution_count": null,
   "metadata": {},
   "outputs": [],
   "source": [
    "model.fit(X_train,y)"
   ]
  },
  {
   "cell_type": "code",
   "execution_count": null,
   "metadata": {},
   "outputs": [],
   "source": [
    "predictions = model.predict(X_test)"
   ]
  },
  {
   "cell_type": "code",
   "execution_count": null,
   "metadata": {},
   "outputs": [],
   "source": [
    "predictions"
   ]
  },
  {
   "cell_type": "code",
   "execution_count": null,
   "metadata": {},
   "outputs": [],
   "source": [
    "model2 = LinearRegression()"
   ]
  },
  {
   "cell_type": "code",
   "execution_count": null,
   "metadata": {},
   "outputs": [],
   "source": [
    "model2.fit(simple_df[[\"GDP\",\"POP\"]],simple_df[['y']])"
   ]
  },
  {
   "cell_type": "code",
   "execution_count": null,
   "metadata": {},
   "outputs": [],
   "source": [
    "predictions2 = model2.predict(future[[\"GDP\",\"POP\"]])\n",
    "predictions2"
   ]
  },
  {
   "cell_type": "code",
   "execution_count": null,
   "metadata": {},
   "outputs": [],
   "source": [
    "fig, ax = plt.subplots()\n",
    "ax.plot(future[['ds']],predictions2, 'o', label=\"Predictions\")\n",
    "ax.plot(simple_df[['ds']],simple_df[[\"y\"]], 'o', label=\"Actual\")\n",
    "ax.legend(loc=\"best\")"
   ]
  },
  {
   "cell_type": "markdown",
   "metadata": {},
   "source": [
    "# Using own functions"
   ]
  },
  {
   "cell_type": "code",
   "execution_count": null,
   "metadata": {},
   "outputs": [],
   "source": [
    "def run_regression(models, economies, df, x, y):\n",
    "    \"\"\"\n",
    "    Perform linear regression for one or multiple economies.\n",
    "    economy = list of economies\n",
    "    models = {economy: LinearRegression() for economy in economies}\n",
    "    The function returns a dictionary of economy-model pairs. That is,\n",
    "    each economy will have its own set of coefficients.\n",
    "    \"\"\"\n",
    "    for economy, model in models.items():\n",
    "            (model.fit(df.loc[economy, x],\n",
    "                df.loc[economy, y]))\n",
    "    return models  "
   ]
  },
  {
   "cell_type": "code",
   "execution_count": null,
   "metadata": {},
   "outputs": [],
   "source": [
    "def run_prediction(models, economies, df, ResultsColumn):\n",
    "    \"\"\"\n",
    "    Use coefficients from run_regression to generate predictions.\n",
    "    Pass a dataframe df with the X and Y data. \n",
    "    ResultsColumn = name of prediction results\n",
    "    \"\"\"\n",
    "    df_list =[]\n",
    "    # run predictions\n",
    "    for economy, model in models.items():\n",
    "            #years = df['Year']\n",
    "            #years.reset_index(drop=True, inplace=True)\n",
    "            prediction = model.predict(df.loc[economy,:])\n",
    "            df_name = pd.DataFrame(prediction, columns=ResultsColumn)\n",
    "            #df_name.insert(loc=0,column='Year',value=years)\n",
    "            df_name.insert(loc=0,column='Economy',value=economy)\n",
    "            #df_list.append(df_name)\n",
    "            \n",
    "            # adding to the input df\n",
    "            df2 = df.loc[economy,:]\n",
    "            df2.insert(loc=0,column=\"Results\",value=prediction)\n",
    "            df2.insert(loc=0,column='Economy',value=economy)\n",
    "            df2 = df2.reset_index()\n",
    "            df2 = df2.set_index(['Economy','Year'])\n",
    "            df_list.append(df2)\n",
    "\n",
    "    # combine individual economy dataframes to one dataframe\n",
    "    dfResults = pd.concat(df_list, sort=True)\n",
    "    return dfResults\n",
    "#    return df2"
   ]
  },
  {
   "cell_type": "code",
   "execution_count": null,
   "metadata": {},
   "outputs": [],
   "source": [
    "# create plotting function\n",
    "\n",
    "def plot2(economies, df, figurename, Plotylabel, share_x, share_y):\n",
    "    \"\"\"\n",
    "    Line plot for 21 economies. \n",
    "    Economies = economies to plot\n",
    "    df = dataframe of data to plot. Note: each line must be a column.\n",
    "    Plotylabel = y label for graph\n",
    "    share_x = share the x axis (true or False)\n",
    "    share_y = share the y axis (True or False)\n",
    "    \"\"\"\n",
    "    print('Preparing plots...')\n",
    "    # Create the 'figure'\n",
    "    plt.style.use('tableau-colorblind10')\n",
    "    \n",
    "    # multiple line plot\n",
    "    fig, axes = plt.subplots(nrows=3, ncols=7, sharex=share_x, sharey=share_y, figsize=(16,12))\n",
    "    for ax, economy,num in zip(axes.flatten(), economies, range(1,22)):\n",
    "        print('Creating plot for %s...' %economy)\n",
    "        df11=df[df['Economy']==economy]\n",
    "    \n",
    "        for column in df11.drop(['Economy','Year'], axis=1):\n",
    "            ax.plot(df11['Year'], df11[column], marker='', linewidth=1.5, label=economy)\n",
    "            ax.set_title(economy)\n",
    "            ax.set_ylabel(Plotylabel)\n",
    "        ax.label_outer()\n",
    "    \n",
    "    #plt.tight_layout()\n",
    "    fig.legend( list(df.drop(['Economy','Year'], axis=1)), bbox_to_anchor=(0,0,1,0.25), loc='lower center', ncol=9)\n",
    "    fig.savefig(figurename,dpi=200)\n",
    "    print('Figure saved as %s' % figurename)\n",
    "    print('Preparing to show the figure...')\n",
    "    plt.show()"
   ]
  },
  {
   "cell_type": "code",
   "execution_count": null,
   "metadata": {},
   "outputs": [],
   "source": [
    "df = pd.read_csv(\"../data/raw/Residential/AUS_data.csv\",\n",
    "                index_col=['Economy','Year'])"
   ]
  },
  {
   "cell_type": "code",
   "execution_count": null,
   "metadata": {},
   "outputs": [],
   "source": [
    "df.head()"
   ]
  },
  {
   "cell_type": "code",
   "execution_count": null,
   "metadata": {},
   "outputs": [],
   "source": [
    "economies = df.index.unique(level=0)\n",
    "economies"
   ]
  },
  {
   "cell_type": "code",
   "execution_count": null,
   "metadata": {},
   "outputs": [],
   "source": [
    "# get list of economies and create economy-model pairs\n",
    "\n",
    "models = {economy: LinearRegression() for economy in economies}"
   ]
  },
  {
   "cell_type": "code",
   "execution_count": null,
   "metadata": {},
   "outputs": [],
   "source": [
    "x = ['GDP','POP']\n",
    "y = ['RETT']\n",
    "df.head()"
   ]
  },
  {
   "cell_type": "code",
   "execution_count": null,
   "metadata": {},
   "outputs": [],
   "source": [
    "run_regression(models,economies,df,x,y)"
   ]
  },
  {
   "cell_type": "code",
   "execution_count": null,
   "metadata": {},
   "outputs": [],
   "source": [
    "# make predictions\n",
    "\n",
    "df_future = pd.read_csv(\"../data/raw/Residential/MacroAssumptions_datetime-AUS.csv\",\n",
    "                        index_col=['Economy'])\n",
    "df_future.head()"
   ]
  },
  {
   "cell_type": "code",
   "execution_count": null,
   "metadata": {},
   "outputs": [],
   "source": [
    "df2 = df_future.drop(columns=[\"Year\"],axis=1)\n",
    "df2 = df2.rename(columns={\"Year2\":\"Year\",\"Population\":\"POP\"})\n",
    "df2 = df2.reset_index(drop=False).set_index(['Economy','Year'])\n",
    "\n",
    "#df2 = df2.drop(columns=[\"Year\"],axis=1)\n",
    "ResultsColumn = [\"y_prediction\"]\n",
    "df2.head()"
   ]
  },
  {
   "cell_type": "code",
   "execution_count": null,
   "metadata": {},
   "outputs": [],
   "source": [
    "results = run_prediction(models, economies, df2, ResultsColumn)\n",
    "results = results.rename(columns={\"Results\":\"Predicted RETT\"})"
   ]
  },
  {
   "cell_type": "code",
   "execution_count": null,
   "metadata": {},
   "outputs": [],
   "source": [
    "results.tail()"
   ]
  },
  {
   "cell_type": "code",
   "execution_count": null,
   "metadata": {},
   "outputs": [],
   "source": [
    "x = results.loc['01_AUS']\n",
    "x.head()"
   ]
  },
  {
   "cell_type": "code",
   "execution_count": null,
   "metadata": {},
   "outputs": [],
   "source": [
    "fig, ax = plt.subplots()\n",
    "ax.plot(x.index,x[['Predicted RETT']], 'o', label=\"Predictions\")\n",
    "#ax.plot(simple_df[['ds']],simple_df[[\"y\"]], 'o', label=\"Actual\")\n",
    "#ax.legend(loc=\"best\")"
   ]
  },
  {
   "cell_type": "markdown",
   "metadata": {},
   "source": [
    "# Cleaned up using own functions"
   ]
  },
  {
   "cell_type": "code",
   "execution_count": null,
   "metadata": {},
   "outputs": [],
   "source": [
    "%matplotlib inline"
   ]
  },
  {
   "cell_type": "code",
   "execution_count": null,
   "metadata": {},
   "outputs": [],
   "source": [
    "# import packages\n",
    "\n",
    "import pandas as pd\n",
    "import numpy as np\n",
    "import matplotlib.pyplot as plt\n",
    "from sklearn.linear_model import LinearRegression"
   ]
  },
  {
   "cell_type": "code",
   "execution_count": null,
   "metadata": {},
   "outputs": [],
   "source": [
    "def run_regression(models, economies, df, x, y):\n",
    "    \"\"\"\n",
    "    Perform linear regression for one or multiple economies.\n",
    "    economy = list of economies\n",
    "    models = {economy: LinearRegression() for economy in economies}\n",
    "    The function returns a dictionary of economy-model pairs. That is,\n",
    "    each economy will have its own set of coefficients.\n",
    "    \"\"\"\n",
    "    for economy, model in models.items():\n",
    "            (model.fit(df.loc[economy, x],\n",
    "                df.loc[economy, y]))\n",
    "    return models  "
   ]
  },
  {
   "cell_type": "code",
   "execution_count": null,
   "metadata": {},
   "outputs": [],
   "source": [
    "def run_prediction(models, economies, df, ResultsColumn):\n",
    "    \"\"\"\n",
    "    Use coefficients from run_regression to generate predictions.\n",
    "    Pass a dataframe df with the X and Y data. \n",
    "    ResultsColumn = name of prediction results\n",
    "    \"\"\"\n",
    "    df_list =[]\n",
    "    # run predictions\n",
    "    for economy, model in models.items():\n",
    "            # make prediction\n",
    "            prediction = model.predict(df.loc[economy,:])\n",
    "            \n",
    "            # adding to the input df\n",
    "            df2 = df.loc[economy,:]\n",
    "            df2.insert(loc=0,column=\"Results\",value=prediction)\n",
    "            df2.insert(loc=0,column='Economy',value=economy)\n",
    "            df2 = df2.reset_index()\n",
    "            df2 = df2.set_index(['Economy','Year'])\n",
    "            df_list.append(df2)\n",
    "\n",
    "    # combine individual economy dataframes to one dataframe\n",
    "    dfResults = pd.concat(df_list, sort=True)\n",
    "    return dfResults"
   ]
  },
  {
   "cell_type": "code",
   "execution_count": null,
   "metadata": {},
   "outputs": [],
   "source": [
    "df = pd.read_csv(\"../data/raw/Residential/AUS_Data.csv\",\n",
    "                index_col=['Economy','Year'])"
   ]
  },
  {
   "cell_type": "code",
   "execution_count": null,
   "metadata": {},
   "outputs": [],
   "source": [
    "economies = df.index.unique(level=0)\n",
    "economies"
   ]
  },
  {
   "cell_type": "code",
   "execution_count": null,
   "metadata": {},
   "outputs": [],
   "source": [
    "# get list of economies and create economy-model pairs\n",
    "\n",
    "models = {economy: LinearRegression() for economy in economies}"
   ]
  },
  {
   "cell_type": "code",
   "execution_count": null,
   "metadata": {},
   "outputs": [],
   "source": [
    "x = ['GDP','POP']\n",
    "y = ['RETT']\n",
    "df.tail()"
   ]
  },
  {
   "cell_type": "code",
   "execution_count": null,
   "metadata": {},
   "outputs": [],
   "source": [
    "run_regression(models,economies,df,x,y)"
   ]
  },
  {
   "cell_type": "code",
   "execution_count": null,
   "metadata": {},
   "outputs": [],
   "source": [
    "# make predictions\n",
    "\n",
    "df_future = pd.read_csv(\"../data/raw/Residential/MacroAssumptions_datetime.csv\",\n",
    "                        index_col=['Economy'])\n",
    "df_future.tail()"
   ]
  },
  {
   "cell_type": "code",
   "execution_count": null,
   "metadata": {},
   "outputs": [],
   "source": [
    "df2 = df_future.drop(columns=[\"Year\"],axis=1)\n",
    "df2 = df2.rename(columns={\"Year2\":\"Year\",\"Population\":\"POP\"})\n",
    "df2 = df2.reset_index(drop=False).set_index(['Economy','Year'])\n",
    "\n",
    "#df2 = df2.drop(columns=[\"Year\"],axis=1)\n",
    "ResultsColumn = [\"y_prediction\"]\n",
    "df2.tail()"
   ]
  },
  {
   "cell_type": "code",
   "execution_count": null,
   "metadata": {},
   "outputs": [],
   "source": [
    "results = run_prediction(models, economies, df2, ResultsColumn)\n",
    "results = results.rename(columns={\"Results\":\"Predicted RETT\"})\n",
    "results.tail()"
   ]
  },
  {
   "cell_type": "code",
   "execution_count": null,
   "metadata": {},
   "outputs": [],
   "source": [
    "x = results.loc['01_AUS']\n",
    "x.head()"
   ]
  },
  {
   "cell_type": "code",
   "execution_count": null,
   "metadata": {},
   "outputs": [],
   "source": [
    "fig, ax = plt.subplots()\n",
    "ax.plot(x.index,x[['Predicted RETT']], 'o', label=\"Predictions\")"
   ]
  },
  {
   "cell_type": "code",
   "execution_count": null,
   "metadata": {},
   "outputs": [],
   "source": []
  }
 ],
 "metadata": {
  "kernelspec": {
   "display_name": "Python 3",
   "language": "python",
   "name": "python3"
  },
  "language_info": {
   "codemirror_mode": {
    "name": "ipython",
    "version": 3
   },
   "file_extension": ".py",
   "mimetype": "text/x-python",
   "name": "python",
   "nbconvert_exporter": "python",
   "pygments_lexer": "ipython3",
   "version": "3.7.6"
  }
 },
 "nbformat": 4,
 "nbformat_minor": 4
}
