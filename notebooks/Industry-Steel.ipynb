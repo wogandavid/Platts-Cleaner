{
 "cells": [
  {
   "cell_type": "markdown",
   "metadata": {},
   "source": [
    "# Steel Regression Model"
   ]
  },
  {
   "cell_type": "code",
   "execution_count": null,
   "metadata": {},
   "outputs": [],
   "source": [
    "import pandas as pd\n",
    "import numpy as np\n",
    "from fbprophet import Prophet\n",
    "from pandas.tseries.offsets import MonthEnd"
   ]
  },
  {
   "cell_type": "markdown",
   "metadata": {},
   "source": [
    "### read in historical data"
   ]
  },
  {
   "cell_type": "code",
   "execution_count": null,
   "metadata": {},
   "outputs": [],
   "source": [
    "df_prod = pd.read_csv('../data/raw/Industry/SteelHistorical.csv')\n",
    "df_prod.head()"
   ]
  },
  {
   "cell_type": "code",
   "execution_count": null,
   "metadata": {},
   "outputs": [],
   "source": [
    "df_prod.info()"
   ]
  },
  {
   "cell_type": "markdown",
   "metadata": {},
   "source": [
    "### Make year column YYYY-MM-DD format for Prophet"
   ]
  },
  {
   "cell_type": "code",
   "execution_count": null,
   "metadata": {},
   "outputs": [],
   "source": [
    "df_prod = df_prod.set_index(['Economy'])\n",
    "df_prod.head()"
   ]
  },
  {
   "cell_type": "code",
   "execution_count": null,
   "metadata": {},
   "outputs": [],
   "source": [
    "df_prod['ds'] = pd.to_datetime(df_prod['Year'], format=\"%Y\") + MonthEnd(12)\n",
    "df_prod.head()"
   ]
  },
  {
   "cell_type": "markdown",
   "metadata": {},
   "source": [
    "### read in historical macro data"
   ]
  },
  {
   "cell_type": "code",
   "execution_count": null,
   "metadata": {},
   "outputs": [],
   "source": [
    "df_macro = pd.read_csv('../data/raw/Industry/MacroHistorical.csv')\n",
    "df_macro.head()"
   ]
  },
  {
   "cell_type": "code",
   "execution_count": null,
   "metadata": {},
   "outputs": [],
   "source": [
    "df_macro['ds']=pd.to_datetime(df_macro['Year'],format='%Y')\n",
    "df_macro['ds'] = pd.to_datetime(df_macro['ds'], format=\"%Y%m\") + MonthEnd(12)\n",
    "df_macro = df_macro.set_index(['Economy'])\n",
    "df_macro.head()"
   ]
  },
  {
   "cell_type": "code",
   "execution_count": null,
   "metadata": {},
   "outputs": [],
   "source": [
    "df_macro['GDP_per_capita'] = df_macro['GDP'].div(df_macro['Population'])\n",
    "df = pd.merge(df_prod,df_macro,how='left',on=['Economy','ds','Year'])"
   ]
  },
  {
   "cell_type": "code",
   "execution_count": null,
   "metadata": {},
   "outputs": [],
   "source": [
    "df.head()"
   ]
  },
  {
   "cell_type": "code",
   "execution_count": null,
   "metadata": {},
   "outputs": [],
   "source": [
    "df['ln_prod_per_cap'] = df['SteelConsumption'].div(df['Population'])\n",
    "df['ln_prod_per_cap'] = np.log(df['ln_prod_per_cap'])\n",
    "\n",
    "df['ln_GDP_per_cap'] = np.log(df['GDP_per_capita'])\n",
    "\n",
    "df = df.rename(columns={\"ln_prod_per_cap\":\"y\"})\n",
    "\n",
    "df.head()"
   ]
  },
  {
   "cell_type": "code",
   "execution_count": null,
   "metadata": {},
   "outputs": [],
   "source": [
    "economies = df.index.unique()\n",
    "economies"
   ]
  },
  {
   "cell_type": "code",
   "execution_count": null,
   "metadata": {},
   "outputs": [],
   "source": [
    "economies"
   ]
  },
  {
   "cell_type": "code",
   "execution_count": null,
   "metadata": {},
   "outputs": [],
   "source": [
    "models ={}\n",
    "for economy in economies:\n",
    "    m = Prophet(daily_seasonality=False,\n",
    "                   weekly_seasonality=False,\n",
    "                   yearly_seasonality=False,\n",
    "                   seasonality_mode='additive',\n",
    "                   growth='linear')\n",
    "    m.add_regressor('ln_GDP_per_cap')\n",
    "    models[economy] = m"
   ]
  },
  {
   "cell_type": "code",
   "execution_count": null,
   "metadata": {},
   "outputs": [],
   "source": [
    "models"
   ]
  },
  {
   "cell_type": "markdown",
   "metadata": {},
   "source": [
    "### fit models"
   ]
  },
  {
   "cell_type": "code",
   "execution_count": null,
   "metadata": {},
   "outputs": [],
   "source": [
    "for economy,model in models.items():\n",
    "    model.fit(df.loc[economy])  "
   ]
  },
  {
   "cell_type": "markdown",
   "metadata": {},
   "source": [
    "### add future macro data"
   ]
  },
  {
   "cell_type": "code",
   "execution_count": null,
   "metadata": {},
   "outputs": [],
   "source": [
    "df_future_macro = pd.read_csv('../data/raw/Industry/MacroAssumptions.csv',\n",
    "                             index_col=['Economy'])\n",
    "df_future_macro['GDP_per_capita'] = df_future_macro['GDP'].div(df_future_macro['Population'])\n",
    "df_future_macro['ln_GDP_per_cap'] = np.log(df_future_macro['GDP_per_capita'])\n",
    "df_future_macro.head()"
   ]
  },
  {
   "cell_type": "code",
   "execution_count": null,
   "metadata": {},
   "outputs": [],
   "source": [
    "df_future_macro['ds'] = pd.to_datetime(df_future_macro['Year'], format=\"%Y\") + MonthEnd(12)\n",
    "df_future_macro.head()"
   ]
  },
  {
   "cell_type": "code",
   "execution_count": null,
   "metadata": {},
   "outputs": [],
   "source": [
    "df_future_macro.tail()"
   ]
  },
  {
   "cell_type": "markdown",
   "metadata": {},
   "source": [
    "### create regressors for 1990-2050"
   ]
  },
  {
   "cell_type": "code",
   "execution_count": null,
   "metadata": {},
   "outputs": [],
   "source": [
    "regressors_hist = df\n",
    "regressors_fut = df_future_macro\n",
    "\n",
    "#regressors_hist = df.drop(columns=['Year','SteelConsumption','GDP','Population','GDP_per_capita','y'])\n",
    "#regressors_fut = df_future_macro.drop(columns=['Year','GDP','Population','GDP_per_capita'])\n",
    "\n",
    "\n",
    "_regressors_list =[]\n",
    "\n",
    "for economy in economies:\n",
    "    _regressors = pd.concat([regressors_hist.loc[economy],regressors_fut.loc[economy]],\n",
    "                      ignore_index=False, sort=False)\n",
    "    _regressors_list.append(_regressors)\n",
    "regressors = pd.concat(_regressors_list)"
   ]
  },
  {
   "cell_type": "markdown",
   "metadata": {},
   "source": [
    "### run model (make prediction)"
   ]
  },
  {
   "cell_type": "code",
   "execution_count": null,
   "metadata": {},
   "outputs": [],
   "source": [
    "pred_list =[]\n",
    "for economy,model in models.items():\n",
    "    forecast = model.predict(regressors.loc[economy])\n",
    "    forecast.insert(loc=0,column='Economy',value=economy)\n",
    "    forecast = forecast.set_index(['Economy'])\n",
    "    pred_list.append(forecast)\n",
    "results = pd.concat(pred_list, sort=False)"
   ]
  },
  {
   "cell_type": "code",
   "execution_count": null,
   "metadata": {},
   "outputs": [],
   "source": [
    "results[['ds', 'yhat', 'yhat_lower', 'yhat_upper']]"
   ]
  },
  {
   "cell_type": "code",
   "execution_count": null,
   "metadata": {},
   "outputs": [],
   "source": [
    "results['Year'] = results['ds'].dt.year\n",
    "#results[['Year', 'yhat', 'yhat_lower', 'yhat_upper']].to_csv ('../data/final/steel_results.csv', header=True)"
   ]
  },
  {
   "cell_type": "markdown",
   "metadata": {},
   "source": [
    "### plot results"
   ]
  },
  {
   "cell_type": "code",
   "execution_count": null,
   "metadata": {},
   "outputs": [],
   "source": [
    "for economy,model in models.items():\n",
    "    fig1 = model.plot(results.loc[economy])"
   ]
  },
  {
   "cell_type": "code",
   "execution_count": null,
   "metadata": {},
   "outputs": [],
   "source": [
    "results.info()"
   ]
  },
  {
   "cell_type": "code",
   "execution_count": null,
   "metadata": {},
   "outputs": [],
   "source": [
    "regressors.info()"
   ]
  },
  {
   "cell_type": "code",
   "execution_count": null,
   "metadata": {},
   "outputs": [],
   "source": [
    "_a = results[['ds', 'yhat', 'yhat_lower', 'yhat_upper']]\n",
    "_b = regressors[['ds','Year','GDP','Population']]\n",
    "\n",
    "_b.head()"
   ]
  },
  {
   "cell_type": "code",
   "execution_count": null,
   "metadata": {},
   "outputs": [],
   "source": [
    "#final_results = pd.merge(_a,_b,how='outer',on='ds')\n",
    "\n",
    "final_results = pd.merge(_a,_b,left_index=True, right_index=True)"
   ]
  },
  {
   "cell_type": "code",
   "execution_count": null,
   "metadata": {},
   "outputs": [],
   "source": [
    "final_results"
   ]
  },
  {
   "cell_type": "code",
   "execution_count": null,
   "metadata": {},
   "outputs": [],
   "source": [
    "final_results['estimated production - thousand tons per capita'] = (np.exp(final_results['yhat'])).div(1000)"
   ]
  },
  {
   "cell_type": "code",
   "execution_count": null,
   "metadata": {},
   "outputs": [],
   "source": [
    "final_results['estimated production - tons'] = np.multiply(final_results['estimated production - thousand tons per capita'],final_results['Population'])"
   ]
  },
  {
   "cell_type": "code",
   "execution_count": null,
   "metadata": {},
   "outputs": [],
   "source": [
    "final_results.to_csv ('../data/final/steel_results.csv', header=True)"
   ]
  },
  {
   "cell_type": "code",
   "execution_count": null,
   "metadata": {},
   "outputs": [],
   "source": []
  }
 ],
 "metadata": {
  "kernelspec": {
   "display_name": "Python 3",
   "language": "python",
   "name": "python3"
  },
  "language_info": {
   "codemirror_mode": {
    "name": "ipython",
    "version": 3
   },
   "file_extension": ".py",
   "mimetype": "text/x-python",
   "name": "python",
   "nbconvert_exporter": "python",
   "pygments_lexer": "ipython3",
   "version": "3.7.6"
  }
 },
 "nbformat": 4,
 "nbformat_minor": 4
}
