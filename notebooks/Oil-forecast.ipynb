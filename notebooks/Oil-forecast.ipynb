{
 "cells": [
  {
   "cell_type": "markdown",
   "metadata": {},
   "source": [
    "# Oil price forecast"
   ]
  },
  {
   "cell_type": "code",
   "execution_count": null,
   "metadata": {},
   "outputs": [],
   "source": [
    "# import packages\n",
    "\n",
    "import pandas as pd\n",
    "import numpy as np\n",
    "import matplotlib.pyplot as plt\n",
    "from fbprophet import Prophet"
   ]
  },
  {
   "cell_type": "code",
   "execution_count": null,
   "metadata": {},
   "outputs": [],
   "source": [
    "#import the csv file\n",
    "\n",
    "oilPrices = pd.read_csv('../data/raw/Oil//BrentOilPrices.csv')\n",
    "oilPrices.head()"
   ]
  },
  {
   "cell_type": "code",
   "execution_count": null,
   "metadata": {},
   "outputs": [],
   "source": [
    "#change column names to more comfortable names\n",
    "oilPrices.columns=['date', 'price']\n",
    "\n",
    "#Cast Date Column to type date\n",
    "\n",
    "oilPrices['date'] = pd.to_datetime(oilPrices['date'])\n",
    "\n",
    "#Check the top five records\n",
    "oilPrices.head()"
   ]
  },
  {
   "cell_type": "code",
   "execution_count": null,
   "metadata": {},
   "outputs": [],
   "source": [
    "# fill missing data\n",
    "\n",
    "oilPrices.set_index('date', inplace=True)\n",
    "oilPrices = oilPrices.resample('D').ffill().reset_index()"
   ]
  },
  {
   "cell_type": "code",
   "execution_count": null,
   "metadata": {},
   "outputs": [],
   "source": [
    "# check for null values\n",
    "\n",
    "oilPrices.isnull().values.any()"
   ]
  },
  {
   "cell_type": "code",
   "execution_count": null,
   "metadata": {},
   "outputs": [],
   "source": [
    "# split year, month and week  to explore trend\n",
    "\n",
    "oilPrices['year']=oilPrices['date'].dt.year\n",
    "oilPrices['month']=oilPrices['date'].dt.month\n",
    "oilPrices['week']=oilPrices['date'].dt.week"
   ]
  },
  {
   "cell_type": "code",
   "execution_count": null,
   "metadata": {},
   "outputs": [],
   "source": [
    "# split in to training and test sets\n",
    "\n",
    "train = oilPrices[(oilPrices['date' ] > '2000-01-01') & (oilPrices['date' ] <= '2018-12-31')]\n",
    "test = oilPrices[oilPrices['date' ] >= '2019-01-01']"
   ]
  },
  {
   "cell_type": "code",
   "execution_count": null,
   "metadata": {},
   "outputs": [],
   "source": [
    "# visualize data\n",
    "\n",
    "yearlyPrice=train.groupby([\"year\"])['price'].mean()\n",
    "plt.figure(figsize=(16,4))\n",
    "plt.title('Oil Prices')\n",
    "plt.xlabel('Year')\n",
    "plt.ylabel('Price')\n",
    "yearlyPrice.plot()\n",
    "plt.show()"
   ]
  },
  {
   "cell_type": "code",
   "execution_count": null,
   "metadata": {},
   "outputs": [],
   "source": [
    "# train the model \n",
    "\n",
    "d={'ds':train['date'],'y':train['price']}\n",
    "df_pred=pd.DataFrame(data=d)\n",
    "\n",
    "model = Prophet(daily_seasonality=False)\n",
    "model.fit(df_pred)"
   ]
  },
  {
   "cell_type": "code",
   "execution_count": null,
   "metadata": {},
   "outputs": [],
   "source": [
    "# make prediction\n",
    "\n",
    "future = model.make_future_dataframe(periods=365*2)\n",
    "forecast = model.predict(future)\n",
    "forecast[['ds', 'yhat', 'yhat_lower', 'yhat_upper']].tail()"
   ]
  },
  {
   "cell_type": "code",
   "execution_count": null,
   "metadata": {},
   "outputs": [],
   "source": [
    "# plot prediction\n",
    "\n",
    "plt.figure(figsize=(18, 6))\n",
    "model.plot(forecast, \n",
    "           xlabel = 'Date', \n",
    "           ylabel = 'Price',\n",
    "           uncertainty=False)\n",
    "\n",
    "plt.title('Brent Oil Price Prediction');"
   ]
  },
  {
   "cell_type": "code",
   "execution_count": null,
   "metadata": {},
   "outputs": [],
   "source": []
  }
 ],
 "metadata": {
  "kernelspec": {
   "display_name": "Python 3",
   "language": "python",
   "name": "python3"
  },
  "language_info": {
   "codemirror_mode": {
    "name": "ipython",
    "version": 3
   },
   "file_extension": ".py",
   "mimetype": "text/x-python",
   "name": "python",
   "nbconvert_exporter": "python",
   "pygments_lexer": "ipython3",
   "version": "3.7.3"
  }
 },
 "nbformat": 4,
 "nbformat_minor": 4
}
