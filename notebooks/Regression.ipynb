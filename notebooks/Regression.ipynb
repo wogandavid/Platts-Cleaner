{
 "cells": [
  {
   "cell_type": "markdown",
   "metadata": {},
   "source": [
    "# Prophet"
   ]
  },
  {
   "cell_type": "code",
   "execution_count": null,
   "metadata": {},
   "outputs": [],
   "source": [
    "# import packages\n",
    "\n",
    "import pandas as pd\n",
    "import numpy as np\n",
    "from fbprophet import Prophet"
   ]
  },
  {
   "cell_type": "code",
   "execution_count": null,
   "metadata": {},
   "outputs": [],
   "source": [
    "Prophet?"
   ]
  },
  {
   "cell_type": "markdown",
   "metadata": {},
   "source": [
    "## Steel"
   ]
  },
  {
   "cell_type": "code",
   "execution_count": null,
   "metadata": {},
   "outputs": [],
   "source": [
    "# import steel production\n",
    "\n",
    "df_prod = pd.read_csv('../data/raw/Industry/SteelHistorical_datetime.csv')\n",
    "df_prod.head()"
   ]
  },
  {
   "cell_type": "code",
   "execution_count": null,
   "metadata": {},
   "outputs": [],
   "source": [
    "df_prod.tail()"
   ]
  },
  {
   "cell_type": "code",
   "execution_count": null,
   "metadata": {},
   "outputs": [],
   "source": [
    "df_macro = pd.read_csv('../data/raw/Industry/MacroHistorical_datetime.csv')"
   ]
  },
  {
   "cell_type": "code",
   "execution_count": null,
   "metadata": {},
   "outputs": [],
   "source": [
    "df_macro.head()"
   ]
  },
  {
   "cell_type": "code",
   "execution_count": null,
   "metadata": {},
   "outputs": [],
   "source": [
    "df_macro.tail()"
   ]
  },
  {
   "cell_type": "code",
   "execution_count": null,
   "metadata": {},
   "outputs": [],
   "source": [
    "# create per capita\n",
    "\n",
    "df_macro['GDP_per_capita'] = df_macro['GDP'].div(df_macro['Population'])"
   ]
  },
  {
   "cell_type": "code",
   "execution_count": null,
   "metadata": {},
   "outputs": [],
   "source": [
    "# merge dataframes\n",
    "\n",
    "df = pd.merge(df_prod,df_macro,how='left',on=['Economy','Year'])"
   ]
  },
  {
   "cell_type": "code",
   "execution_count": null,
   "metadata": {},
   "outputs": [],
   "source": [
    "# Select AUS\n",
    "df = df.set_index('Economy')\n",
    "df = df.loc['AUS']"
   ]
  },
  {
   "cell_type": "code",
   "execution_count": null,
   "metadata": {},
   "outputs": [],
   "source": [
    "# make Year ds and use only AUS\n",
    "df =df.reset_index()\n",
    "df.head()"
   ]
  },
  {
   "cell_type": "code",
   "execution_count": null,
   "metadata": {},
   "outputs": [],
   "source": [
    "df.tail()"
   ]
  },
  {
   "cell_type": "code",
   "execution_count": null,
   "metadata": {},
   "outputs": [],
   "source": [
    "# create natural log of production per capita as a feature\n",
    "\n",
    "df['ln_prod_per_cap'] = df['SteelConsumption'].div(df['Population'])\n",
    "df['ln_prod_per_cap'] = np.log(df['ln_prod_per_cap'])\n",
    "\n",
    "df['ln_GDP_per_cap'] = np.log(df['GDP_per_capita'])\n",
    "\n",
    "df.head()"
   ]
  },
  {
   "cell_type": "code",
   "execution_count": null,
   "metadata": {},
   "outputs": [],
   "source": [
    "df = df.rename(columns={\"Economy\": \"e\", \"Year\": \"ds\",\"ln_prod_per_cap\":\"y\"})\n",
    "df.head()"
   ]
  },
  {
   "cell_type": "code",
   "execution_count": null,
   "metadata": {},
   "outputs": [],
   "source": [
    "m = Prophet(daily_seasonality=False,\n",
    "            weekly_seasonality=False,\n",
    "            yearly_seasonality=False,\n",
    "            seasonality_mode='multiplicative',\n",
    "            growth='linear')\n",
    "\n",
    "m.add_regressor('ln_GDP_per_cap')\n",
    "m.fit(df)"
   ]
  },
  {
   "cell_type": "code",
   "execution_count": null,
   "metadata": {},
   "outputs": [],
   "source": [
    "# add future GDP\n",
    "\n",
    "df_future_macro = pd.read_csv('../data/raw/Industry/MacroAssumptions_datetime.csv')\n",
    "df_future_macro.head()"
   ]
  },
  {
   "cell_type": "code",
   "execution_count": null,
   "metadata": {},
   "outputs": [],
   "source": [
    "# create per capita\n",
    "\n",
    "df_future_macro['GDP_per_capita'] = df_future_macro['GDP'].div(df_future_macro['Population'])"
   ]
  },
  {
   "cell_type": "code",
   "execution_count": null,
   "metadata": {},
   "outputs": [],
   "source": [
    "# select only AUS\n",
    "\n",
    "df_future_macro = df_future_macro.set_index('Economy')\n",
    "df_future_macro = df_future_macro.loc['AUS']\n",
    "df_future_macro = df_future_macro.reset_index()\n",
    "df_future_macro.tail()"
   ]
  },
  {
   "cell_type": "code",
   "execution_count": null,
   "metadata": {},
   "outputs": [],
   "source": [
    "# create natural log of GDP per capita\n",
    "df_future_macro['ln_GDP_per_cap'] = np.log(df_future_macro['GDP_per_capita'])\n",
    "df_future_macro.head()"
   ]
  },
  {
   "cell_type": "code",
   "execution_count": null,
   "metadata": {},
   "outputs": [],
   "source": [
    "# extract GDP_per_capita for 1980-2050\n",
    "\n",
    "df1 = pd.DataFrame(columns = ['ln_GDP_per_cap'])\n",
    "df2 = pd.DataFrame(columns = ['ln_GDP_per_cap'])\n",
    "\n",
    "df1['ln_GDP_per_cap'] = df['ln_GDP_per_cap']\n",
    "df2['ln_GDP_per_cap'] = df_future_macro['ln_GDP_per_cap']\n",
    "#df1 = df['GDP_per_capita']\n",
    "#df2 = df_future_macro['GDP_per_capita']"
   ]
  },
  {
   "cell_type": "code",
   "execution_count": null,
   "metadata": {},
   "outputs": [],
   "source": [
    "df2.info()"
   ]
  },
  {
   "cell_type": "code",
   "execution_count": null,
   "metadata": {},
   "outputs": [],
   "source": [
    "df_future = pd.concat([df1,df2],\n",
    "                     ignore_index=True)"
   ]
  },
  {
   "cell_type": "code",
   "execution_count": null,
   "metadata": {},
   "outputs": [],
   "source": [
    "df_future.info()"
   ]
  },
  {
   "cell_type": "code",
   "execution_count": null,
   "metadata": {},
   "outputs": [],
   "source": [
    "m.make_future_dataframe?"
   ]
  },
  {
   "cell_type": "code",
   "execution_count": null,
   "metadata": {},
   "outputs": [],
   "source": [
    "future = m.make_future_dataframe(periods=34,\n",
    "                                 freq = 'Y',\n",
    "                                 include_history=True)\n",
    "future.head()"
   ]
  },
  {
   "cell_type": "code",
   "execution_count": null,
   "metadata": {},
   "outputs": [],
   "source": [
    "future.tail()"
   ]
  },
  {
   "cell_type": "code",
   "execution_count": null,
   "metadata": {},
   "outputs": [],
   "source": [
    "future['ln_GDP_per_cap']=df_future['ln_GDP_per_cap']"
   ]
  },
  {
   "cell_type": "code",
   "execution_count": null,
   "metadata": {},
   "outputs": [],
   "source": [
    "future.head()"
   ]
  },
  {
   "cell_type": "code",
   "execution_count": null,
   "metadata": {},
   "outputs": [],
   "source": [
    "future.tail()"
   ]
  },
  {
   "cell_type": "code",
   "execution_count": null,
   "metadata": {},
   "outputs": [],
   "source": [
    "forecast = m.predict(future)\n",
    "forecast[['ds', 'yhat', 'yhat_lower', 'yhat_upper']].tail()"
   ]
  },
  {
   "cell_type": "code",
   "execution_count": null,
   "metadata": {},
   "outputs": [],
   "source": [
    "fig1 = m.plot(forecast)"
   ]
  },
  {
   "cell_type": "markdown",
   "metadata": {},
   "source": [
    "# Use Own Function with SciKit-Learn"
   ]
  },
  {
   "cell_type": "code",
   "execution_count": null,
   "metadata": {},
   "outputs": [],
   "source": [
    "import pandas as pd\n",
    "import numpy as np\n",
    "import matplotlib.pyplot as plt\n",
    "from sklearn.linear_model import LinearRegression"
   ]
  },
  {
   "cell_type": "code",
   "execution_count": null,
   "metadata": {},
   "outputs": [],
   "source": [
    "def run_regression(models, economies, df, x, y):\n",
    "    \"\"\"\n",
    "    Perform linear regression for one or multiple economies.\n",
    "    economy = list of economies\n",
    "    models = {economy: LinearRegression() for economy in economies}\n",
    "    The function returns a dictionary of economy-model pairs. That is,\n",
    "    each economy will have its own set of coefficients.\n",
    "    \"\"\"\n",
    "    for economy, model in models.items():\n",
    "            (model.fit(df.loc[economy, x],\n",
    "                df.loc[economy, y]))\n",
    "    return models  "
   ]
  },
  {
   "cell_type": "code",
   "execution_count": null,
   "metadata": {},
   "outputs": [],
   "source": [
    "def run_prediction(models, economies, df):\n",
    "    \"\"\"\n",
    "    Use coefficients from run_regression to generate predictions.\n",
    "    Pass a dataframe df with the X and Y data. \n",
    "    ResultsColumn = name of prediction results\n",
    "    \"\"\"\n",
    "    df_list =[]\n",
    "    # run predictions\n",
    "    for economy, model in models.items():\n",
    "            # make prediction\n",
    "            prediction = model.predict(df.loc[economy,:])\n",
    "            \n",
    "            # adding to the input df\n",
    "            df2 = df.loc[economy,:]\n",
    "            df2.insert(loc=0,column=\"Results\",value=prediction)\n",
    "            df2.insert(loc=0,column='Economy',value=economy)\n",
    "            df2 = df2.reset_index()\n",
    "            df2 = df2.set_index(['Economy','Year'])\n",
    "            df_list.append(df2)\n",
    "\n",
    "    # combine individual economy dataframes to one dataframe\n",
    "    dfResults = pd.concat(df_list, sort=True)\n",
    "    return dfResults"
   ]
  },
  {
   "cell_type": "markdown",
   "metadata": {},
   "source": [
    "### import steel production"
   ]
  },
  {
   "cell_type": "code",
   "execution_count": null,
   "metadata": {},
   "outputs": [],
   "source": [
    "df_prod = pd.read_csv('../data/raw/Industry/SteelHistorical.csv',\n",
    "                     index_col=['Economy','Year'])\n",
    "df_prod.head()"
   ]
  },
  {
   "cell_type": "code",
   "execution_count": null,
   "metadata": {},
   "outputs": [],
   "source": [
    "df_macro = pd.read_csv('../data/raw/Industry/MacroHistorical.csv',\n",
    "                      index_col=['Economy','Year'])\n",
    "df_macro.head()"
   ]
  },
  {
   "cell_type": "markdown",
   "metadata": {},
   "source": [
    "### create features"
   ]
  },
  {
   "cell_type": "code",
   "execution_count": null,
   "metadata": {},
   "outputs": [],
   "source": [
    "df_macro['GDP_per_capita'] = df_macro['GDP'].div(df_macro['Population'])"
   ]
  },
  {
   "cell_type": "code",
   "execution_count": null,
   "metadata": {},
   "outputs": [],
   "source": [
    "df = pd.merge(df_prod,df_macro,how='left',on=['Economy','Year'])"
   ]
  },
  {
   "cell_type": "code",
   "execution_count": null,
   "metadata": {},
   "outputs": [],
   "source": [
    "df['ln_prod_per_cap'] = df['SteelConsumption'].div(df['Population'])\n",
    "df['ln_prod_per_cap'] = np.log(df['ln_prod_per_cap'])\n",
    "\n",
    "df['ln_GDP_per_cap'] = np.log(df['GDP_per_capita'])\n",
    "\n",
    "df.head()"
   ]
  },
  {
   "cell_type": "code",
   "execution_count": null,
   "metadata": {},
   "outputs": [],
   "source": [
    "economies = df.index.unique(level=0)\n",
    "economies"
   ]
  },
  {
   "cell_type": "code",
   "execution_count": null,
   "metadata": {},
   "outputs": [],
   "source": [
    "models = {economy: LinearRegression(fit_intercept=True) for economy in economies}"
   ]
  },
  {
   "cell_type": "code",
   "execution_count": null,
   "metadata": {},
   "outputs": [],
   "source": [
    "x = ['ln_GDP_per_cap']\n",
    "y = ['ln_prod_per_cap']"
   ]
  },
  {
   "cell_type": "code",
   "execution_count": null,
   "metadata": {},
   "outputs": [],
   "source": [
    "run_regression(models,economies,df,x,y)"
   ]
  },
  {
   "cell_type": "markdown",
   "metadata": {},
   "source": [
    "### make predictions"
   ]
  },
  {
   "cell_type": "code",
   "execution_count": null,
   "metadata": {},
   "outputs": [],
   "source": [
    "df_future_macro = pd.read_csv('../data/raw/Industry/MacroAssumptions.csv',\n",
    "                             index_col=['Economy','Year'])\n",
    "df_future_macro['GDP_per_capita'] = df_future_macro['GDP'].div(df_future_macro['Population'])\n",
    "df_future_macro.head()"
   ]
  },
  {
   "cell_type": "code",
   "execution_count": null,
   "metadata": {},
   "outputs": [],
   "source": [
    "df_future_macro['ln_GDP_per_cap'] = np.log(df_future_macro['GDP_per_capita'])\n",
    "df2 = df_future_macro.drop(['GDP', 'Population','GDP_per_capita'], axis=1)\n",
    "df2.head()"
   ]
  },
  {
   "cell_type": "code",
   "execution_count": null,
   "metadata": {},
   "outputs": [],
   "source": [
    "results = run_prediction(models, economies, df2)\n",
    "results = results.rename(columns={\"Results\":\"ln_steel_consumption\"})\n",
    "results.head()"
   ]
  },
  {
   "cell_type": "markdown",
   "metadata": {},
   "source": [
    "### plot results"
   ]
  },
  {
   "cell_type": "code",
   "execution_count": null,
   "metadata": {},
   "outputs": [],
   "source": [
    "x = results.loc['AUS']\n",
    "x.head()"
   ]
  },
  {
   "cell_type": "code",
   "execution_count": null,
   "metadata": {},
   "outputs": [],
   "source": [
    "fig, ax = plt.subplots()\n",
    "ax.plot(x.index,x[['ln_steel_consumption']], 'o', label=\"Predictions\")"
   ]
  },
  {
   "cell_type": "markdown",
   "metadata": {},
   "source": [
    "# Prophet Function"
   ]
  },
  {
   "cell_type": "code",
   "execution_count": null,
   "metadata": {},
   "outputs": [],
   "source": [
    "import pandas as pd\n",
    "import numpy as np\n",
    "from fbprophet import Prophet"
   ]
  },
  {
   "cell_type": "code",
   "execution_count": null,
   "metadata": {},
   "outputs": [],
   "source": [
    "df_prod = pd.read_csv('../data/raw/Industry/SteelHistorical.csv')\n",
    "df_prod.head()"
   ]
  },
  {
   "cell_type": "code",
   "execution_count": null,
   "metadata": {},
   "outputs": [],
   "source": [
    "df_prod['ds']=pd.to_datetime(df_prod['Year'],format='%Y')\n",
    "df_prod.head()"
   ]
  },
  {
   "cell_type": "code",
   "execution_count": null,
   "metadata": {},
   "outputs": [],
   "source": [
    "df_prod = df_prod.set_index(['Economy'])\n",
    "df_prod.head()"
   ]
  },
  {
   "cell_type": "code",
   "execution_count": null,
   "metadata": {},
   "outputs": [],
   "source": [
    "df_macro = pd.read_csv('../data/raw/Industry/MacroHistorical.csv')\n",
    "df_macro.head()"
   ]
  },
  {
   "cell_type": "code",
   "execution_count": null,
   "metadata": {},
   "outputs": [],
   "source": [
    "df_macro['ds']=pd.to_datetime(df_macro['Year'],format='%Y')\n",
    "df_macro = df_macro.set_index(['Economy'])\n",
    "df_macro.head()"
   ]
  },
  {
   "cell_type": "code",
   "execution_count": null,
   "metadata": {},
   "outputs": [],
   "source": [
    "df_macro['GDP_per_capita'] = df_macro['GDP'].div(df_macro['Population'])\n",
    "df = pd.merge(df_prod,df_macro,how='left',on=['Economy','ds','Year'])"
   ]
  },
  {
   "cell_type": "code",
   "execution_count": null,
   "metadata": {},
   "outputs": [],
   "source": [
    "df.head()"
   ]
  },
  {
   "cell_type": "code",
   "execution_count": null,
   "metadata": {},
   "outputs": [],
   "source": [
    "df['ln_prod_per_cap'] = df['SteelConsumption'].div(df['Population'])\n",
    "df['ln_prod_per_cap'] = np.log(df['ln_prod_per_cap'])\n",
    "\n",
    "df['ln_GDP_per_cap'] = np.log(df['GDP_per_capita'])\n",
    "\n",
    "df = df.rename(columns={\"ln_prod_per_cap\":\"y\"})\n",
    "\n",
    "df.head()"
   ]
  },
  {
   "cell_type": "code",
   "execution_count": null,
   "metadata": {},
   "outputs": [],
   "source": [
    "\n",
    "\n",
    "models = {economy: m for economy in economies}"
   ]
  },
  {
   "cell_type": "code",
   "execution_count": null,
   "metadata": {},
   "outputs": [],
   "source": [
    "economies = df.index.unique()\n",
    "economies"
   ]
  },
  {
   "cell_type": "code",
   "execution_count": null,
   "metadata": {},
   "outputs": [],
   "source": [
    "def run_regression(economies, df):\n",
    "    \"\"\"\n",
    "    Perform linear regression for one or multiple economies.\n",
    "    economy = list of economies\n",
    "    models = {economy: LinearRegression() for economy in economies}\n",
    "    The function returns a dictionary of economy-model pairs. That is,\n",
    "    each economy will have its own set of coefficients.\n",
    "    \"\"\"\n",
    "    models={}\n",
    "    m = Prophet(daily_seasonality=False,\n",
    "    weekly_seasonality=False,\n",
    "    yearly_seasonality=False,\n",
    "    seasonality_mode='multiplicative',\n",
    "    growth='linear')\n",
    "    for economy in economies:\n",
    "        m.add_regressor('ln_GDP_per_cap')\n",
    "            \n",
    "    return m.fit(df.loc[economy])  "
   ]
  },
  {
   "cell_type": "code",
   "execution_count": null,
   "metadata": {},
   "outputs": [],
   "source": [
    "run_regression(economies, df)"
   ]
  },
  {
   "cell_type": "code",
   "execution_count": null,
   "metadata": {},
   "outputs": [],
   "source": [
    "models"
   ]
  },
  {
   "cell_type": "code",
   "execution_count": null,
   "metadata": {},
   "outputs": [],
   "source": []
  }
 ],
 "metadata": {
  "kernelspec": {
   "display_name": "Python 3",
   "language": "python",
   "name": "python3"
  },
  "language_info": {
   "codemirror_mode": {
    "name": "ipython",
    "version": 3
   },
   "file_extension": ".py",
   "mimetype": "text/x-python",
   "name": "python",
   "nbconvert_exporter": "python",
   "pygments_lexer": "ipython3",
   "version": "3.7.6"
  }
 },
 "nbformat": 4,
 "nbformat_minor": 4
}
