{
 "cells": [
  {
   "cell_type": "markdown",
   "metadata": {},
   "source": [
    "# Manipulate Platts Database"
   ]
  },
  {
   "cell_type": "code",
   "execution_count": null,
   "metadata": {},
   "outputs": [],
   "source": [
    "# import packages\n",
    "\n",
    "import pandas as pd\n",
    "import numpy as np "
   ]
  },
  {
   "cell_type": "code",
   "execution_count": null,
   "metadata": {},
   "outputs": [],
   "source": [
    "# read in Platts files\n",
    "# they come as Maco-enabled so saved as regular XLSX files to read in\n",
    "\n",
    "df_ASIA = pd.read_excel(\"../data/raw/Platts/MI_WorldElectricPowerPlants_Asia_March2019_v1.xlsx\",\n",
    "                        sheet_name=\"ASIA\", \n",
    "                        skiprows=4,\n",
    "                       na_values=[0])\n",
    "\n",
    "df_NorthAmerica = pd.read_excel(\"../data/raw/Platts/MI_WorldElectricPowerPlants_NorthAmerica_March2019_v1.xlsx\",\n",
    "                        sheet_name=\"NAMERICA\", \n",
    "                        skiprows=4,\n",
    "                       na_values=[0])\n",
    "\n",
    "df_Other = pd.read_excel(\"../data/raw/Platts/MI_WorldElectricPowerPlants_Other_March2019_v1.xlsx\",\n",
    "                        sheet_name=\"OTHER\", \n",
    "                        skiprows=4,\n",
    "                       na_values=[0])\n"
   ]
  },
  {
   "cell_type": "code",
   "execution_count": null,
   "metadata": {},
   "outputs": [],
   "source": [
    "df_ASIA.head()"
   ]
  },
  {
   "cell_type": "code",
   "execution_count": null,
   "metadata": {},
   "outputs": [],
   "source": [
    "df_ASIA.info()"
   ]
  },
  {
   "cell_type": "code",
   "execution_count": null,
   "metadata": {},
   "outputs": [],
   "source": [
    "# combine to one big df\n",
    "\n",
    "df_ALL = pd.concat([df_ASIA, df_NorthAmerica, df_Other])"
   ]
  },
  {
   "cell_type": "code",
   "execution_count": null,
   "metadata": {},
   "outputs": [],
   "source": [
    "# drop unnecessary first column\n",
    "\n",
    "df_ALL = df_ALL.drop(['Unnamed: 0','POSTCODE'],axis=1)"
   ]
  },
  {
   "cell_type": "code",
   "execution_count": null,
   "metadata": {},
   "outputs": [],
   "source": [
    "# example to combine capacities in src/Platts/example_aggregate_technologies.py"
   ]
  },
  {
   "cell_type": "code",
   "execution_count": null,
   "metadata": {},
   "outputs": [],
   "source": []
  }
 ],
 "metadata": {
  "kernelspec": {
   "display_name": "Python 3",
   "language": "python",
   "name": "python3"
  },
  "language_info": {
   "codemirror_mode": {
    "name": "ipython",
    "version": 3
   },
   "file_extension": ".py",
   "mimetype": "text/x-python",
   "name": "python",
   "nbconvert_exporter": "python",
   "pygments_lexer": "ipython3",
   "version": "3.7.3"
  }
 },
 "nbformat": 4,
 "nbformat_minor": 4
}
