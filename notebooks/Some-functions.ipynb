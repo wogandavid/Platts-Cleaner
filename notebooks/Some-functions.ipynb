{
 "cells": [
  {
   "cell_type": "markdown",
   "metadata": {},
   "source": [
    "# Some functions"
   ]
  },
  {
   "cell_type": "code",
   "execution_count": null,
   "metadata": {},
   "outputs": [],
   "source": [
    "def run_regression(models, economies, df, x, y):\n",
    "    \"\"\"\n",
    "    Perform linear regression for one or multiple economies.\n",
    "    economy = list of economies\n",
    "    models = {economy: LinearRegression() for economy in economies}\n",
    "    The function returns a dictionary of economy-model pairs. That is,\n",
    "    each economy will have its own set of coefficients.\n",
    "    \"\"\"\n",
    "    for economy, model in models.items():\n",
    "            (model.fit(df.loc[economy, x],\n",
    "                df.loc[economy, y]))\n",
    "    return models            "
   ]
  },
  {
   "cell_type": "code",
   "execution_count": null,
   "metadata": {},
   "outputs": [],
   "source": [
    "def run_prediction(models, economies, df, ResultsColumn):\n",
    "    \"\"\"\n",
    "    Use coefficients from run_regression to generate predictions.\n",
    "    Pass a dataframe df with the X and Y data. \n",
    "    ResultsColumn = name of prediction results\n",
    "    \"\"\"\n",
    "    df_list =[]\n",
    "    # run predictions\n",
    "    for economy, model in models.items():\n",
    "            years = df['Year']\n",
    "            years.reset_index(drop=True, inplace=True)\n",
    "            prediction = model.predict(df.loc[economy,:])\n",
    "            df_name = pd.DataFrame(np.exp(prediction), columns=ResultsColumn)\n",
    "            df_name.insert(loc=0,column='Year',value=years)\n",
    "            df_name.insert(loc=0,column='Economy',value=economy)\n",
    "            df_list.append(df_name)\n",
    "    # combine individual economy dataframes to one dataframe\n",
    "    dfResults = pd.concat(df_list, sort=True)\n",
    "    return dfResults"
   ]
  },
  {
   "cell_type": "code",
   "execution_count": null,
   "metadata": {},
   "outputs": [],
   "source": [
    "def cagr(start_value, end_value, num_periods):\n",
    "    \"\"\"\n",
    "    Calculate compound annual growth rate\n",
    "    \"\"\"\n",
    "    return (end_value / start_value) ** (1 / (num_periods - 1)) - 1"
   ]
  },
  {
   "cell_type": "code",
   "execution_count": null,
   "metadata": {},
   "outputs": [],
   "source": [
    "def calcCAGR(df,economies):\n",
    "    \"\"\"\n",
    "    Calculate CAGR for all economies.\n",
    "    df = dataframe with columns of data for growth rates\n",
    "    economies = list of economies\n",
    "    \"\"\"\n",
    "    df_list = []\n",
    "    for economy in economies.flatten():\n",
    "        df11 = df[df['Economy']==economy]\n",
    "        for col in df11.drop(['Economy','Year'], axis=1):        \n",
    "            start_value = float(df11[col].iloc[0])\n",
    "            end_value = float(df11[col].iloc[-1])\n",
    "            num_periods = len(df11[col])\n",
    "            cagr_result = cagr(start_value, end_value, num_periods)\n",
    "            df_list.append((economy,col,cagr_result))\n",
    "    df = pd.DataFrame(df_list, columns=['A','B','C'])\n",
    "    return df"
   ]
  },
  {
   "cell_type": "code",
   "execution_count": null,
   "metadata": {},
   "outputs": [],
   "source": [
    "def calcYOY(df,economies):\n",
    "    \"\"\"\n",
    "    Calculate year-over-year for all economies.\n",
    "    df = dataframe with columns of data for growth rates\n",
    "    economies = list of economies\n",
    "    \"\"\"\n",
    "    df_list = []\n",
    "    for economy in economies.flatten():\n",
    "        df11 = df.loc[economy]\n",
    "        yoy = df11.pct_change()\n",
    "        yoy.reset_index(inplace=True)\n",
    "        yoy.insert(loc=0,column='Economy',value=economy)\n",
    "        df_list.append(yoy)\n",
    "    dfPC = pd.concat(df_list)\n",
    "    return dfPC"
   ]
  },
  {
   "cell_type": "code",
   "execution_count": null,
   "metadata": {},
   "outputs": [],
   "source": []
  }
 ],
 "metadata": {
  "kernelspec": {
   "display_name": "Python 3",
   "language": "python",
   "name": "python3"
  },
  "language_info": {
   "codemirror_mode": {
    "name": "ipython",
    "version": 3
   },
   "file_extension": ".py",
   "mimetype": "text/x-python",
   "name": "python",
   "nbconvert_exporter": "python",
   "pygments_lexer": "ipython3",
   "version": "3.7.3"
  }
 },
 "nbformat": 4,
 "nbformat_minor": 4
}
